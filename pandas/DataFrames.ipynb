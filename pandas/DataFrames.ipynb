{
 "cells": [
  {
   "cell_type": "markdown",
   "id": "4544fbe3-982e-46b6-947c-ec23c76131d7",
   "metadata": {},
   "source": [
    "# Основы DataFrames, которые состоят из Series"
   ]
  },
  {
   "cell_type": "code",
   "execution_count": 126,
   "id": "88226c67-9f29-4d94-908c-fb718752db24",
   "metadata": {},
   "outputs": [],
   "source": [
    "import numpy as np\n",
    "import pandas as pd"
   ]
  },
  {
   "cell_type": "markdown",
   "id": "04713ae0-6595-43d0-b41c-c5640005a073",
   "metadata": {},
   "source": [
    "#shift + tab"
   ]
  },
  {
   "cell_type": "code",
   "execution_count": 127,
   "id": "af4c07cb-146f-44f8-818e-0d7a171c28f8",
   "metadata": {},
   "outputs": [],
   "source": [
    "my_df = pd.DataFrame(np.random.randn(4,5), [1,2,3,4], ['yellow', 'orange', 'red', 'green', 'blue'])"
   ]
  },
  {
   "cell_type": "code",
   "execution_count": 128,
   "id": "3b4e5679-3ebb-46db-8651-3a756ea4897f",
   "metadata": {},
   "outputs": [
    {
     "data": {
      "text/html": [
       "<div>\n",
       "<style scoped>\n",
       "    .dataframe tbody tr th:only-of-type {\n",
       "        vertical-align: middle;\n",
       "    }\n",
       "\n",
       "    .dataframe tbody tr th {\n",
       "        vertical-align: top;\n",
       "    }\n",
       "\n",
       "    .dataframe thead th {\n",
       "        text-align: right;\n",
       "    }\n",
       "</style>\n",
       "<table border=\"1\" class=\"dataframe\">\n",
       "  <thead>\n",
       "    <tr style=\"text-align: right;\">\n",
       "      <th></th>\n",
       "      <th>yellow</th>\n",
       "      <th>orange</th>\n",
       "      <th>red</th>\n",
       "      <th>green</th>\n",
       "      <th>blue</th>\n",
       "    </tr>\n",
       "  </thead>\n",
       "  <tbody>\n",
       "    <tr>\n",
       "      <th>1</th>\n",
       "      <td>-0.186215</td>\n",
       "      <td>-0.747232</td>\n",
       "      <td>1.743737</td>\n",
       "      <td>0.280334</td>\n",
       "      <td>0.976387</td>\n",
       "    </tr>\n",
       "    <tr>\n",
       "      <th>2</th>\n",
       "      <td>-0.890806</td>\n",
       "      <td>1.337814</td>\n",
       "      <td>-1.064275</td>\n",
       "      <td>0.560981</td>\n",
       "      <td>1.110134</td>\n",
       "    </tr>\n",
       "    <tr>\n",
       "      <th>3</th>\n",
       "      <td>-0.787999</td>\n",
       "      <td>1.390708</td>\n",
       "      <td>0.696914</td>\n",
       "      <td>1.066066</td>\n",
       "      <td>-0.136908</td>\n",
       "    </tr>\n",
       "    <tr>\n",
       "      <th>4</th>\n",
       "      <td>0.308412</td>\n",
       "      <td>2.243492</td>\n",
       "      <td>1.050017</td>\n",
       "      <td>-0.053497</td>\n",
       "      <td>0.067189</td>\n",
       "    </tr>\n",
       "  </tbody>\n",
       "</table>\n",
       "</div>"
      ],
      "text/plain": [
       "     yellow    orange       red     green      blue\n",
       "1 -0.186215 -0.747232  1.743737  0.280334  0.976387\n",
       "2 -0.890806  1.337814 -1.064275  0.560981  1.110134\n",
       "3 -0.787999  1.390708  0.696914  1.066066 -0.136908\n",
       "4  0.308412  2.243492  1.050017 -0.053497  0.067189"
      ]
     },
     "execution_count": 128,
     "metadata": {},
     "output_type": "execute_result"
    }
   ],
   "source": [
    "my_df"
   ]
  },
  {
   "cell_type": "code",
   "execution_count": 129,
   "id": "b2462c64-e17d-42a4-809b-b59b64528404",
   "metadata": {},
   "outputs": [
    {
     "data": {
      "text/plain": [
       "1   -0.747232\n",
       "2    1.337814\n",
       "3    1.390708\n",
       "4    2.243492\n",
       "Name: orange, dtype: float64"
      ]
     },
     "execution_count": 129,
     "metadata": {},
     "output_type": "execute_result"
    }
   ],
   "source": [
    "my_df['orange']"
   ]
  },
  {
   "cell_type": "code",
   "execution_count": 130,
   "id": "455385f8-afa0-4226-85fa-62fe149462b4",
   "metadata": {},
   "outputs": [
    {
     "data": {
      "text/plain": [
       "1    1.743737\n",
       "2   -1.064275\n",
       "3    0.696914\n",
       "4    1.050017\n",
       "Name: red, dtype: float64"
      ]
     },
     "execution_count": 130,
     "metadata": {},
     "output_type": "execute_result"
    }
   ],
   "source": [
    "my_df['red']"
   ]
  },
  {
   "cell_type": "code",
   "execution_count": 131,
   "id": "efe7a8ba-09cb-4ed6-9949-a7c19d170373",
   "metadata": {},
   "outputs": [
    {
     "data": {
      "text/plain": [
       "pandas.core.series.Series"
      ]
     },
     "execution_count": 131,
     "metadata": {},
     "output_type": "execute_result"
    }
   ],
   "source": [
    "type(my_df['orange'])"
   ]
  },
  {
   "cell_type": "code",
   "execution_count": 132,
   "id": "a0657634-8dcb-4619-af00-20ab09dfd3a6",
   "metadata": {},
   "outputs": [
    {
     "data": {
      "text/plain": [
       "pandas.core.frame.DataFrame"
      ]
     },
     "execution_count": 132,
     "metadata": {},
     "output_type": "execute_result"
    }
   ],
   "source": [
    "type(my_df)"
   ]
  },
  {
   "cell_type": "code",
   "execution_count": 133,
   "id": "17b8266c-9f16-4f79-9173-7e867d69ce8f",
   "metadata": {},
   "outputs": [
    {
     "data": {
      "text/html": [
       "<div>\n",
       "<style scoped>\n",
       "    .dataframe tbody tr th:only-of-type {\n",
       "        vertical-align: middle;\n",
       "    }\n",
       "\n",
       "    .dataframe tbody tr th {\n",
       "        vertical-align: top;\n",
       "    }\n",
       "\n",
       "    .dataframe thead th {\n",
       "        text-align: right;\n",
       "    }\n",
       "</style>\n",
       "<table border=\"1\" class=\"dataframe\">\n",
       "  <thead>\n",
       "    <tr style=\"text-align: right;\">\n",
       "      <th></th>\n",
       "      <th>yellow</th>\n",
       "      <th>blue</th>\n",
       "    </tr>\n",
       "  </thead>\n",
       "  <tbody>\n",
       "    <tr>\n",
       "      <th>1</th>\n",
       "      <td>-0.186215</td>\n",
       "      <td>0.976387</td>\n",
       "    </tr>\n",
       "    <tr>\n",
       "      <th>2</th>\n",
       "      <td>-0.890806</td>\n",
       "      <td>1.110134</td>\n",
       "    </tr>\n",
       "    <tr>\n",
       "      <th>3</th>\n",
       "      <td>-0.787999</td>\n",
       "      <td>-0.136908</td>\n",
       "    </tr>\n",
       "    <tr>\n",
       "      <th>4</th>\n",
       "      <td>0.308412</td>\n",
       "      <td>0.067189</td>\n",
       "    </tr>\n",
       "  </tbody>\n",
       "</table>\n",
       "</div>"
      ],
      "text/plain": [
       "     yellow      blue\n",
       "1 -0.186215  0.976387\n",
       "2 -0.890806  1.110134\n",
       "3 -0.787999 -0.136908\n",
       "4  0.308412  0.067189"
      ]
     },
     "execution_count": 133,
     "metadata": {},
     "output_type": "execute_result"
    }
   ],
   "source": [
    "my_df[['yellow', 'blue']]"
   ]
  },
  {
   "cell_type": "markdown",
   "id": "8ef0016f-974f-4ab4-8e21-2a76e80f5795",
   "metadata": {},
   "source": [
    "DataFrame уже"
   ]
  },
  {
   "cell_type": "code",
   "execution_count": 134,
   "id": "96130c61-55f4-4e8f-8a1c-8f904e291010",
   "metadata": {},
   "outputs": [
    {
     "data": {
      "text/plain": [
       "pandas.core.frame.DataFrame"
      ]
     },
     "execution_count": 134,
     "metadata": {},
     "output_type": "execute_result"
    }
   ],
   "source": [
    "type(my_df[['yellow', 'blue']])"
   ]
  },
  {
   "cell_type": "code",
   "execution_count": 135,
   "id": "863e6694-0119-45dd-8b67-190be6bc9a8b",
   "metadata": {},
   "outputs": [],
   "source": [
    "my_df['indigo'] = my_df['blue']"
   ]
  },
  {
   "cell_type": "code",
   "execution_count": 136,
   "id": "ef8a887b-c535-49d9-9fb4-4c30a1fb5cd1",
   "metadata": {},
   "outputs": [
    {
     "data": {
      "text/html": [
       "<div>\n",
       "<style scoped>\n",
       "    .dataframe tbody tr th:only-of-type {\n",
       "        vertical-align: middle;\n",
       "    }\n",
       "\n",
       "    .dataframe tbody tr th {\n",
       "        vertical-align: top;\n",
       "    }\n",
       "\n",
       "    .dataframe thead th {\n",
       "        text-align: right;\n",
       "    }\n",
       "</style>\n",
       "<table border=\"1\" class=\"dataframe\">\n",
       "  <thead>\n",
       "    <tr style=\"text-align: right;\">\n",
       "      <th></th>\n",
       "      <th>yellow</th>\n",
       "      <th>orange</th>\n",
       "      <th>red</th>\n",
       "      <th>green</th>\n",
       "      <th>blue</th>\n",
       "      <th>indigo</th>\n",
       "    </tr>\n",
       "  </thead>\n",
       "  <tbody>\n",
       "    <tr>\n",
       "      <th>1</th>\n",
       "      <td>-0.186215</td>\n",
       "      <td>-0.747232</td>\n",
       "      <td>1.743737</td>\n",
       "      <td>0.280334</td>\n",
       "      <td>0.976387</td>\n",
       "      <td>0.976387</td>\n",
       "    </tr>\n",
       "    <tr>\n",
       "      <th>2</th>\n",
       "      <td>-0.890806</td>\n",
       "      <td>1.337814</td>\n",
       "      <td>-1.064275</td>\n",
       "      <td>0.560981</td>\n",
       "      <td>1.110134</td>\n",
       "      <td>1.110134</td>\n",
       "    </tr>\n",
       "    <tr>\n",
       "      <th>3</th>\n",
       "      <td>-0.787999</td>\n",
       "      <td>1.390708</td>\n",
       "      <td>0.696914</td>\n",
       "      <td>1.066066</td>\n",
       "      <td>-0.136908</td>\n",
       "      <td>-0.136908</td>\n",
       "    </tr>\n",
       "    <tr>\n",
       "      <th>4</th>\n",
       "      <td>0.308412</td>\n",
       "      <td>2.243492</td>\n",
       "      <td>1.050017</td>\n",
       "      <td>-0.053497</td>\n",
       "      <td>0.067189</td>\n",
       "      <td>0.067189</td>\n",
       "    </tr>\n",
       "  </tbody>\n",
       "</table>\n",
       "</div>"
      ],
      "text/plain": [
       "     yellow    orange       red     green      blue    indigo\n",
       "1 -0.186215 -0.747232  1.743737  0.280334  0.976387  0.976387\n",
       "2 -0.890806  1.337814 -1.064275  0.560981  1.110134  1.110134\n",
       "3 -0.787999  1.390708  0.696914  1.066066 -0.136908 -0.136908\n",
       "4  0.308412  2.243492  1.050017 -0.053497  0.067189  0.067189"
      ]
     },
     "execution_count": 136,
     "metadata": {},
     "output_type": "execute_result"
    }
   ],
   "source": [
    "my_df"
   ]
  },
  {
   "cell_type": "code",
   "execution_count": 137,
   "id": "e826be9a-19ea-4e3d-8566-8e608c9d4941",
   "metadata": {},
   "outputs": [],
   "source": [
    "my_df['violet'] = my_df['blue'] + my_df['indigo']"
   ]
  },
  {
   "cell_type": "code",
   "execution_count": 138,
   "id": "5cba0367-ddc3-43e9-9cc5-136df94e5717",
   "metadata": {},
   "outputs": [
    {
     "data": {
      "text/html": [
       "<div>\n",
       "<style scoped>\n",
       "    .dataframe tbody tr th:only-of-type {\n",
       "        vertical-align: middle;\n",
       "    }\n",
       "\n",
       "    .dataframe tbody tr th {\n",
       "        vertical-align: top;\n",
       "    }\n",
       "\n",
       "    .dataframe thead th {\n",
       "        text-align: right;\n",
       "    }\n",
       "</style>\n",
       "<table border=\"1\" class=\"dataframe\">\n",
       "  <thead>\n",
       "    <tr style=\"text-align: right;\">\n",
       "      <th></th>\n",
       "      <th>yellow</th>\n",
       "      <th>orange</th>\n",
       "      <th>red</th>\n",
       "      <th>green</th>\n",
       "      <th>blue</th>\n",
       "      <th>indigo</th>\n",
       "      <th>violet</th>\n",
       "    </tr>\n",
       "  </thead>\n",
       "  <tbody>\n",
       "    <tr>\n",
       "      <th>1</th>\n",
       "      <td>-0.186215</td>\n",
       "      <td>-0.747232</td>\n",
       "      <td>1.743737</td>\n",
       "      <td>0.280334</td>\n",
       "      <td>0.976387</td>\n",
       "      <td>0.976387</td>\n",
       "      <td>1.952774</td>\n",
       "    </tr>\n",
       "    <tr>\n",
       "      <th>2</th>\n",
       "      <td>-0.890806</td>\n",
       "      <td>1.337814</td>\n",
       "      <td>-1.064275</td>\n",
       "      <td>0.560981</td>\n",
       "      <td>1.110134</td>\n",
       "      <td>1.110134</td>\n",
       "      <td>2.220269</td>\n",
       "    </tr>\n",
       "    <tr>\n",
       "      <th>3</th>\n",
       "      <td>-0.787999</td>\n",
       "      <td>1.390708</td>\n",
       "      <td>0.696914</td>\n",
       "      <td>1.066066</td>\n",
       "      <td>-0.136908</td>\n",
       "      <td>-0.136908</td>\n",
       "      <td>-0.273817</td>\n",
       "    </tr>\n",
       "    <tr>\n",
       "      <th>4</th>\n",
       "      <td>0.308412</td>\n",
       "      <td>2.243492</td>\n",
       "      <td>1.050017</td>\n",
       "      <td>-0.053497</td>\n",
       "      <td>0.067189</td>\n",
       "      <td>0.067189</td>\n",
       "      <td>0.134379</td>\n",
       "    </tr>\n",
       "  </tbody>\n",
       "</table>\n",
       "</div>"
      ],
      "text/plain": [
       "     yellow    orange       red     green      blue    indigo    violet\n",
       "1 -0.186215 -0.747232  1.743737  0.280334  0.976387  0.976387  1.952774\n",
       "2 -0.890806  1.337814 -1.064275  0.560981  1.110134  1.110134  2.220269\n",
       "3 -0.787999  1.390708  0.696914  1.066066 -0.136908 -0.136908 -0.273817\n",
       "4  0.308412  2.243492  1.050017 -0.053497  0.067189  0.067189  0.134379"
      ]
     },
     "execution_count": 138,
     "metadata": {},
     "output_type": "execute_result"
    }
   ],
   "source": [
    "my_df"
   ]
  },
  {
   "cell_type": "code",
   "execution_count": 139,
   "id": "7a028004-a01a-48d0-b863-8378267669d1",
   "metadata": {},
   "outputs": [
    {
     "data": {
      "text/plain": [
       "1    1.952774\n",
       "2    2.220269\n",
       "3   -0.273817\n",
       "4    0.134379\n",
       "Name: violet, dtype: float64"
      ]
     },
     "execution_count": 139,
     "metadata": {},
     "output_type": "execute_result"
    }
   ],
   "source": [
    "my_df['violet']"
   ]
  },
  {
   "cell_type": "code",
   "execution_count": 140,
   "id": "6010d243-68ad-41b6-8b80-b5b3e6dcdd05",
   "metadata": {},
   "outputs": [
    {
     "data": {
      "text/plain": [
       "yellow   -0.890806\n",
       "orange    1.337814\n",
       "red      -1.064275\n",
       "green     0.560981\n",
       "blue      1.110134\n",
       "indigo    1.110134\n",
       "violet    2.220269\n",
       "Name: 2, dtype: float64"
      ]
     },
     "execution_count": 140,
     "metadata": {},
     "output_type": "execute_result"
    }
   ],
   "source": [
    "my_df.loc[2]"
   ]
  },
  {
   "cell_type": "code",
   "execution_count": 141,
   "id": "385daa85-13a4-4fed-8cfa-a558119b4f03",
   "metadata": {},
   "outputs": [
    {
     "data": {
      "text/plain": [
       "yellow   -0.890806\n",
       "orange    1.337814\n",
       "red      -1.064275\n",
       "green     0.560981\n",
       "blue      1.110134\n",
       "indigo    1.110134\n",
       "violet    2.220269\n",
       "Name: 2, dtype: float64"
      ]
     },
     "execution_count": 141,
     "metadata": {},
     "output_type": "execute_result"
    }
   ],
   "source": [
    "my_df.iloc[1]"
   ]
  },
  {
   "cell_type": "code",
   "execution_count": 142,
   "id": "882c4607-623b-4398-b95f-dbdff5a9d8f9",
   "metadata": {},
   "outputs": [
    {
     "data": {
      "text/plain": [
       "yellow   -0.787999\n",
       "orange    1.390708\n",
       "red       0.696914\n",
       "green     1.066066\n",
       "blue     -0.136908\n",
       "indigo   -0.136908\n",
       "violet   -0.273817\n",
       "Name: 3, dtype: float64"
      ]
     },
     "execution_count": 142,
     "metadata": {},
     "output_type": "execute_result"
    }
   ],
   "source": [
    "my_df.iloc[2]"
   ]
  },
  {
   "cell_type": "markdown",
   "id": "3e834af3-bb08-4fa8-9177-fa57b8e3c4ff",
   "metadata": {},
   "source": [
    "указываем новые значения в строках"
   ]
  },
  {
   "cell_type": "code",
   "execution_count": 143,
   "id": "1bc341eb-99d7-4412-8476-6fe362f649df",
   "metadata": {},
   "outputs": [],
   "source": [
    "my_df.iloc[2] = my_df.iloc[1]"
   ]
  },
  {
   "cell_type": "code",
   "execution_count": 144,
   "id": "4ebe3f2e-313c-4c0d-ba00-607d3c8c1a04",
   "metadata": {},
   "outputs": [
    {
     "data": {
      "text/plain": [
       "yellow   -0.890806\n",
       "orange    1.337814\n",
       "red      -1.064275\n",
       "green     0.560981\n",
       "blue      1.110134\n",
       "indigo    1.110134\n",
       "violet    2.220269\n",
       "Name: 3, dtype: float64"
      ]
     },
     "execution_count": 144,
     "metadata": {},
     "output_type": "execute_result"
    }
   ],
   "source": [
    "my_df.iloc[2] "
   ]
  },
  {
   "cell_type": "code",
   "execution_count": 145,
   "id": "02baa6c4-6552-4238-a326-83469fd09724",
   "metadata": {},
   "outputs": [
    {
     "data": {
      "text/html": [
       "<div>\n",
       "<style scoped>\n",
       "    .dataframe tbody tr th:only-of-type {\n",
       "        vertical-align: middle;\n",
       "    }\n",
       "\n",
       "    .dataframe tbody tr th {\n",
       "        vertical-align: top;\n",
       "    }\n",
       "\n",
       "    .dataframe thead th {\n",
       "        text-align: right;\n",
       "    }\n",
       "</style>\n",
       "<table border=\"1\" class=\"dataframe\">\n",
       "  <thead>\n",
       "    <tr style=\"text-align: right;\">\n",
       "      <th></th>\n",
       "      <th>yellow</th>\n",
       "      <th>orange</th>\n",
       "      <th>red</th>\n",
       "      <th>green</th>\n",
       "      <th>blue</th>\n",
       "      <th>indigo</th>\n",
       "      <th>violet</th>\n",
       "    </tr>\n",
       "  </thead>\n",
       "  <tbody>\n",
       "    <tr>\n",
       "      <th>1</th>\n",
       "      <td>-0.186215</td>\n",
       "      <td>-0.747232</td>\n",
       "      <td>1.743737</td>\n",
       "      <td>0.280334</td>\n",
       "      <td>0.976387</td>\n",
       "      <td>0.976387</td>\n",
       "      <td>1.952774</td>\n",
       "    </tr>\n",
       "    <tr>\n",
       "      <th>2</th>\n",
       "      <td>-0.890806</td>\n",
       "      <td>1.337814</td>\n",
       "      <td>-1.064275</td>\n",
       "      <td>0.560981</td>\n",
       "      <td>1.110134</td>\n",
       "      <td>1.110134</td>\n",
       "      <td>2.220269</td>\n",
       "    </tr>\n",
       "    <tr>\n",
       "      <th>3</th>\n",
       "      <td>-0.890806</td>\n",
       "      <td>1.337814</td>\n",
       "      <td>-1.064275</td>\n",
       "      <td>0.560981</td>\n",
       "      <td>1.110134</td>\n",
       "      <td>1.110134</td>\n",
       "      <td>2.220269</td>\n",
       "    </tr>\n",
       "    <tr>\n",
       "      <th>4</th>\n",
       "      <td>0.308412</td>\n",
       "      <td>2.243492</td>\n",
       "      <td>1.050017</td>\n",
       "      <td>-0.053497</td>\n",
       "      <td>0.067189</td>\n",
       "      <td>0.067189</td>\n",
       "      <td>0.134379</td>\n",
       "    </tr>\n",
       "  </tbody>\n",
       "</table>\n",
       "</div>"
      ],
      "text/plain": [
       "     yellow    orange       red     green      blue    indigo    violet\n",
       "1 -0.186215 -0.747232  1.743737  0.280334  0.976387  0.976387  1.952774\n",
       "2 -0.890806  1.337814 -1.064275  0.560981  1.110134  1.110134  2.220269\n",
       "3 -0.890806  1.337814 -1.064275  0.560981  1.110134  1.110134  2.220269\n",
       "4  0.308412  2.243492  1.050017 -0.053497  0.067189  0.067189  0.134379"
      ]
     },
     "execution_count": 145,
     "metadata": {},
     "output_type": "execute_result"
    }
   ],
   "source": [
    "my_df"
   ]
  },
  {
   "cell_type": "code",
   "execution_count": 146,
   "id": "bf615cb7-2c8f-4868-9d07-8416e409709d",
   "metadata": {},
   "outputs": [
    {
     "data": {
      "text/plain": [
       "np.float64(1.337814095028593)"
      ]
     },
     "execution_count": 146,
     "metadata": {},
     "output_type": "execute_result"
    }
   ],
   "source": [
    "my_df.loc[3,'orange']"
   ]
  },
  {
   "cell_type": "code",
   "execution_count": 147,
   "id": "d2d81183-7b00-4dc6-bbc1-8136b24fa6e1",
   "metadata": {},
   "outputs": [
    {
     "data": {
      "text/html": [
       "<div>\n",
       "<style scoped>\n",
       "    .dataframe tbody tr th:only-of-type {\n",
       "        vertical-align: middle;\n",
       "    }\n",
       "\n",
       "    .dataframe tbody tr th {\n",
       "        vertical-align: top;\n",
       "    }\n",
       "\n",
       "    .dataframe thead th {\n",
       "        text-align: right;\n",
       "    }\n",
       "</style>\n",
       "<table border=\"1\" class=\"dataframe\">\n",
       "  <thead>\n",
       "    <tr style=\"text-align: right;\">\n",
       "      <th></th>\n",
       "      <th>blue</th>\n",
       "      <th>violet</th>\n",
       "    </tr>\n",
       "  </thead>\n",
       "  <tbody>\n",
       "    <tr>\n",
       "      <th>1</th>\n",
       "      <td>0.976387</td>\n",
       "      <td>1.952774</td>\n",
       "    </tr>\n",
       "    <tr>\n",
       "      <th>3</th>\n",
       "      <td>1.110134</td>\n",
       "      <td>2.220269</td>\n",
       "    </tr>\n",
       "  </tbody>\n",
       "</table>\n",
       "</div>"
      ],
      "text/plain": [
       "       blue    violet\n",
       "1  0.976387  1.952774\n",
       "3  1.110134  2.220269"
      ]
     },
     "execution_count": 147,
     "metadata": {},
     "output_type": "execute_result"
    }
   ],
   "source": [
    "my_df.loc[[1,3], ['blue', 'violet']]"
   ]
  },
  {
   "cell_type": "code",
   "execution_count": 148,
   "id": "351608c1-18ec-44d5-aac2-59ed7641b2d2",
   "metadata": {},
   "outputs": [
    {
     "data": {
      "text/html": [
       "<div>\n",
       "<style scoped>\n",
       "    .dataframe tbody tr th:only-of-type {\n",
       "        vertical-align: middle;\n",
       "    }\n",
       "\n",
       "    .dataframe tbody tr th {\n",
       "        vertical-align: top;\n",
       "    }\n",
       "\n",
       "    .dataframe thead th {\n",
       "        text-align: right;\n",
       "    }\n",
       "</style>\n",
       "<table border=\"1\" class=\"dataframe\">\n",
       "  <thead>\n",
       "    <tr style=\"text-align: right;\">\n",
       "      <th></th>\n",
       "      <th>yellow</th>\n",
       "      <th>orange</th>\n",
       "      <th>red</th>\n",
       "      <th>green</th>\n",
       "      <th>blue</th>\n",
       "      <th>indigo</th>\n",
       "      <th>violet</th>\n",
       "    </tr>\n",
       "  </thead>\n",
       "  <tbody>\n",
       "    <tr>\n",
       "      <th>1</th>\n",
       "      <td>-0.186215</td>\n",
       "      <td>-0.747232</td>\n",
       "      <td>1.743737</td>\n",
       "      <td>0.280334</td>\n",
       "      <td>0.976387</td>\n",
       "      <td>0.976387</td>\n",
       "      <td>1.952774</td>\n",
       "    </tr>\n",
       "    <tr>\n",
       "      <th>2</th>\n",
       "      <td>-0.890806</td>\n",
       "      <td>1.337814</td>\n",
       "      <td>-1.064275</td>\n",
       "      <td>0.560981</td>\n",
       "      <td>1.110134</td>\n",
       "      <td>1.110134</td>\n",
       "      <td>2.220269</td>\n",
       "    </tr>\n",
       "    <tr>\n",
       "      <th>4</th>\n",
       "      <td>0.308412</td>\n",
       "      <td>2.243492</td>\n",
       "      <td>1.050017</td>\n",
       "      <td>-0.053497</td>\n",
       "      <td>0.067189</td>\n",
       "      <td>0.067189</td>\n",
       "      <td>0.134379</td>\n",
       "    </tr>\n",
       "  </tbody>\n",
       "</table>\n",
       "</div>"
      ],
      "text/plain": [
       "     yellow    orange       red     green      blue    indigo    violet\n",
       "1 -0.186215 -0.747232  1.743737  0.280334  0.976387  0.976387  1.952774\n",
       "2 -0.890806  1.337814 -1.064275  0.560981  1.110134  1.110134  2.220269\n",
       "4  0.308412  2.243492  1.050017 -0.053497  0.067189  0.067189  0.134379"
      ]
     },
     "execution_count": 148,
     "metadata": {},
     "output_type": "execute_result"
    }
   ],
   "source": [
    "my_df.drop(3)"
   ]
  },
  {
   "cell_type": "code",
   "execution_count": 149,
   "id": "4f98f940-84ab-4dee-a9e2-c0714fe29f8e",
   "metadata": {},
   "outputs": [
    {
     "data": {
      "text/html": [
       "<div>\n",
       "<style scoped>\n",
       "    .dataframe tbody tr th:only-of-type {\n",
       "        vertical-align: middle;\n",
       "    }\n",
       "\n",
       "    .dataframe tbody tr th {\n",
       "        vertical-align: top;\n",
       "    }\n",
       "\n",
       "    .dataframe thead th {\n",
       "        text-align: right;\n",
       "    }\n",
       "</style>\n",
       "<table border=\"1\" class=\"dataframe\">\n",
       "  <thead>\n",
       "    <tr style=\"text-align: right;\">\n",
       "      <th></th>\n",
       "      <th>yellow</th>\n",
       "      <th>orange</th>\n",
       "      <th>red</th>\n",
       "      <th>green</th>\n",
       "      <th>blue</th>\n",
       "      <th>indigo</th>\n",
       "      <th>violet</th>\n",
       "    </tr>\n",
       "  </thead>\n",
       "  <tbody>\n",
       "    <tr>\n",
       "      <th>1</th>\n",
       "      <td>-0.186215</td>\n",
       "      <td>-0.747232</td>\n",
       "      <td>1.743737</td>\n",
       "      <td>0.280334</td>\n",
       "      <td>0.976387</td>\n",
       "      <td>0.976387</td>\n",
       "      <td>1.952774</td>\n",
       "    </tr>\n",
       "    <tr>\n",
       "      <th>2</th>\n",
       "      <td>-0.890806</td>\n",
       "      <td>1.337814</td>\n",
       "      <td>-1.064275</td>\n",
       "      <td>0.560981</td>\n",
       "      <td>1.110134</td>\n",
       "      <td>1.110134</td>\n",
       "      <td>2.220269</td>\n",
       "    </tr>\n",
       "    <tr>\n",
       "      <th>3</th>\n",
       "      <td>-0.890806</td>\n",
       "      <td>1.337814</td>\n",
       "      <td>-1.064275</td>\n",
       "      <td>0.560981</td>\n",
       "      <td>1.110134</td>\n",
       "      <td>1.110134</td>\n",
       "      <td>2.220269</td>\n",
       "    </tr>\n",
       "    <tr>\n",
       "      <th>4</th>\n",
       "      <td>0.308412</td>\n",
       "      <td>2.243492</td>\n",
       "      <td>1.050017</td>\n",
       "      <td>-0.053497</td>\n",
       "      <td>0.067189</td>\n",
       "      <td>0.067189</td>\n",
       "      <td>0.134379</td>\n",
       "    </tr>\n",
       "  </tbody>\n",
       "</table>\n",
       "</div>"
      ],
      "text/plain": [
       "     yellow    orange       red     green      blue    indigo    violet\n",
       "1 -0.186215 -0.747232  1.743737  0.280334  0.976387  0.976387  1.952774\n",
       "2 -0.890806  1.337814 -1.064275  0.560981  1.110134  1.110134  2.220269\n",
       "3 -0.890806  1.337814 -1.064275  0.560981  1.110134  1.110134  2.220269\n",
       "4  0.308412  2.243492  1.050017 -0.053497  0.067189  0.067189  0.134379"
      ]
     },
     "execution_count": 149,
     "metadata": {},
     "output_type": "execute_result"
    }
   ],
   "source": [
    "my_df"
   ]
  },
  {
   "cell_type": "code",
   "execution_count": 150,
   "id": "b3ee6f4a-2a91-4174-8684-cb0e920e63dd",
   "metadata": {},
   "outputs": [],
   "source": [
    "my_df.drop(3, inplace=True)"
   ]
  },
  {
   "cell_type": "code",
   "execution_count": 151,
   "id": "2f2bf123-66a8-4cc2-85f2-49c82bf754a6",
   "metadata": {},
   "outputs": [
    {
     "data": {
      "text/html": [
       "<div>\n",
       "<style scoped>\n",
       "    .dataframe tbody tr th:only-of-type {\n",
       "        vertical-align: middle;\n",
       "    }\n",
       "\n",
       "    .dataframe tbody tr th {\n",
       "        vertical-align: top;\n",
       "    }\n",
       "\n",
       "    .dataframe thead th {\n",
       "        text-align: right;\n",
       "    }\n",
       "</style>\n",
       "<table border=\"1\" class=\"dataframe\">\n",
       "  <thead>\n",
       "    <tr style=\"text-align: right;\">\n",
       "      <th></th>\n",
       "      <th>yellow</th>\n",
       "      <th>orange</th>\n",
       "      <th>red</th>\n",
       "      <th>green</th>\n",
       "      <th>blue</th>\n",
       "      <th>indigo</th>\n",
       "      <th>violet</th>\n",
       "    </tr>\n",
       "  </thead>\n",
       "  <tbody>\n",
       "    <tr>\n",
       "      <th>1</th>\n",
       "      <td>-0.186215</td>\n",
       "      <td>-0.747232</td>\n",
       "      <td>1.743737</td>\n",
       "      <td>0.280334</td>\n",
       "      <td>0.976387</td>\n",
       "      <td>0.976387</td>\n",
       "      <td>1.952774</td>\n",
       "    </tr>\n",
       "    <tr>\n",
       "      <th>2</th>\n",
       "      <td>-0.890806</td>\n",
       "      <td>1.337814</td>\n",
       "      <td>-1.064275</td>\n",
       "      <td>0.560981</td>\n",
       "      <td>1.110134</td>\n",
       "      <td>1.110134</td>\n",
       "      <td>2.220269</td>\n",
       "    </tr>\n",
       "    <tr>\n",
       "      <th>4</th>\n",
       "      <td>0.308412</td>\n",
       "      <td>2.243492</td>\n",
       "      <td>1.050017</td>\n",
       "      <td>-0.053497</td>\n",
       "      <td>0.067189</td>\n",
       "      <td>0.067189</td>\n",
       "      <td>0.134379</td>\n",
       "    </tr>\n",
       "  </tbody>\n",
       "</table>\n",
       "</div>"
      ],
      "text/plain": [
       "     yellow    orange       red     green      blue    indigo    violet\n",
       "1 -0.186215 -0.747232  1.743737  0.280334  0.976387  0.976387  1.952774\n",
       "2 -0.890806  1.337814 -1.064275  0.560981  1.110134  1.110134  2.220269\n",
       "4  0.308412  2.243492  1.050017 -0.053497  0.067189  0.067189  0.134379"
      ]
     },
     "execution_count": 151,
     "metadata": {},
     "output_type": "execute_result"
    }
   ],
   "source": [
    "my_df"
   ]
  },
  {
   "cell_type": "code",
   "execution_count": 152,
   "id": "5d1558ea-136d-4ae7-9899-e5c1b2b49076",
   "metadata": {},
   "outputs": [
    {
     "data": {
      "text/html": [
       "<div>\n",
       "<style scoped>\n",
       "    .dataframe tbody tr th:only-of-type {\n",
       "        vertical-align: middle;\n",
       "    }\n",
       "\n",
       "    .dataframe tbody tr th {\n",
       "        vertical-align: top;\n",
       "    }\n",
       "\n",
       "    .dataframe thead th {\n",
       "        text-align: right;\n",
       "    }\n",
       "</style>\n",
       "<table border=\"1\" class=\"dataframe\">\n",
       "  <thead>\n",
       "    <tr style=\"text-align: right;\">\n",
       "      <th></th>\n",
       "      <th>yellow</th>\n",
       "      <th>orange</th>\n",
       "      <th>red</th>\n",
       "      <th>green</th>\n",
       "      <th>blue</th>\n",
       "      <th>violet</th>\n",
       "    </tr>\n",
       "  </thead>\n",
       "  <tbody>\n",
       "    <tr>\n",
       "      <th>1</th>\n",
       "      <td>-0.186215</td>\n",
       "      <td>-0.747232</td>\n",
       "      <td>1.743737</td>\n",
       "      <td>0.280334</td>\n",
       "      <td>0.976387</td>\n",
       "      <td>1.952774</td>\n",
       "    </tr>\n",
       "    <tr>\n",
       "      <th>2</th>\n",
       "      <td>-0.890806</td>\n",
       "      <td>1.337814</td>\n",
       "      <td>-1.064275</td>\n",
       "      <td>0.560981</td>\n",
       "      <td>1.110134</td>\n",
       "      <td>2.220269</td>\n",
       "    </tr>\n",
       "    <tr>\n",
       "      <th>4</th>\n",
       "      <td>0.308412</td>\n",
       "      <td>2.243492</td>\n",
       "      <td>1.050017</td>\n",
       "      <td>-0.053497</td>\n",
       "      <td>0.067189</td>\n",
       "      <td>0.134379</td>\n",
       "    </tr>\n",
       "  </tbody>\n",
       "</table>\n",
       "</div>"
      ],
      "text/plain": [
       "     yellow    orange       red     green      blue    violet\n",
       "1 -0.186215 -0.747232  1.743737  0.280334  0.976387  1.952774\n",
       "2 -0.890806  1.337814 -1.064275  0.560981  1.110134  2.220269\n",
       "4  0.308412  2.243492  1.050017 -0.053497  0.067189  0.134379"
      ]
     },
     "execution_count": 152,
     "metadata": {},
     "output_type": "execute_result"
    }
   ],
   "source": [
    "my_df.drop('indigo', axis=1)"
   ]
  },
  {
   "cell_type": "code",
   "execution_count": 153,
   "id": "e5144879-7f44-4053-a5c2-d82552546439",
   "metadata": {},
   "outputs": [
    {
     "data": {
      "text/html": [
       "<div>\n",
       "<style scoped>\n",
       "    .dataframe tbody tr th:only-of-type {\n",
       "        vertical-align: middle;\n",
       "    }\n",
       "\n",
       "    .dataframe tbody tr th {\n",
       "        vertical-align: top;\n",
       "    }\n",
       "\n",
       "    .dataframe thead th {\n",
       "        text-align: right;\n",
       "    }\n",
       "</style>\n",
       "<table border=\"1\" class=\"dataframe\">\n",
       "  <thead>\n",
       "    <tr style=\"text-align: right;\">\n",
       "      <th></th>\n",
       "      <th>yellow</th>\n",
       "      <th>orange</th>\n",
       "      <th>red</th>\n",
       "      <th>green</th>\n",
       "      <th>blue</th>\n",
       "      <th>indigo</th>\n",
       "      <th>violet</th>\n",
       "    </tr>\n",
       "  </thead>\n",
       "  <tbody>\n",
       "    <tr>\n",
       "      <th>1</th>\n",
       "      <td>-0.186215</td>\n",
       "      <td>-0.747232</td>\n",
       "      <td>1.743737</td>\n",
       "      <td>0.280334</td>\n",
       "      <td>0.976387</td>\n",
       "      <td>0.976387</td>\n",
       "      <td>1.952774</td>\n",
       "    </tr>\n",
       "    <tr>\n",
       "      <th>2</th>\n",
       "      <td>-0.890806</td>\n",
       "      <td>1.337814</td>\n",
       "      <td>-1.064275</td>\n",
       "      <td>0.560981</td>\n",
       "      <td>1.110134</td>\n",
       "      <td>1.110134</td>\n",
       "      <td>2.220269</td>\n",
       "    </tr>\n",
       "    <tr>\n",
       "      <th>4</th>\n",
       "      <td>0.308412</td>\n",
       "      <td>2.243492</td>\n",
       "      <td>1.050017</td>\n",
       "      <td>-0.053497</td>\n",
       "      <td>0.067189</td>\n",
       "      <td>0.067189</td>\n",
       "      <td>0.134379</td>\n",
       "    </tr>\n",
       "  </tbody>\n",
       "</table>\n",
       "</div>"
      ],
      "text/plain": [
       "     yellow    orange       red     green      blue    indigo    violet\n",
       "1 -0.186215 -0.747232  1.743737  0.280334  0.976387  0.976387  1.952774\n",
       "2 -0.890806  1.337814 -1.064275  0.560981  1.110134  1.110134  2.220269\n",
       "4  0.308412  2.243492  1.050017 -0.053497  0.067189  0.067189  0.134379"
      ]
     },
     "execution_count": 153,
     "metadata": {},
     "output_type": "execute_result"
    }
   ],
   "source": [
    "my_df"
   ]
  },
  {
   "cell_type": "code",
   "execution_count": 154,
   "id": "380a5f21-ed04-48c2-a420-f3ef7b91ceec",
   "metadata": {},
   "outputs": [],
   "source": [
    "my_df.drop('indigo', axis=1, inplace=True)"
   ]
  },
  {
   "cell_type": "code",
   "execution_count": 155,
   "id": "6c45c541-0efa-4d73-affa-7940108b36b1",
   "metadata": {},
   "outputs": [
    {
     "data": {
      "text/html": [
       "<div>\n",
       "<style scoped>\n",
       "    .dataframe tbody tr th:only-of-type {\n",
       "        vertical-align: middle;\n",
       "    }\n",
       "\n",
       "    .dataframe tbody tr th {\n",
       "        vertical-align: top;\n",
       "    }\n",
       "\n",
       "    .dataframe thead th {\n",
       "        text-align: right;\n",
       "    }\n",
       "</style>\n",
       "<table border=\"1\" class=\"dataframe\">\n",
       "  <thead>\n",
       "    <tr style=\"text-align: right;\">\n",
       "      <th></th>\n",
       "      <th>yellow</th>\n",
       "      <th>orange</th>\n",
       "      <th>red</th>\n",
       "      <th>green</th>\n",
       "      <th>blue</th>\n",
       "      <th>violet</th>\n",
       "    </tr>\n",
       "  </thead>\n",
       "  <tbody>\n",
       "    <tr>\n",
       "      <th>1</th>\n",
       "      <td>-0.186215</td>\n",
       "      <td>-0.747232</td>\n",
       "      <td>1.743737</td>\n",
       "      <td>0.280334</td>\n",
       "      <td>0.976387</td>\n",
       "      <td>1.952774</td>\n",
       "    </tr>\n",
       "    <tr>\n",
       "      <th>2</th>\n",
       "      <td>-0.890806</td>\n",
       "      <td>1.337814</td>\n",
       "      <td>-1.064275</td>\n",
       "      <td>0.560981</td>\n",
       "      <td>1.110134</td>\n",
       "      <td>2.220269</td>\n",
       "    </tr>\n",
       "    <tr>\n",
       "      <th>4</th>\n",
       "      <td>0.308412</td>\n",
       "      <td>2.243492</td>\n",
       "      <td>1.050017</td>\n",
       "      <td>-0.053497</td>\n",
       "      <td>0.067189</td>\n",
       "      <td>0.134379</td>\n",
       "    </tr>\n",
       "  </tbody>\n",
       "</table>\n",
       "</div>"
      ],
      "text/plain": [
       "     yellow    orange       red     green      blue    violet\n",
       "1 -0.186215 -0.747232  1.743737  0.280334  0.976387  1.952774\n",
       "2 -0.890806  1.337814 -1.064275  0.560981  1.110134  2.220269\n",
       "4  0.308412  2.243492  1.050017 -0.053497  0.067189  0.134379"
      ]
     },
     "execution_count": 155,
     "metadata": {},
     "output_type": "execute_result"
    }
   ],
   "source": [
    "my_df"
   ]
  },
  {
   "cell_type": "markdown",
   "id": "8e26ec57-40bd-4508-8624-0bef2b76ddc2",
   "metadata": {},
   "source": [
    "it's tupple"
   ]
  },
  {
   "cell_type": "code",
   "execution_count": 156,
   "id": "60ea7a25-ec5a-4f1d-9fac-7ea02198bc8f",
   "metadata": {},
   "outputs": [
    {
     "data": {
      "text/plain": [
       "(3, 6)"
      ]
     },
     "execution_count": 156,
     "metadata": {},
     "output_type": "execute_result"
    }
   ],
   "source": [
    "my_df.shape"
   ]
  },
  {
   "cell_type": "code",
   "execution_count": null,
   "id": "1544c5b0-017a-4334-b24d-827d6e4babca",
   "metadata": {},
   "outputs": [],
   "source": []
  }
 ],
 "metadata": {
  "kernelspec": {
   "display_name": "venv",
   "language": "python",
   "name": "python3"
  },
  "language_info": {
   "codemirror_mode": {
    "name": "ipython",
    "version": 3
   },
   "file_extension": ".py",
   "mimetype": "text/x-python",
   "name": "python",
   "nbconvert_exporter": "python",
   "pygments_lexer": "ipython3",
   "version": "3.12.3"
  }
 },
 "nbformat": 4,
 "nbformat_minor": 5
}
