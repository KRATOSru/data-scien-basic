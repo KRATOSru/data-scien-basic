{
 "cells": [
  {
   "cell_type": "markdown",
   "id": "4544fbe3-982e-46b6-947c-ec23c76131d7",
   "metadata": {},
   "source": [
    "# Основы DataFrames, которые состоят из Series"
   ]
  },
  {
   "cell_type": "code",
   "execution_count": 1,
   "id": "88226c67-9f29-4d94-908c-fb718752db24",
   "metadata": {},
   "outputs": [],
   "source": [
    "import numpy as np\n",
    "import pandas as pd"
   ]
  },
  {
   "cell_type": "markdown",
   "id": "04713ae0-6595-43d0-b41c-c5640005a073",
   "metadata": {},
   "source": [
    "#shift + tab"
   ]
  },
  {
   "cell_type": "code",
   "execution_count": 2,
   "id": "af4c07cb-146f-44f8-818e-0d7a171c28f8",
   "metadata": {},
   "outputs": [],
   "source": [
    "my_df = pd.DataFrame(np.random.randn(4,5), [1,2,3,4], ['yellow', 'orange', 'red', 'green', 'blue'])"
   ]
  },
  {
   "cell_type": "code",
   "execution_count": 3,
   "id": "3b4e5679-3ebb-46db-8651-3a756ea4897f",
   "metadata": {},
   "outputs": [
    {
     "data": {
      "text/html": [
       "<div>\n",
       "<style scoped>\n",
       "    .dataframe tbody tr th:only-of-type {\n",
       "        vertical-align: middle;\n",
       "    }\n",
       "\n",
       "    .dataframe tbody tr th {\n",
       "        vertical-align: top;\n",
       "    }\n",
       "\n",
       "    .dataframe thead th {\n",
       "        text-align: right;\n",
       "    }\n",
       "</style>\n",
       "<table border=\"1\" class=\"dataframe\">\n",
       "  <thead>\n",
       "    <tr style=\"text-align: right;\">\n",
       "      <th></th>\n",
       "      <th>yellow</th>\n",
       "      <th>orange</th>\n",
       "      <th>red</th>\n",
       "      <th>green</th>\n",
       "      <th>blue</th>\n",
       "    </tr>\n",
       "  </thead>\n",
       "  <tbody>\n",
       "    <tr>\n",
       "      <th>1</th>\n",
       "      <td>-1.482596</td>\n",
       "      <td>1.394340</td>\n",
       "      <td>-0.932420</td>\n",
       "      <td>-0.296046</td>\n",
       "      <td>-0.086157</td>\n",
       "    </tr>\n",
       "    <tr>\n",
       "      <th>2</th>\n",
       "      <td>-0.877756</td>\n",
       "      <td>0.934736</td>\n",
       "      <td>-0.166802</td>\n",
       "      <td>-1.705276</td>\n",
       "      <td>0.858605</td>\n",
       "    </tr>\n",
       "    <tr>\n",
       "      <th>3</th>\n",
       "      <td>-0.129634</td>\n",
       "      <td>0.066943</td>\n",
       "      <td>-0.364850</td>\n",
       "      <td>-1.580746</td>\n",
       "      <td>-2.712238</td>\n",
       "    </tr>\n",
       "    <tr>\n",
       "      <th>4</th>\n",
       "      <td>0.675407</td>\n",
       "      <td>-1.591851</td>\n",
       "      <td>0.207031</td>\n",
       "      <td>1.445242</td>\n",
       "      <td>-0.265642</td>\n",
       "    </tr>\n",
       "  </tbody>\n",
       "</table>\n",
       "</div>"
      ],
      "text/plain": [
       "     yellow    orange       red     green      blue\n",
       "1 -1.482596  1.394340 -0.932420 -0.296046 -0.086157\n",
       "2 -0.877756  0.934736 -0.166802 -1.705276  0.858605\n",
       "3 -0.129634  0.066943 -0.364850 -1.580746 -2.712238\n",
       "4  0.675407 -1.591851  0.207031  1.445242 -0.265642"
      ]
     },
     "execution_count": 3,
     "metadata": {},
     "output_type": "execute_result"
    }
   ],
   "source": [
    "my_df"
   ]
  },
  {
   "cell_type": "code",
   "execution_count": 4,
   "id": "b2462c64-e17d-42a4-809b-b59b64528404",
   "metadata": {},
   "outputs": [
    {
     "data": {
      "text/plain": [
       "1    1.394340\n",
       "2    0.934736\n",
       "3    0.066943\n",
       "4   -1.591851\n",
       "Name: orange, dtype: float64"
      ]
     },
     "execution_count": 4,
     "metadata": {},
     "output_type": "execute_result"
    }
   ],
   "source": [
    "my_df['orange']"
   ]
  },
  {
   "cell_type": "code",
   "execution_count": 5,
   "id": "455385f8-afa0-4226-85fa-62fe149462b4",
   "metadata": {},
   "outputs": [
    {
     "data": {
      "text/plain": [
       "1   -0.932420\n",
       "2   -0.166802\n",
       "3   -0.364850\n",
       "4    0.207031\n",
       "Name: red, dtype: float64"
      ]
     },
     "execution_count": 5,
     "metadata": {},
     "output_type": "execute_result"
    }
   ],
   "source": [
    "my_df['red']"
   ]
  },
  {
   "cell_type": "code",
   "execution_count": 6,
   "id": "efe7a8ba-09cb-4ed6-9949-a7c19d170373",
   "metadata": {},
   "outputs": [
    {
     "data": {
      "text/plain": [
       "pandas.core.series.Series"
      ]
     },
     "execution_count": 6,
     "metadata": {},
     "output_type": "execute_result"
    }
   ],
   "source": [
    "type(my_df['orange'])"
   ]
  },
  {
   "cell_type": "code",
   "execution_count": 7,
   "id": "a0657634-8dcb-4619-af00-20ab09dfd3a6",
   "metadata": {},
   "outputs": [
    {
     "data": {
      "text/plain": [
       "pandas.core.frame.DataFrame"
      ]
     },
     "execution_count": 7,
     "metadata": {},
     "output_type": "execute_result"
    }
   ],
   "source": [
    "type(my_df)"
   ]
  },
  {
   "cell_type": "code",
   "execution_count": 8,
   "id": "17b8266c-9f16-4f79-9173-7e867d69ce8f",
   "metadata": {},
   "outputs": [
    {
     "data": {
      "text/html": [
       "<div>\n",
       "<style scoped>\n",
       "    .dataframe tbody tr th:only-of-type {\n",
       "        vertical-align: middle;\n",
       "    }\n",
       "\n",
       "    .dataframe tbody tr th {\n",
       "        vertical-align: top;\n",
       "    }\n",
       "\n",
       "    .dataframe thead th {\n",
       "        text-align: right;\n",
       "    }\n",
       "</style>\n",
       "<table border=\"1\" class=\"dataframe\">\n",
       "  <thead>\n",
       "    <tr style=\"text-align: right;\">\n",
       "      <th></th>\n",
       "      <th>yellow</th>\n",
       "      <th>blue</th>\n",
       "    </tr>\n",
       "  </thead>\n",
       "  <tbody>\n",
       "    <tr>\n",
       "      <th>1</th>\n",
       "      <td>-1.482596</td>\n",
       "      <td>-0.086157</td>\n",
       "    </tr>\n",
       "    <tr>\n",
       "      <th>2</th>\n",
       "      <td>-0.877756</td>\n",
       "      <td>0.858605</td>\n",
       "    </tr>\n",
       "    <tr>\n",
       "      <th>3</th>\n",
       "      <td>-0.129634</td>\n",
       "      <td>-2.712238</td>\n",
       "    </tr>\n",
       "    <tr>\n",
       "      <th>4</th>\n",
       "      <td>0.675407</td>\n",
       "      <td>-0.265642</td>\n",
       "    </tr>\n",
       "  </tbody>\n",
       "</table>\n",
       "</div>"
      ],
      "text/plain": [
       "     yellow      blue\n",
       "1 -1.482596 -0.086157\n",
       "2 -0.877756  0.858605\n",
       "3 -0.129634 -2.712238\n",
       "4  0.675407 -0.265642"
      ]
     },
     "execution_count": 8,
     "metadata": {},
     "output_type": "execute_result"
    }
   ],
   "source": [
    "my_df[['yellow', 'blue']]"
   ]
  },
  {
   "cell_type": "markdown",
   "id": "8ef0016f-974f-4ab4-8e21-2a76e80f5795",
   "metadata": {},
   "source": [
    "DataFrame уже"
   ]
  },
  {
   "cell_type": "code",
   "execution_count": 9,
   "id": "96130c61-55f4-4e8f-8a1c-8f904e291010",
   "metadata": {},
   "outputs": [
    {
     "data": {
      "text/plain": [
       "pandas.core.frame.DataFrame"
      ]
     },
     "execution_count": 9,
     "metadata": {},
     "output_type": "execute_result"
    }
   ],
   "source": [
    "type(my_df[['yellow', 'blue']])"
   ]
  },
  {
   "cell_type": "code",
   "execution_count": 10,
   "id": "863e6694-0119-45dd-8b67-190be6bc9a8b",
   "metadata": {},
   "outputs": [],
   "source": [
    "my_df['indigo'] = my_df['blue']"
   ]
  },
  {
   "cell_type": "code",
   "execution_count": 11,
   "id": "ef8a887b-c535-49d9-9fb4-4c30a1fb5cd1",
   "metadata": {},
   "outputs": [
    {
     "data": {
      "text/html": [
       "<div>\n",
       "<style scoped>\n",
       "    .dataframe tbody tr th:only-of-type {\n",
       "        vertical-align: middle;\n",
       "    }\n",
       "\n",
       "    .dataframe tbody tr th {\n",
       "        vertical-align: top;\n",
       "    }\n",
       "\n",
       "    .dataframe thead th {\n",
       "        text-align: right;\n",
       "    }\n",
       "</style>\n",
       "<table border=\"1\" class=\"dataframe\">\n",
       "  <thead>\n",
       "    <tr style=\"text-align: right;\">\n",
       "      <th></th>\n",
       "      <th>yellow</th>\n",
       "      <th>orange</th>\n",
       "      <th>red</th>\n",
       "      <th>green</th>\n",
       "      <th>blue</th>\n",
       "      <th>indigo</th>\n",
       "    </tr>\n",
       "  </thead>\n",
       "  <tbody>\n",
       "    <tr>\n",
       "      <th>1</th>\n",
       "      <td>-1.482596</td>\n",
       "      <td>1.394340</td>\n",
       "      <td>-0.932420</td>\n",
       "      <td>-0.296046</td>\n",
       "      <td>-0.086157</td>\n",
       "      <td>-0.086157</td>\n",
       "    </tr>\n",
       "    <tr>\n",
       "      <th>2</th>\n",
       "      <td>-0.877756</td>\n",
       "      <td>0.934736</td>\n",
       "      <td>-0.166802</td>\n",
       "      <td>-1.705276</td>\n",
       "      <td>0.858605</td>\n",
       "      <td>0.858605</td>\n",
       "    </tr>\n",
       "    <tr>\n",
       "      <th>3</th>\n",
       "      <td>-0.129634</td>\n",
       "      <td>0.066943</td>\n",
       "      <td>-0.364850</td>\n",
       "      <td>-1.580746</td>\n",
       "      <td>-2.712238</td>\n",
       "      <td>-2.712238</td>\n",
       "    </tr>\n",
       "    <tr>\n",
       "      <th>4</th>\n",
       "      <td>0.675407</td>\n",
       "      <td>-1.591851</td>\n",
       "      <td>0.207031</td>\n",
       "      <td>1.445242</td>\n",
       "      <td>-0.265642</td>\n",
       "      <td>-0.265642</td>\n",
       "    </tr>\n",
       "  </tbody>\n",
       "</table>\n",
       "</div>"
      ],
      "text/plain": [
       "     yellow    orange       red     green      blue    indigo\n",
       "1 -1.482596  1.394340 -0.932420 -0.296046 -0.086157 -0.086157\n",
       "2 -0.877756  0.934736 -0.166802 -1.705276  0.858605  0.858605\n",
       "3 -0.129634  0.066943 -0.364850 -1.580746 -2.712238 -2.712238\n",
       "4  0.675407 -1.591851  0.207031  1.445242 -0.265642 -0.265642"
      ]
     },
     "execution_count": 11,
     "metadata": {},
     "output_type": "execute_result"
    }
   ],
   "source": [
    "my_df"
   ]
  },
  {
   "cell_type": "code",
   "execution_count": 12,
   "id": "e826be9a-19ea-4e3d-8566-8e608c9d4941",
   "metadata": {},
   "outputs": [],
   "source": [
    "my_df['violet'] = my_df['blue'] + my_df['indigo']"
   ]
  },
  {
   "cell_type": "code",
   "execution_count": 13,
   "id": "5cba0367-ddc3-43e9-9cc5-136df94e5717",
   "metadata": {},
   "outputs": [
    {
     "data": {
      "text/html": [
       "<div>\n",
       "<style scoped>\n",
       "    .dataframe tbody tr th:only-of-type {\n",
       "        vertical-align: middle;\n",
       "    }\n",
       "\n",
       "    .dataframe tbody tr th {\n",
       "        vertical-align: top;\n",
       "    }\n",
       "\n",
       "    .dataframe thead th {\n",
       "        text-align: right;\n",
       "    }\n",
       "</style>\n",
       "<table border=\"1\" class=\"dataframe\">\n",
       "  <thead>\n",
       "    <tr style=\"text-align: right;\">\n",
       "      <th></th>\n",
       "      <th>yellow</th>\n",
       "      <th>orange</th>\n",
       "      <th>red</th>\n",
       "      <th>green</th>\n",
       "      <th>blue</th>\n",
       "      <th>indigo</th>\n",
       "      <th>violet</th>\n",
       "    </tr>\n",
       "  </thead>\n",
       "  <tbody>\n",
       "    <tr>\n",
       "      <th>1</th>\n",
       "      <td>-1.482596</td>\n",
       "      <td>1.394340</td>\n",
       "      <td>-0.932420</td>\n",
       "      <td>-0.296046</td>\n",
       "      <td>-0.086157</td>\n",
       "      <td>-0.086157</td>\n",
       "      <td>-0.172315</td>\n",
       "    </tr>\n",
       "    <tr>\n",
       "      <th>2</th>\n",
       "      <td>-0.877756</td>\n",
       "      <td>0.934736</td>\n",
       "      <td>-0.166802</td>\n",
       "      <td>-1.705276</td>\n",
       "      <td>0.858605</td>\n",
       "      <td>0.858605</td>\n",
       "      <td>1.717210</td>\n",
       "    </tr>\n",
       "    <tr>\n",
       "      <th>3</th>\n",
       "      <td>-0.129634</td>\n",
       "      <td>0.066943</td>\n",
       "      <td>-0.364850</td>\n",
       "      <td>-1.580746</td>\n",
       "      <td>-2.712238</td>\n",
       "      <td>-2.712238</td>\n",
       "      <td>-5.424475</td>\n",
       "    </tr>\n",
       "    <tr>\n",
       "      <th>4</th>\n",
       "      <td>0.675407</td>\n",
       "      <td>-1.591851</td>\n",
       "      <td>0.207031</td>\n",
       "      <td>1.445242</td>\n",
       "      <td>-0.265642</td>\n",
       "      <td>-0.265642</td>\n",
       "      <td>-0.531284</td>\n",
       "    </tr>\n",
       "  </tbody>\n",
       "</table>\n",
       "</div>"
      ],
      "text/plain": [
       "     yellow    orange       red     green      blue    indigo    violet\n",
       "1 -1.482596  1.394340 -0.932420 -0.296046 -0.086157 -0.086157 -0.172315\n",
       "2 -0.877756  0.934736 -0.166802 -1.705276  0.858605  0.858605  1.717210\n",
       "3 -0.129634  0.066943 -0.364850 -1.580746 -2.712238 -2.712238 -5.424475\n",
       "4  0.675407 -1.591851  0.207031  1.445242 -0.265642 -0.265642 -0.531284"
      ]
     },
     "execution_count": 13,
     "metadata": {},
     "output_type": "execute_result"
    }
   ],
   "source": [
    "my_df"
   ]
  },
  {
   "cell_type": "code",
   "execution_count": 14,
   "id": "7a028004-a01a-48d0-b863-8378267669d1",
   "metadata": {},
   "outputs": [
    {
     "data": {
      "text/plain": [
       "1   -0.172315\n",
       "2    1.717210\n",
       "3   -5.424475\n",
       "4   -0.531284\n",
       "Name: violet, dtype: float64"
      ]
     },
     "execution_count": 14,
     "metadata": {},
     "output_type": "execute_result"
    }
   ],
   "source": [
    "my_df['violet']"
   ]
  },
  {
   "cell_type": "code",
   "execution_count": 15,
   "id": "6010d243-68ad-41b6-8b80-b5b3e6dcdd05",
   "metadata": {},
   "outputs": [
    {
     "data": {
      "text/plain": [
       "yellow   -0.877756\n",
       "orange    0.934736\n",
       "red      -0.166802\n",
       "green    -1.705276\n",
       "blue      0.858605\n",
       "indigo    0.858605\n",
       "violet    1.717210\n",
       "Name: 2, dtype: float64"
      ]
     },
     "execution_count": 15,
     "metadata": {},
     "output_type": "execute_result"
    }
   ],
   "source": [
    "my_df.loc[2]"
   ]
  },
  {
   "cell_type": "code",
   "execution_count": 16,
   "id": "385daa85-13a4-4fed-8cfa-a558119b4f03",
   "metadata": {},
   "outputs": [
    {
     "data": {
      "text/plain": [
       "yellow   -0.877756\n",
       "orange    0.934736\n",
       "red      -0.166802\n",
       "green    -1.705276\n",
       "blue      0.858605\n",
       "indigo    0.858605\n",
       "violet    1.717210\n",
       "Name: 2, dtype: float64"
      ]
     },
     "execution_count": 16,
     "metadata": {},
     "output_type": "execute_result"
    }
   ],
   "source": [
    "my_df.iloc[1]"
   ]
  },
  {
   "cell_type": "code",
   "execution_count": 17,
   "id": "882c4607-623b-4398-b95f-dbdff5a9d8f9",
   "metadata": {},
   "outputs": [
    {
     "data": {
      "text/plain": [
       "yellow   -0.129634\n",
       "orange    0.066943\n",
       "red      -0.364850\n",
       "green    -1.580746\n",
       "blue     -2.712238\n",
       "indigo   -2.712238\n",
       "violet   -5.424475\n",
       "Name: 3, dtype: float64"
      ]
     },
     "execution_count": 17,
     "metadata": {},
     "output_type": "execute_result"
    }
   ],
   "source": [
    "my_df.iloc[2]"
   ]
  },
  {
   "cell_type": "markdown",
   "id": "3e834af3-bb08-4fa8-9177-fa57b8e3c4ff",
   "metadata": {},
   "source": [
    "указываем новые значения в строках"
   ]
  },
  {
   "cell_type": "code",
   "execution_count": 18,
   "id": "1bc341eb-99d7-4412-8476-6fe362f649df",
   "metadata": {},
   "outputs": [],
   "source": [
    "my_df.iloc[2] = my_df.iloc[1]"
   ]
  },
  {
   "cell_type": "code",
   "execution_count": 19,
   "id": "4ebe3f2e-313c-4c0d-ba00-607d3c8c1a04",
   "metadata": {},
   "outputs": [
    {
     "data": {
      "text/plain": [
       "yellow   -0.877756\n",
       "orange    0.934736\n",
       "red      -0.166802\n",
       "green    -1.705276\n",
       "blue      0.858605\n",
       "indigo    0.858605\n",
       "violet    1.717210\n",
       "Name: 3, dtype: float64"
      ]
     },
     "execution_count": 19,
     "metadata": {},
     "output_type": "execute_result"
    }
   ],
   "source": [
    "my_df.iloc[2] "
   ]
  },
  {
   "cell_type": "code",
   "execution_count": 20,
   "id": "02baa6c4-6552-4238-a326-83469fd09724",
   "metadata": {},
   "outputs": [
    {
     "data": {
      "text/html": [
       "<div>\n",
       "<style scoped>\n",
       "    .dataframe tbody tr th:only-of-type {\n",
       "        vertical-align: middle;\n",
       "    }\n",
       "\n",
       "    .dataframe tbody tr th {\n",
       "        vertical-align: top;\n",
       "    }\n",
       "\n",
       "    .dataframe thead th {\n",
       "        text-align: right;\n",
       "    }\n",
       "</style>\n",
       "<table border=\"1\" class=\"dataframe\">\n",
       "  <thead>\n",
       "    <tr style=\"text-align: right;\">\n",
       "      <th></th>\n",
       "      <th>yellow</th>\n",
       "      <th>orange</th>\n",
       "      <th>red</th>\n",
       "      <th>green</th>\n",
       "      <th>blue</th>\n",
       "      <th>indigo</th>\n",
       "      <th>violet</th>\n",
       "    </tr>\n",
       "  </thead>\n",
       "  <tbody>\n",
       "    <tr>\n",
       "      <th>1</th>\n",
       "      <td>-1.482596</td>\n",
       "      <td>1.394340</td>\n",
       "      <td>-0.932420</td>\n",
       "      <td>-0.296046</td>\n",
       "      <td>-0.086157</td>\n",
       "      <td>-0.086157</td>\n",
       "      <td>-0.172315</td>\n",
       "    </tr>\n",
       "    <tr>\n",
       "      <th>2</th>\n",
       "      <td>-0.877756</td>\n",
       "      <td>0.934736</td>\n",
       "      <td>-0.166802</td>\n",
       "      <td>-1.705276</td>\n",
       "      <td>0.858605</td>\n",
       "      <td>0.858605</td>\n",
       "      <td>1.717210</td>\n",
       "    </tr>\n",
       "    <tr>\n",
       "      <th>3</th>\n",
       "      <td>-0.877756</td>\n",
       "      <td>0.934736</td>\n",
       "      <td>-0.166802</td>\n",
       "      <td>-1.705276</td>\n",
       "      <td>0.858605</td>\n",
       "      <td>0.858605</td>\n",
       "      <td>1.717210</td>\n",
       "    </tr>\n",
       "    <tr>\n",
       "      <th>4</th>\n",
       "      <td>0.675407</td>\n",
       "      <td>-1.591851</td>\n",
       "      <td>0.207031</td>\n",
       "      <td>1.445242</td>\n",
       "      <td>-0.265642</td>\n",
       "      <td>-0.265642</td>\n",
       "      <td>-0.531284</td>\n",
       "    </tr>\n",
       "  </tbody>\n",
       "</table>\n",
       "</div>"
      ],
      "text/plain": [
       "     yellow    orange       red     green      blue    indigo    violet\n",
       "1 -1.482596  1.394340 -0.932420 -0.296046 -0.086157 -0.086157 -0.172315\n",
       "2 -0.877756  0.934736 -0.166802 -1.705276  0.858605  0.858605  1.717210\n",
       "3 -0.877756  0.934736 -0.166802 -1.705276  0.858605  0.858605  1.717210\n",
       "4  0.675407 -1.591851  0.207031  1.445242 -0.265642 -0.265642 -0.531284"
      ]
     },
     "execution_count": 20,
     "metadata": {},
     "output_type": "execute_result"
    }
   ],
   "source": [
    "my_df"
   ]
  },
  {
   "cell_type": "code",
   "execution_count": 21,
   "id": "bf615cb7-2c8f-4868-9d07-8416e409709d",
   "metadata": {},
   "outputs": [
    {
     "data": {
      "text/plain": [
       "np.float64(0.934736095419691)"
      ]
     },
     "execution_count": 21,
     "metadata": {},
     "output_type": "execute_result"
    }
   ],
   "source": [
    "my_df.loc[3,'orange']"
   ]
  },
  {
   "cell_type": "code",
   "execution_count": 22,
   "id": "d2d81183-7b00-4dc6-bbc1-8136b24fa6e1",
   "metadata": {},
   "outputs": [
    {
     "data": {
      "text/html": [
       "<div>\n",
       "<style scoped>\n",
       "    .dataframe tbody tr th:only-of-type {\n",
       "        vertical-align: middle;\n",
       "    }\n",
       "\n",
       "    .dataframe tbody tr th {\n",
       "        vertical-align: top;\n",
       "    }\n",
       "\n",
       "    .dataframe thead th {\n",
       "        text-align: right;\n",
       "    }\n",
       "</style>\n",
       "<table border=\"1\" class=\"dataframe\">\n",
       "  <thead>\n",
       "    <tr style=\"text-align: right;\">\n",
       "      <th></th>\n",
       "      <th>blue</th>\n",
       "      <th>violet</th>\n",
       "    </tr>\n",
       "  </thead>\n",
       "  <tbody>\n",
       "    <tr>\n",
       "      <th>1</th>\n",
       "      <td>-0.086157</td>\n",
       "      <td>-0.172315</td>\n",
       "    </tr>\n",
       "    <tr>\n",
       "      <th>3</th>\n",
       "      <td>0.858605</td>\n",
       "      <td>1.717210</td>\n",
       "    </tr>\n",
       "  </tbody>\n",
       "</table>\n",
       "</div>"
      ],
      "text/plain": [
       "       blue    violet\n",
       "1 -0.086157 -0.172315\n",
       "3  0.858605  1.717210"
      ]
     },
     "execution_count": 22,
     "metadata": {},
     "output_type": "execute_result"
    }
   ],
   "source": [
    "my_df.loc[[1,3], ['blue', 'violet']]"
   ]
  },
  {
   "cell_type": "code",
   "execution_count": 23,
   "id": "351608c1-18ec-44d5-aac2-59ed7641b2d2",
   "metadata": {},
   "outputs": [
    {
     "data": {
      "text/html": [
       "<div>\n",
       "<style scoped>\n",
       "    .dataframe tbody tr th:only-of-type {\n",
       "        vertical-align: middle;\n",
       "    }\n",
       "\n",
       "    .dataframe tbody tr th {\n",
       "        vertical-align: top;\n",
       "    }\n",
       "\n",
       "    .dataframe thead th {\n",
       "        text-align: right;\n",
       "    }\n",
       "</style>\n",
       "<table border=\"1\" class=\"dataframe\">\n",
       "  <thead>\n",
       "    <tr style=\"text-align: right;\">\n",
       "      <th></th>\n",
       "      <th>yellow</th>\n",
       "      <th>orange</th>\n",
       "      <th>red</th>\n",
       "      <th>green</th>\n",
       "      <th>blue</th>\n",
       "      <th>indigo</th>\n",
       "      <th>violet</th>\n",
       "    </tr>\n",
       "  </thead>\n",
       "  <tbody>\n",
       "    <tr>\n",
       "      <th>1</th>\n",
       "      <td>-1.482596</td>\n",
       "      <td>1.394340</td>\n",
       "      <td>-0.932420</td>\n",
       "      <td>-0.296046</td>\n",
       "      <td>-0.086157</td>\n",
       "      <td>-0.086157</td>\n",
       "      <td>-0.172315</td>\n",
       "    </tr>\n",
       "    <tr>\n",
       "      <th>2</th>\n",
       "      <td>-0.877756</td>\n",
       "      <td>0.934736</td>\n",
       "      <td>-0.166802</td>\n",
       "      <td>-1.705276</td>\n",
       "      <td>0.858605</td>\n",
       "      <td>0.858605</td>\n",
       "      <td>1.717210</td>\n",
       "    </tr>\n",
       "    <tr>\n",
       "      <th>4</th>\n",
       "      <td>0.675407</td>\n",
       "      <td>-1.591851</td>\n",
       "      <td>0.207031</td>\n",
       "      <td>1.445242</td>\n",
       "      <td>-0.265642</td>\n",
       "      <td>-0.265642</td>\n",
       "      <td>-0.531284</td>\n",
       "    </tr>\n",
       "  </tbody>\n",
       "</table>\n",
       "</div>"
      ],
      "text/plain": [
       "     yellow    orange       red     green      blue    indigo    violet\n",
       "1 -1.482596  1.394340 -0.932420 -0.296046 -0.086157 -0.086157 -0.172315\n",
       "2 -0.877756  0.934736 -0.166802 -1.705276  0.858605  0.858605  1.717210\n",
       "4  0.675407 -1.591851  0.207031  1.445242 -0.265642 -0.265642 -0.531284"
      ]
     },
     "execution_count": 23,
     "metadata": {},
     "output_type": "execute_result"
    }
   ],
   "source": [
    "my_df.drop(3)"
   ]
  },
  {
   "cell_type": "code",
   "execution_count": 24,
   "id": "4f98f940-84ab-4dee-a9e2-c0714fe29f8e",
   "metadata": {},
   "outputs": [
    {
     "data": {
      "text/html": [
       "<div>\n",
       "<style scoped>\n",
       "    .dataframe tbody tr th:only-of-type {\n",
       "        vertical-align: middle;\n",
       "    }\n",
       "\n",
       "    .dataframe tbody tr th {\n",
       "        vertical-align: top;\n",
       "    }\n",
       "\n",
       "    .dataframe thead th {\n",
       "        text-align: right;\n",
       "    }\n",
       "</style>\n",
       "<table border=\"1\" class=\"dataframe\">\n",
       "  <thead>\n",
       "    <tr style=\"text-align: right;\">\n",
       "      <th></th>\n",
       "      <th>yellow</th>\n",
       "      <th>orange</th>\n",
       "      <th>red</th>\n",
       "      <th>green</th>\n",
       "      <th>blue</th>\n",
       "      <th>indigo</th>\n",
       "      <th>violet</th>\n",
       "    </tr>\n",
       "  </thead>\n",
       "  <tbody>\n",
       "    <tr>\n",
       "      <th>1</th>\n",
       "      <td>-1.482596</td>\n",
       "      <td>1.394340</td>\n",
       "      <td>-0.932420</td>\n",
       "      <td>-0.296046</td>\n",
       "      <td>-0.086157</td>\n",
       "      <td>-0.086157</td>\n",
       "      <td>-0.172315</td>\n",
       "    </tr>\n",
       "    <tr>\n",
       "      <th>2</th>\n",
       "      <td>-0.877756</td>\n",
       "      <td>0.934736</td>\n",
       "      <td>-0.166802</td>\n",
       "      <td>-1.705276</td>\n",
       "      <td>0.858605</td>\n",
       "      <td>0.858605</td>\n",
       "      <td>1.717210</td>\n",
       "    </tr>\n",
       "    <tr>\n",
       "      <th>3</th>\n",
       "      <td>-0.877756</td>\n",
       "      <td>0.934736</td>\n",
       "      <td>-0.166802</td>\n",
       "      <td>-1.705276</td>\n",
       "      <td>0.858605</td>\n",
       "      <td>0.858605</td>\n",
       "      <td>1.717210</td>\n",
       "    </tr>\n",
       "    <tr>\n",
       "      <th>4</th>\n",
       "      <td>0.675407</td>\n",
       "      <td>-1.591851</td>\n",
       "      <td>0.207031</td>\n",
       "      <td>1.445242</td>\n",
       "      <td>-0.265642</td>\n",
       "      <td>-0.265642</td>\n",
       "      <td>-0.531284</td>\n",
       "    </tr>\n",
       "  </tbody>\n",
       "</table>\n",
       "</div>"
      ],
      "text/plain": [
       "     yellow    orange       red     green      blue    indigo    violet\n",
       "1 -1.482596  1.394340 -0.932420 -0.296046 -0.086157 -0.086157 -0.172315\n",
       "2 -0.877756  0.934736 -0.166802 -1.705276  0.858605  0.858605  1.717210\n",
       "3 -0.877756  0.934736 -0.166802 -1.705276  0.858605  0.858605  1.717210\n",
       "4  0.675407 -1.591851  0.207031  1.445242 -0.265642 -0.265642 -0.531284"
      ]
     },
     "execution_count": 24,
     "metadata": {},
     "output_type": "execute_result"
    }
   ],
   "source": [
    "my_df"
   ]
  },
  {
   "cell_type": "code",
   "execution_count": 25,
   "id": "b3ee6f4a-2a91-4174-8684-cb0e920e63dd",
   "metadata": {},
   "outputs": [],
   "source": [
    "my_df.drop(3, inplace=True)"
   ]
  },
  {
   "cell_type": "code",
   "execution_count": 26,
   "id": "2f2bf123-66a8-4cc2-85f2-49c82bf754a6",
   "metadata": {},
   "outputs": [
    {
     "data": {
      "text/html": [
       "<div>\n",
       "<style scoped>\n",
       "    .dataframe tbody tr th:only-of-type {\n",
       "        vertical-align: middle;\n",
       "    }\n",
       "\n",
       "    .dataframe tbody tr th {\n",
       "        vertical-align: top;\n",
       "    }\n",
       "\n",
       "    .dataframe thead th {\n",
       "        text-align: right;\n",
       "    }\n",
       "</style>\n",
       "<table border=\"1\" class=\"dataframe\">\n",
       "  <thead>\n",
       "    <tr style=\"text-align: right;\">\n",
       "      <th></th>\n",
       "      <th>yellow</th>\n",
       "      <th>orange</th>\n",
       "      <th>red</th>\n",
       "      <th>green</th>\n",
       "      <th>blue</th>\n",
       "      <th>indigo</th>\n",
       "      <th>violet</th>\n",
       "    </tr>\n",
       "  </thead>\n",
       "  <tbody>\n",
       "    <tr>\n",
       "      <th>1</th>\n",
       "      <td>-1.482596</td>\n",
       "      <td>1.394340</td>\n",
       "      <td>-0.932420</td>\n",
       "      <td>-0.296046</td>\n",
       "      <td>-0.086157</td>\n",
       "      <td>-0.086157</td>\n",
       "      <td>-0.172315</td>\n",
       "    </tr>\n",
       "    <tr>\n",
       "      <th>2</th>\n",
       "      <td>-0.877756</td>\n",
       "      <td>0.934736</td>\n",
       "      <td>-0.166802</td>\n",
       "      <td>-1.705276</td>\n",
       "      <td>0.858605</td>\n",
       "      <td>0.858605</td>\n",
       "      <td>1.717210</td>\n",
       "    </tr>\n",
       "    <tr>\n",
       "      <th>4</th>\n",
       "      <td>0.675407</td>\n",
       "      <td>-1.591851</td>\n",
       "      <td>0.207031</td>\n",
       "      <td>1.445242</td>\n",
       "      <td>-0.265642</td>\n",
       "      <td>-0.265642</td>\n",
       "      <td>-0.531284</td>\n",
       "    </tr>\n",
       "  </tbody>\n",
       "</table>\n",
       "</div>"
      ],
      "text/plain": [
       "     yellow    orange       red     green      blue    indigo    violet\n",
       "1 -1.482596  1.394340 -0.932420 -0.296046 -0.086157 -0.086157 -0.172315\n",
       "2 -0.877756  0.934736 -0.166802 -1.705276  0.858605  0.858605  1.717210\n",
       "4  0.675407 -1.591851  0.207031  1.445242 -0.265642 -0.265642 -0.531284"
      ]
     },
     "execution_count": 26,
     "metadata": {},
     "output_type": "execute_result"
    }
   ],
   "source": [
    "my_df"
   ]
  },
  {
   "cell_type": "code",
   "execution_count": 27,
   "id": "5d1558ea-136d-4ae7-9899-e5c1b2b49076",
   "metadata": {},
   "outputs": [
    {
     "data": {
      "text/html": [
       "<div>\n",
       "<style scoped>\n",
       "    .dataframe tbody tr th:only-of-type {\n",
       "        vertical-align: middle;\n",
       "    }\n",
       "\n",
       "    .dataframe tbody tr th {\n",
       "        vertical-align: top;\n",
       "    }\n",
       "\n",
       "    .dataframe thead th {\n",
       "        text-align: right;\n",
       "    }\n",
       "</style>\n",
       "<table border=\"1\" class=\"dataframe\">\n",
       "  <thead>\n",
       "    <tr style=\"text-align: right;\">\n",
       "      <th></th>\n",
       "      <th>yellow</th>\n",
       "      <th>orange</th>\n",
       "      <th>red</th>\n",
       "      <th>green</th>\n",
       "      <th>blue</th>\n",
       "      <th>violet</th>\n",
       "    </tr>\n",
       "  </thead>\n",
       "  <tbody>\n",
       "    <tr>\n",
       "      <th>1</th>\n",
       "      <td>-1.482596</td>\n",
       "      <td>1.394340</td>\n",
       "      <td>-0.932420</td>\n",
       "      <td>-0.296046</td>\n",
       "      <td>-0.086157</td>\n",
       "      <td>-0.172315</td>\n",
       "    </tr>\n",
       "    <tr>\n",
       "      <th>2</th>\n",
       "      <td>-0.877756</td>\n",
       "      <td>0.934736</td>\n",
       "      <td>-0.166802</td>\n",
       "      <td>-1.705276</td>\n",
       "      <td>0.858605</td>\n",
       "      <td>1.717210</td>\n",
       "    </tr>\n",
       "    <tr>\n",
       "      <th>4</th>\n",
       "      <td>0.675407</td>\n",
       "      <td>-1.591851</td>\n",
       "      <td>0.207031</td>\n",
       "      <td>1.445242</td>\n",
       "      <td>-0.265642</td>\n",
       "      <td>-0.531284</td>\n",
       "    </tr>\n",
       "  </tbody>\n",
       "</table>\n",
       "</div>"
      ],
      "text/plain": [
       "     yellow    orange       red     green      blue    violet\n",
       "1 -1.482596  1.394340 -0.932420 -0.296046 -0.086157 -0.172315\n",
       "2 -0.877756  0.934736 -0.166802 -1.705276  0.858605  1.717210\n",
       "4  0.675407 -1.591851  0.207031  1.445242 -0.265642 -0.531284"
      ]
     },
     "execution_count": 27,
     "metadata": {},
     "output_type": "execute_result"
    }
   ],
   "source": [
    "my_df.drop('indigo', axis=1)"
   ]
  },
  {
   "cell_type": "code",
   "execution_count": 28,
   "id": "e5144879-7f44-4053-a5c2-d82552546439",
   "metadata": {},
   "outputs": [
    {
     "data": {
      "text/html": [
       "<div>\n",
       "<style scoped>\n",
       "    .dataframe tbody tr th:only-of-type {\n",
       "        vertical-align: middle;\n",
       "    }\n",
       "\n",
       "    .dataframe tbody tr th {\n",
       "        vertical-align: top;\n",
       "    }\n",
       "\n",
       "    .dataframe thead th {\n",
       "        text-align: right;\n",
       "    }\n",
       "</style>\n",
       "<table border=\"1\" class=\"dataframe\">\n",
       "  <thead>\n",
       "    <tr style=\"text-align: right;\">\n",
       "      <th></th>\n",
       "      <th>yellow</th>\n",
       "      <th>orange</th>\n",
       "      <th>red</th>\n",
       "      <th>green</th>\n",
       "      <th>blue</th>\n",
       "      <th>indigo</th>\n",
       "      <th>violet</th>\n",
       "    </tr>\n",
       "  </thead>\n",
       "  <tbody>\n",
       "    <tr>\n",
       "      <th>1</th>\n",
       "      <td>-1.482596</td>\n",
       "      <td>1.394340</td>\n",
       "      <td>-0.932420</td>\n",
       "      <td>-0.296046</td>\n",
       "      <td>-0.086157</td>\n",
       "      <td>-0.086157</td>\n",
       "      <td>-0.172315</td>\n",
       "    </tr>\n",
       "    <tr>\n",
       "      <th>2</th>\n",
       "      <td>-0.877756</td>\n",
       "      <td>0.934736</td>\n",
       "      <td>-0.166802</td>\n",
       "      <td>-1.705276</td>\n",
       "      <td>0.858605</td>\n",
       "      <td>0.858605</td>\n",
       "      <td>1.717210</td>\n",
       "    </tr>\n",
       "    <tr>\n",
       "      <th>4</th>\n",
       "      <td>0.675407</td>\n",
       "      <td>-1.591851</td>\n",
       "      <td>0.207031</td>\n",
       "      <td>1.445242</td>\n",
       "      <td>-0.265642</td>\n",
       "      <td>-0.265642</td>\n",
       "      <td>-0.531284</td>\n",
       "    </tr>\n",
       "  </tbody>\n",
       "</table>\n",
       "</div>"
      ],
      "text/plain": [
       "     yellow    orange       red     green      blue    indigo    violet\n",
       "1 -1.482596  1.394340 -0.932420 -0.296046 -0.086157 -0.086157 -0.172315\n",
       "2 -0.877756  0.934736 -0.166802 -1.705276  0.858605  0.858605  1.717210\n",
       "4  0.675407 -1.591851  0.207031  1.445242 -0.265642 -0.265642 -0.531284"
      ]
     },
     "execution_count": 28,
     "metadata": {},
     "output_type": "execute_result"
    }
   ],
   "source": [
    "my_df"
   ]
  },
  {
   "cell_type": "code",
   "execution_count": 29,
   "id": "380a5f21-ed04-48c2-a420-f3ef7b91ceec",
   "metadata": {},
   "outputs": [],
   "source": [
    "my_df.drop('indigo', axis=1, inplace=True)"
   ]
  },
  {
   "cell_type": "code",
   "execution_count": 30,
   "id": "6c45c541-0efa-4d73-affa-7940108b36b1",
   "metadata": {},
   "outputs": [
    {
     "data": {
      "text/html": [
       "<div>\n",
       "<style scoped>\n",
       "    .dataframe tbody tr th:only-of-type {\n",
       "        vertical-align: middle;\n",
       "    }\n",
       "\n",
       "    .dataframe tbody tr th {\n",
       "        vertical-align: top;\n",
       "    }\n",
       "\n",
       "    .dataframe thead th {\n",
       "        text-align: right;\n",
       "    }\n",
       "</style>\n",
       "<table border=\"1\" class=\"dataframe\">\n",
       "  <thead>\n",
       "    <tr style=\"text-align: right;\">\n",
       "      <th></th>\n",
       "      <th>yellow</th>\n",
       "      <th>orange</th>\n",
       "      <th>red</th>\n",
       "      <th>green</th>\n",
       "      <th>blue</th>\n",
       "      <th>violet</th>\n",
       "    </tr>\n",
       "  </thead>\n",
       "  <tbody>\n",
       "    <tr>\n",
       "      <th>1</th>\n",
       "      <td>-1.482596</td>\n",
       "      <td>1.394340</td>\n",
       "      <td>-0.932420</td>\n",
       "      <td>-0.296046</td>\n",
       "      <td>-0.086157</td>\n",
       "      <td>-0.172315</td>\n",
       "    </tr>\n",
       "    <tr>\n",
       "      <th>2</th>\n",
       "      <td>-0.877756</td>\n",
       "      <td>0.934736</td>\n",
       "      <td>-0.166802</td>\n",
       "      <td>-1.705276</td>\n",
       "      <td>0.858605</td>\n",
       "      <td>1.717210</td>\n",
       "    </tr>\n",
       "    <tr>\n",
       "      <th>4</th>\n",
       "      <td>0.675407</td>\n",
       "      <td>-1.591851</td>\n",
       "      <td>0.207031</td>\n",
       "      <td>1.445242</td>\n",
       "      <td>-0.265642</td>\n",
       "      <td>-0.531284</td>\n",
       "    </tr>\n",
       "  </tbody>\n",
       "</table>\n",
       "</div>"
      ],
      "text/plain": [
       "     yellow    orange       red     green      blue    violet\n",
       "1 -1.482596  1.394340 -0.932420 -0.296046 -0.086157 -0.172315\n",
       "2 -0.877756  0.934736 -0.166802 -1.705276  0.858605  1.717210\n",
       "4  0.675407 -1.591851  0.207031  1.445242 -0.265642 -0.531284"
      ]
     },
     "execution_count": 30,
     "metadata": {},
     "output_type": "execute_result"
    }
   ],
   "source": [
    "my_df"
   ]
  },
  {
   "cell_type": "markdown",
   "id": "8e26ec57-40bd-4508-8624-0bef2b76ddc2",
   "metadata": {},
   "source": [
    "it's tupple"
   ]
  },
  {
   "cell_type": "code",
   "execution_count": 31,
   "id": "60ea7a25-ec5a-4f1d-9fac-7ea02198bc8f",
   "metadata": {},
   "outputs": [
    {
     "data": {
      "text/plain": [
       "(3, 6)"
      ]
     },
     "execution_count": 31,
     "metadata": {},
     "output_type": "execute_result"
    }
   ],
   "source": [
    "my_df.shape"
   ]
  },
  {
   "cell_type": "code",
   "execution_count": null,
   "id": "1544c5b0-017a-4334-b24d-827d6e4babca",
   "metadata": {},
   "outputs": [],
   "source": []
  }
 ],
 "metadata": {
  "kernelspec": {
   "display_name": "venv",
   "language": "python",
   "name": "python3"
  },
  "language_info": {
   "codemirror_mode": {
    "name": "ipython",
    "version": 3
   },
   "file_extension": ".py",
   "mimetype": "text/x-python",
   "name": "python",
   "nbconvert_exporter": "python",
   "pygments_lexer": "ipython3",
   "version": "3.12.3"
  }
 },
 "nbformat": 4,
 "nbformat_minor": 5
}
