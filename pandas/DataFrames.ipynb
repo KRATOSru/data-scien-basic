{
 "cells": [
  {
   "cell_type": "markdown",
   "id": "4544fbe3-982e-46b6-947c-ec23c76131d7",
   "metadata": {},
   "source": [
    "# Основы DataFrames, которые состоят из Series"
   ]
  },
  {
   "cell_type": "code",
   "execution_count": 96,
   "id": "88226c67-9f29-4d94-908c-fb718752db24",
   "metadata": {},
   "outputs": [],
   "source": [
    "import numpy as np\n",
    "import pandas as pd"
   ]
  },
  {
   "cell_type": "markdown",
   "id": "04713ae0-6595-43d0-b41c-c5640005a073",
   "metadata": {},
   "source": [
    "#shift + tab"
   ]
  },
  {
   "cell_type": "code",
   "execution_count": 97,
   "id": "af4c07cb-146f-44f8-818e-0d7a171c28f8",
   "metadata": {},
   "outputs": [],
   "source": [
    "my_df = pd.DataFrame(np.random.randn(4,5), [1,2,3,4], ['yellow', 'orange', 'red', 'green', 'blue'])"
   ]
  },
  {
   "cell_type": "code",
   "execution_count": 98,
   "id": "3b4e5679-3ebb-46db-8651-3a756ea4897f",
   "metadata": {},
   "outputs": [
    {
     "data": {
      "text/html": [
       "<div>\n",
       "<style scoped>\n",
       "    .dataframe tbody tr th:only-of-type {\n",
       "        vertical-align: middle;\n",
       "    }\n",
       "\n",
       "    .dataframe tbody tr th {\n",
       "        vertical-align: top;\n",
       "    }\n",
       "\n",
       "    .dataframe thead th {\n",
       "        text-align: right;\n",
       "    }\n",
       "</style>\n",
       "<table border=\"1\" class=\"dataframe\">\n",
       "  <thead>\n",
       "    <tr style=\"text-align: right;\">\n",
       "      <th></th>\n",
       "      <th>yellow</th>\n",
       "      <th>orange</th>\n",
       "      <th>red</th>\n",
       "      <th>green</th>\n",
       "      <th>blue</th>\n",
       "    </tr>\n",
       "  </thead>\n",
       "  <tbody>\n",
       "    <tr>\n",
       "      <th>1</th>\n",
       "      <td>0.175977</td>\n",
       "      <td>0.949438</td>\n",
       "      <td>-0.721202</td>\n",
       "      <td>1.374826</td>\n",
       "      <td>-0.937747</td>\n",
       "    </tr>\n",
       "    <tr>\n",
       "      <th>2</th>\n",
       "      <td>-0.609580</td>\n",
       "      <td>-2.098475</td>\n",
       "      <td>1.087194</td>\n",
       "      <td>0.313404</td>\n",
       "      <td>0.678583</td>\n",
       "    </tr>\n",
       "    <tr>\n",
       "      <th>3</th>\n",
       "      <td>0.337754</td>\n",
       "      <td>0.195804</td>\n",
       "      <td>0.265127</td>\n",
       "      <td>-0.216558</td>\n",
       "      <td>-1.047353</td>\n",
       "    </tr>\n",
       "    <tr>\n",
       "      <th>4</th>\n",
       "      <td>-0.415756</td>\n",
       "      <td>-0.635777</td>\n",
       "      <td>-0.592052</td>\n",
       "      <td>-0.260310</td>\n",
       "      <td>-2.120363</td>\n",
       "    </tr>\n",
       "  </tbody>\n",
       "</table>\n",
       "</div>"
      ],
      "text/plain": [
       "     yellow    orange       red     green      blue\n",
       "1  0.175977  0.949438 -0.721202  1.374826 -0.937747\n",
       "2 -0.609580 -2.098475  1.087194  0.313404  0.678583\n",
       "3  0.337754  0.195804  0.265127 -0.216558 -1.047353\n",
       "4 -0.415756 -0.635777 -0.592052 -0.260310 -2.120363"
      ]
     },
     "execution_count": 98,
     "metadata": {},
     "output_type": "execute_result"
    }
   ],
   "source": [
    "my_df"
   ]
  },
  {
   "cell_type": "code",
   "execution_count": 99,
   "id": "b2462c64-e17d-42a4-809b-b59b64528404",
   "metadata": {},
   "outputs": [
    {
     "data": {
      "text/plain": [
       "1    0.949438\n",
       "2   -2.098475\n",
       "3    0.195804\n",
       "4   -0.635777\n",
       "Name: orange, dtype: float64"
      ]
     },
     "execution_count": 99,
     "metadata": {},
     "output_type": "execute_result"
    }
   ],
   "source": [
    "my_df['orange']"
   ]
  },
  {
   "cell_type": "code",
   "execution_count": 100,
   "id": "455385f8-afa0-4226-85fa-62fe149462b4",
   "metadata": {},
   "outputs": [
    {
     "data": {
      "text/plain": [
       "1   -0.721202\n",
       "2    1.087194\n",
       "3    0.265127\n",
       "4   -0.592052\n",
       "Name: red, dtype: float64"
      ]
     },
     "execution_count": 100,
     "metadata": {},
     "output_type": "execute_result"
    }
   ],
   "source": [
    "my_df['red']"
   ]
  },
  {
   "cell_type": "code",
   "execution_count": 101,
   "id": "efe7a8ba-09cb-4ed6-9949-a7c19d170373",
   "metadata": {},
   "outputs": [
    {
     "data": {
      "text/plain": [
       "pandas.core.series.Series"
      ]
     },
     "execution_count": 101,
     "metadata": {},
     "output_type": "execute_result"
    }
   ],
   "source": [
    "type(my_df['orange'])"
   ]
  },
  {
   "cell_type": "code",
   "execution_count": 102,
   "id": "a0657634-8dcb-4619-af00-20ab09dfd3a6",
   "metadata": {},
   "outputs": [
    {
     "data": {
      "text/plain": [
       "pandas.core.frame.DataFrame"
      ]
     },
     "execution_count": 102,
     "metadata": {},
     "output_type": "execute_result"
    }
   ],
   "source": [
    "type(my_df)"
   ]
  },
  {
   "cell_type": "code",
   "execution_count": 103,
   "id": "17b8266c-9f16-4f79-9173-7e867d69ce8f",
   "metadata": {},
   "outputs": [
    {
     "data": {
      "text/html": [
       "<div>\n",
       "<style scoped>\n",
       "    .dataframe tbody tr th:only-of-type {\n",
       "        vertical-align: middle;\n",
       "    }\n",
       "\n",
       "    .dataframe tbody tr th {\n",
       "        vertical-align: top;\n",
       "    }\n",
       "\n",
       "    .dataframe thead th {\n",
       "        text-align: right;\n",
       "    }\n",
       "</style>\n",
       "<table border=\"1\" class=\"dataframe\">\n",
       "  <thead>\n",
       "    <tr style=\"text-align: right;\">\n",
       "      <th></th>\n",
       "      <th>yellow</th>\n",
       "      <th>blue</th>\n",
       "    </tr>\n",
       "  </thead>\n",
       "  <tbody>\n",
       "    <tr>\n",
       "      <th>1</th>\n",
       "      <td>0.175977</td>\n",
       "      <td>-0.937747</td>\n",
       "    </tr>\n",
       "    <tr>\n",
       "      <th>2</th>\n",
       "      <td>-0.609580</td>\n",
       "      <td>0.678583</td>\n",
       "    </tr>\n",
       "    <tr>\n",
       "      <th>3</th>\n",
       "      <td>0.337754</td>\n",
       "      <td>-1.047353</td>\n",
       "    </tr>\n",
       "    <tr>\n",
       "      <th>4</th>\n",
       "      <td>-0.415756</td>\n",
       "      <td>-2.120363</td>\n",
       "    </tr>\n",
       "  </tbody>\n",
       "</table>\n",
       "</div>"
      ],
      "text/plain": [
       "     yellow      blue\n",
       "1  0.175977 -0.937747\n",
       "2 -0.609580  0.678583\n",
       "3  0.337754 -1.047353\n",
       "4 -0.415756 -2.120363"
      ]
     },
     "execution_count": 103,
     "metadata": {},
     "output_type": "execute_result"
    }
   ],
   "source": [
    "my_df[['yellow', 'blue']]"
   ]
  },
  {
   "cell_type": "markdown",
   "id": "8ef0016f-974f-4ab4-8e21-2a76e80f5795",
   "metadata": {},
   "source": [
    "DataFrame уже"
   ]
  },
  {
   "cell_type": "code",
   "execution_count": 104,
   "id": "96130c61-55f4-4e8f-8a1c-8f904e291010",
   "metadata": {},
   "outputs": [
    {
     "data": {
      "text/plain": [
       "pandas.core.frame.DataFrame"
      ]
     },
     "execution_count": 104,
     "metadata": {},
     "output_type": "execute_result"
    }
   ],
   "source": [
    "type(my_df[['yellow', 'blue']])"
   ]
  },
  {
   "cell_type": "code",
   "execution_count": 105,
   "id": "863e6694-0119-45dd-8b67-190be6bc9a8b",
   "metadata": {},
   "outputs": [],
   "source": [
    "my_df['indigo'] = my_df['blue']"
   ]
  },
  {
   "cell_type": "code",
   "execution_count": 106,
   "id": "ef8a887b-c535-49d9-9fb4-4c30a1fb5cd1",
   "metadata": {},
   "outputs": [
    {
     "data": {
      "text/html": [
       "<div>\n",
       "<style scoped>\n",
       "    .dataframe tbody tr th:only-of-type {\n",
       "        vertical-align: middle;\n",
       "    }\n",
       "\n",
       "    .dataframe tbody tr th {\n",
       "        vertical-align: top;\n",
       "    }\n",
       "\n",
       "    .dataframe thead th {\n",
       "        text-align: right;\n",
       "    }\n",
       "</style>\n",
       "<table border=\"1\" class=\"dataframe\">\n",
       "  <thead>\n",
       "    <tr style=\"text-align: right;\">\n",
       "      <th></th>\n",
       "      <th>yellow</th>\n",
       "      <th>orange</th>\n",
       "      <th>red</th>\n",
       "      <th>green</th>\n",
       "      <th>blue</th>\n",
       "      <th>indigo</th>\n",
       "    </tr>\n",
       "  </thead>\n",
       "  <tbody>\n",
       "    <tr>\n",
       "      <th>1</th>\n",
       "      <td>0.175977</td>\n",
       "      <td>0.949438</td>\n",
       "      <td>-0.721202</td>\n",
       "      <td>1.374826</td>\n",
       "      <td>-0.937747</td>\n",
       "      <td>-0.937747</td>\n",
       "    </tr>\n",
       "    <tr>\n",
       "      <th>2</th>\n",
       "      <td>-0.609580</td>\n",
       "      <td>-2.098475</td>\n",
       "      <td>1.087194</td>\n",
       "      <td>0.313404</td>\n",
       "      <td>0.678583</td>\n",
       "      <td>0.678583</td>\n",
       "    </tr>\n",
       "    <tr>\n",
       "      <th>3</th>\n",
       "      <td>0.337754</td>\n",
       "      <td>0.195804</td>\n",
       "      <td>0.265127</td>\n",
       "      <td>-0.216558</td>\n",
       "      <td>-1.047353</td>\n",
       "      <td>-1.047353</td>\n",
       "    </tr>\n",
       "    <tr>\n",
       "      <th>4</th>\n",
       "      <td>-0.415756</td>\n",
       "      <td>-0.635777</td>\n",
       "      <td>-0.592052</td>\n",
       "      <td>-0.260310</td>\n",
       "      <td>-2.120363</td>\n",
       "      <td>-2.120363</td>\n",
       "    </tr>\n",
       "  </tbody>\n",
       "</table>\n",
       "</div>"
      ],
      "text/plain": [
       "     yellow    orange       red     green      blue    indigo\n",
       "1  0.175977  0.949438 -0.721202  1.374826 -0.937747 -0.937747\n",
       "2 -0.609580 -2.098475  1.087194  0.313404  0.678583  0.678583\n",
       "3  0.337754  0.195804  0.265127 -0.216558 -1.047353 -1.047353\n",
       "4 -0.415756 -0.635777 -0.592052 -0.260310 -2.120363 -2.120363"
      ]
     },
     "execution_count": 106,
     "metadata": {},
     "output_type": "execute_result"
    }
   ],
   "source": [
    "my_df"
   ]
  },
  {
   "cell_type": "code",
   "execution_count": 107,
   "id": "e826be9a-19ea-4e3d-8566-8e608c9d4941",
   "metadata": {},
   "outputs": [],
   "source": [
    "my_df['violet'] = my_df['blue'] + my_df['indigo']"
   ]
  },
  {
   "cell_type": "code",
   "execution_count": 108,
   "id": "5cba0367-ddc3-43e9-9cc5-136df94e5717",
   "metadata": {},
   "outputs": [
    {
     "data": {
      "text/html": [
       "<div>\n",
       "<style scoped>\n",
       "    .dataframe tbody tr th:only-of-type {\n",
       "        vertical-align: middle;\n",
       "    }\n",
       "\n",
       "    .dataframe tbody tr th {\n",
       "        vertical-align: top;\n",
       "    }\n",
       "\n",
       "    .dataframe thead th {\n",
       "        text-align: right;\n",
       "    }\n",
       "</style>\n",
       "<table border=\"1\" class=\"dataframe\">\n",
       "  <thead>\n",
       "    <tr style=\"text-align: right;\">\n",
       "      <th></th>\n",
       "      <th>yellow</th>\n",
       "      <th>orange</th>\n",
       "      <th>red</th>\n",
       "      <th>green</th>\n",
       "      <th>blue</th>\n",
       "      <th>indigo</th>\n",
       "      <th>violet</th>\n",
       "    </tr>\n",
       "  </thead>\n",
       "  <tbody>\n",
       "    <tr>\n",
       "      <th>1</th>\n",
       "      <td>0.175977</td>\n",
       "      <td>0.949438</td>\n",
       "      <td>-0.721202</td>\n",
       "      <td>1.374826</td>\n",
       "      <td>-0.937747</td>\n",
       "      <td>-0.937747</td>\n",
       "      <td>-1.875495</td>\n",
       "    </tr>\n",
       "    <tr>\n",
       "      <th>2</th>\n",
       "      <td>-0.609580</td>\n",
       "      <td>-2.098475</td>\n",
       "      <td>1.087194</td>\n",
       "      <td>0.313404</td>\n",
       "      <td>0.678583</td>\n",
       "      <td>0.678583</td>\n",
       "      <td>1.357166</td>\n",
       "    </tr>\n",
       "    <tr>\n",
       "      <th>3</th>\n",
       "      <td>0.337754</td>\n",
       "      <td>0.195804</td>\n",
       "      <td>0.265127</td>\n",
       "      <td>-0.216558</td>\n",
       "      <td>-1.047353</td>\n",
       "      <td>-1.047353</td>\n",
       "      <td>-2.094706</td>\n",
       "    </tr>\n",
       "    <tr>\n",
       "      <th>4</th>\n",
       "      <td>-0.415756</td>\n",
       "      <td>-0.635777</td>\n",
       "      <td>-0.592052</td>\n",
       "      <td>-0.260310</td>\n",
       "      <td>-2.120363</td>\n",
       "      <td>-2.120363</td>\n",
       "      <td>-4.240727</td>\n",
       "    </tr>\n",
       "  </tbody>\n",
       "</table>\n",
       "</div>"
      ],
      "text/plain": [
       "     yellow    orange       red     green      blue    indigo    violet\n",
       "1  0.175977  0.949438 -0.721202  1.374826 -0.937747 -0.937747 -1.875495\n",
       "2 -0.609580 -2.098475  1.087194  0.313404  0.678583  0.678583  1.357166\n",
       "3  0.337754  0.195804  0.265127 -0.216558 -1.047353 -1.047353 -2.094706\n",
       "4 -0.415756 -0.635777 -0.592052 -0.260310 -2.120363 -2.120363 -4.240727"
      ]
     },
     "execution_count": 108,
     "metadata": {},
     "output_type": "execute_result"
    }
   ],
   "source": [
    "my_df"
   ]
  },
  {
   "cell_type": "code",
   "execution_count": 109,
   "id": "7a028004-a01a-48d0-b863-8378267669d1",
   "metadata": {},
   "outputs": [
    {
     "data": {
      "text/plain": [
       "1   -1.875495\n",
       "2    1.357166\n",
       "3   -2.094706\n",
       "4   -4.240727\n",
       "Name: violet, dtype: float64"
      ]
     },
     "execution_count": 109,
     "metadata": {},
     "output_type": "execute_result"
    }
   ],
   "source": [
    "my_df['violet']"
   ]
  },
  {
   "cell_type": "code",
   "execution_count": 110,
   "id": "6010d243-68ad-41b6-8b80-b5b3e6dcdd05",
   "metadata": {},
   "outputs": [
    {
     "data": {
      "text/plain": [
       "yellow   -0.609580\n",
       "orange   -2.098475\n",
       "red       1.087194\n",
       "green     0.313404\n",
       "blue      0.678583\n",
       "indigo    0.678583\n",
       "violet    1.357166\n",
       "Name: 2, dtype: float64"
      ]
     },
     "execution_count": 110,
     "metadata": {},
     "output_type": "execute_result"
    }
   ],
   "source": [
    "my_df.loc[2]"
   ]
  },
  {
   "cell_type": "code",
   "execution_count": 111,
   "id": "385daa85-13a4-4fed-8cfa-a558119b4f03",
   "metadata": {},
   "outputs": [
    {
     "data": {
      "text/plain": [
       "yellow   -0.609580\n",
       "orange   -2.098475\n",
       "red       1.087194\n",
       "green     0.313404\n",
       "blue      0.678583\n",
       "indigo    0.678583\n",
       "violet    1.357166\n",
       "Name: 2, dtype: float64"
      ]
     },
     "execution_count": 111,
     "metadata": {},
     "output_type": "execute_result"
    }
   ],
   "source": [
    "my_df.iloc[1]"
   ]
  },
  {
   "cell_type": "code",
   "execution_count": 112,
   "id": "882c4607-623b-4398-b95f-dbdff5a9d8f9",
   "metadata": {},
   "outputs": [
    {
     "data": {
      "text/plain": [
       "yellow    0.337754\n",
       "orange    0.195804\n",
       "red       0.265127\n",
       "green    -0.216558\n",
       "blue     -1.047353\n",
       "indigo   -1.047353\n",
       "violet   -2.094706\n",
       "Name: 3, dtype: float64"
      ]
     },
     "execution_count": 112,
     "metadata": {},
     "output_type": "execute_result"
    }
   ],
   "source": [
    "my_df.iloc[2]"
   ]
  },
  {
   "cell_type": "markdown",
   "id": "3e834af3-bb08-4fa8-9177-fa57b8e3c4ff",
   "metadata": {},
   "source": [
    "указываем новые значения в строках"
   ]
  },
  {
   "cell_type": "code",
   "execution_count": 113,
   "id": "1bc341eb-99d7-4412-8476-6fe362f649df",
   "metadata": {},
   "outputs": [],
   "source": [
    "my_df.iloc[2] = my_df.iloc[1]"
   ]
  },
  {
   "cell_type": "code",
   "execution_count": 114,
   "id": "4ebe3f2e-313c-4c0d-ba00-607d3c8c1a04",
   "metadata": {},
   "outputs": [
    {
     "data": {
      "text/plain": [
       "yellow   -0.609580\n",
       "orange   -2.098475\n",
       "red       1.087194\n",
       "green     0.313404\n",
       "blue      0.678583\n",
       "indigo    0.678583\n",
       "violet    1.357166\n",
       "Name: 3, dtype: float64"
      ]
     },
     "execution_count": 114,
     "metadata": {},
     "output_type": "execute_result"
    }
   ],
   "source": [
    "my_df.iloc[2] "
   ]
  },
  {
   "cell_type": "code",
   "execution_count": 115,
   "id": "02baa6c4-6552-4238-a326-83469fd09724",
   "metadata": {},
   "outputs": [
    {
     "data": {
      "text/html": [
       "<div>\n",
       "<style scoped>\n",
       "    .dataframe tbody tr th:only-of-type {\n",
       "        vertical-align: middle;\n",
       "    }\n",
       "\n",
       "    .dataframe tbody tr th {\n",
       "        vertical-align: top;\n",
       "    }\n",
       "\n",
       "    .dataframe thead th {\n",
       "        text-align: right;\n",
       "    }\n",
       "</style>\n",
       "<table border=\"1\" class=\"dataframe\">\n",
       "  <thead>\n",
       "    <tr style=\"text-align: right;\">\n",
       "      <th></th>\n",
       "      <th>yellow</th>\n",
       "      <th>orange</th>\n",
       "      <th>red</th>\n",
       "      <th>green</th>\n",
       "      <th>blue</th>\n",
       "      <th>indigo</th>\n",
       "      <th>violet</th>\n",
       "    </tr>\n",
       "  </thead>\n",
       "  <tbody>\n",
       "    <tr>\n",
       "      <th>1</th>\n",
       "      <td>0.175977</td>\n",
       "      <td>0.949438</td>\n",
       "      <td>-0.721202</td>\n",
       "      <td>1.374826</td>\n",
       "      <td>-0.937747</td>\n",
       "      <td>-0.937747</td>\n",
       "      <td>-1.875495</td>\n",
       "    </tr>\n",
       "    <tr>\n",
       "      <th>2</th>\n",
       "      <td>-0.609580</td>\n",
       "      <td>-2.098475</td>\n",
       "      <td>1.087194</td>\n",
       "      <td>0.313404</td>\n",
       "      <td>0.678583</td>\n",
       "      <td>0.678583</td>\n",
       "      <td>1.357166</td>\n",
       "    </tr>\n",
       "    <tr>\n",
       "      <th>3</th>\n",
       "      <td>-0.609580</td>\n",
       "      <td>-2.098475</td>\n",
       "      <td>1.087194</td>\n",
       "      <td>0.313404</td>\n",
       "      <td>0.678583</td>\n",
       "      <td>0.678583</td>\n",
       "      <td>1.357166</td>\n",
       "    </tr>\n",
       "    <tr>\n",
       "      <th>4</th>\n",
       "      <td>-0.415756</td>\n",
       "      <td>-0.635777</td>\n",
       "      <td>-0.592052</td>\n",
       "      <td>-0.260310</td>\n",
       "      <td>-2.120363</td>\n",
       "      <td>-2.120363</td>\n",
       "      <td>-4.240727</td>\n",
       "    </tr>\n",
       "  </tbody>\n",
       "</table>\n",
       "</div>"
      ],
      "text/plain": [
       "     yellow    orange       red     green      blue    indigo    violet\n",
       "1  0.175977  0.949438 -0.721202  1.374826 -0.937747 -0.937747 -1.875495\n",
       "2 -0.609580 -2.098475  1.087194  0.313404  0.678583  0.678583  1.357166\n",
       "3 -0.609580 -2.098475  1.087194  0.313404  0.678583  0.678583  1.357166\n",
       "4 -0.415756 -0.635777 -0.592052 -0.260310 -2.120363 -2.120363 -4.240727"
      ]
     },
     "execution_count": 115,
     "metadata": {},
     "output_type": "execute_result"
    }
   ],
   "source": [
    "my_df"
   ]
  },
  {
   "cell_type": "code",
   "execution_count": 116,
   "id": "bf615cb7-2c8f-4868-9d07-8416e409709d",
   "metadata": {},
   "outputs": [
    {
     "data": {
      "text/plain": [
       "np.float64(-2.0984750373800827)"
      ]
     },
     "execution_count": 116,
     "metadata": {},
     "output_type": "execute_result"
    }
   ],
   "source": [
    "my_df.loc[3,'orange']"
   ]
  },
  {
   "cell_type": "code",
   "execution_count": 117,
   "id": "d2d81183-7b00-4dc6-bbc1-8136b24fa6e1",
   "metadata": {},
   "outputs": [
    {
     "data": {
      "text/html": [
       "<div>\n",
       "<style scoped>\n",
       "    .dataframe tbody tr th:only-of-type {\n",
       "        vertical-align: middle;\n",
       "    }\n",
       "\n",
       "    .dataframe tbody tr th {\n",
       "        vertical-align: top;\n",
       "    }\n",
       "\n",
       "    .dataframe thead th {\n",
       "        text-align: right;\n",
       "    }\n",
       "</style>\n",
       "<table border=\"1\" class=\"dataframe\">\n",
       "  <thead>\n",
       "    <tr style=\"text-align: right;\">\n",
       "      <th></th>\n",
       "      <th>blue</th>\n",
       "      <th>violet</th>\n",
       "    </tr>\n",
       "  </thead>\n",
       "  <tbody>\n",
       "    <tr>\n",
       "      <th>1</th>\n",
       "      <td>-0.937747</td>\n",
       "      <td>-1.875495</td>\n",
       "    </tr>\n",
       "    <tr>\n",
       "      <th>3</th>\n",
       "      <td>0.678583</td>\n",
       "      <td>1.357166</td>\n",
       "    </tr>\n",
       "  </tbody>\n",
       "</table>\n",
       "</div>"
      ],
      "text/plain": [
       "       blue    violet\n",
       "1 -0.937747 -1.875495\n",
       "3  0.678583  1.357166"
      ]
     },
     "execution_count": 117,
     "metadata": {},
     "output_type": "execute_result"
    }
   ],
   "source": [
    "my_df.loc[[1,3], ['blue', 'violet']]"
   ]
  },
  {
   "cell_type": "code",
   "execution_count": 118,
   "id": "351608c1-18ec-44d5-aac2-59ed7641b2d2",
   "metadata": {},
   "outputs": [
    {
     "data": {
      "text/html": [
       "<div>\n",
       "<style scoped>\n",
       "    .dataframe tbody tr th:only-of-type {\n",
       "        vertical-align: middle;\n",
       "    }\n",
       "\n",
       "    .dataframe tbody tr th {\n",
       "        vertical-align: top;\n",
       "    }\n",
       "\n",
       "    .dataframe thead th {\n",
       "        text-align: right;\n",
       "    }\n",
       "</style>\n",
       "<table border=\"1\" class=\"dataframe\">\n",
       "  <thead>\n",
       "    <tr style=\"text-align: right;\">\n",
       "      <th></th>\n",
       "      <th>yellow</th>\n",
       "      <th>orange</th>\n",
       "      <th>red</th>\n",
       "      <th>green</th>\n",
       "      <th>blue</th>\n",
       "      <th>indigo</th>\n",
       "      <th>violet</th>\n",
       "    </tr>\n",
       "  </thead>\n",
       "  <tbody>\n",
       "    <tr>\n",
       "      <th>1</th>\n",
       "      <td>0.175977</td>\n",
       "      <td>0.949438</td>\n",
       "      <td>-0.721202</td>\n",
       "      <td>1.374826</td>\n",
       "      <td>-0.937747</td>\n",
       "      <td>-0.937747</td>\n",
       "      <td>-1.875495</td>\n",
       "    </tr>\n",
       "    <tr>\n",
       "      <th>2</th>\n",
       "      <td>-0.609580</td>\n",
       "      <td>-2.098475</td>\n",
       "      <td>1.087194</td>\n",
       "      <td>0.313404</td>\n",
       "      <td>0.678583</td>\n",
       "      <td>0.678583</td>\n",
       "      <td>1.357166</td>\n",
       "    </tr>\n",
       "    <tr>\n",
       "      <th>4</th>\n",
       "      <td>-0.415756</td>\n",
       "      <td>-0.635777</td>\n",
       "      <td>-0.592052</td>\n",
       "      <td>-0.260310</td>\n",
       "      <td>-2.120363</td>\n",
       "      <td>-2.120363</td>\n",
       "      <td>-4.240727</td>\n",
       "    </tr>\n",
       "  </tbody>\n",
       "</table>\n",
       "</div>"
      ],
      "text/plain": [
       "     yellow    orange       red     green      blue    indigo    violet\n",
       "1  0.175977  0.949438 -0.721202  1.374826 -0.937747 -0.937747 -1.875495\n",
       "2 -0.609580 -2.098475  1.087194  0.313404  0.678583  0.678583  1.357166\n",
       "4 -0.415756 -0.635777 -0.592052 -0.260310 -2.120363 -2.120363 -4.240727"
      ]
     },
     "execution_count": 118,
     "metadata": {},
     "output_type": "execute_result"
    }
   ],
   "source": [
    "my_df.drop(3)"
   ]
  },
  {
   "cell_type": "code",
   "execution_count": 119,
   "id": "4f98f940-84ab-4dee-a9e2-c0714fe29f8e",
   "metadata": {},
   "outputs": [
    {
     "data": {
      "text/html": [
       "<div>\n",
       "<style scoped>\n",
       "    .dataframe tbody tr th:only-of-type {\n",
       "        vertical-align: middle;\n",
       "    }\n",
       "\n",
       "    .dataframe tbody tr th {\n",
       "        vertical-align: top;\n",
       "    }\n",
       "\n",
       "    .dataframe thead th {\n",
       "        text-align: right;\n",
       "    }\n",
       "</style>\n",
       "<table border=\"1\" class=\"dataframe\">\n",
       "  <thead>\n",
       "    <tr style=\"text-align: right;\">\n",
       "      <th></th>\n",
       "      <th>yellow</th>\n",
       "      <th>orange</th>\n",
       "      <th>red</th>\n",
       "      <th>green</th>\n",
       "      <th>blue</th>\n",
       "      <th>indigo</th>\n",
       "      <th>violet</th>\n",
       "    </tr>\n",
       "  </thead>\n",
       "  <tbody>\n",
       "    <tr>\n",
       "      <th>1</th>\n",
       "      <td>0.175977</td>\n",
       "      <td>0.949438</td>\n",
       "      <td>-0.721202</td>\n",
       "      <td>1.374826</td>\n",
       "      <td>-0.937747</td>\n",
       "      <td>-0.937747</td>\n",
       "      <td>-1.875495</td>\n",
       "    </tr>\n",
       "    <tr>\n",
       "      <th>2</th>\n",
       "      <td>-0.609580</td>\n",
       "      <td>-2.098475</td>\n",
       "      <td>1.087194</td>\n",
       "      <td>0.313404</td>\n",
       "      <td>0.678583</td>\n",
       "      <td>0.678583</td>\n",
       "      <td>1.357166</td>\n",
       "    </tr>\n",
       "    <tr>\n",
       "      <th>3</th>\n",
       "      <td>-0.609580</td>\n",
       "      <td>-2.098475</td>\n",
       "      <td>1.087194</td>\n",
       "      <td>0.313404</td>\n",
       "      <td>0.678583</td>\n",
       "      <td>0.678583</td>\n",
       "      <td>1.357166</td>\n",
       "    </tr>\n",
       "    <tr>\n",
       "      <th>4</th>\n",
       "      <td>-0.415756</td>\n",
       "      <td>-0.635777</td>\n",
       "      <td>-0.592052</td>\n",
       "      <td>-0.260310</td>\n",
       "      <td>-2.120363</td>\n",
       "      <td>-2.120363</td>\n",
       "      <td>-4.240727</td>\n",
       "    </tr>\n",
       "  </tbody>\n",
       "</table>\n",
       "</div>"
      ],
      "text/plain": [
       "     yellow    orange       red     green      blue    indigo    violet\n",
       "1  0.175977  0.949438 -0.721202  1.374826 -0.937747 -0.937747 -1.875495\n",
       "2 -0.609580 -2.098475  1.087194  0.313404  0.678583  0.678583  1.357166\n",
       "3 -0.609580 -2.098475  1.087194  0.313404  0.678583  0.678583  1.357166\n",
       "4 -0.415756 -0.635777 -0.592052 -0.260310 -2.120363 -2.120363 -4.240727"
      ]
     },
     "execution_count": 119,
     "metadata": {},
     "output_type": "execute_result"
    }
   ],
   "source": [
    "my_df"
   ]
  },
  {
   "cell_type": "code",
   "execution_count": 120,
   "id": "b3ee6f4a-2a91-4174-8684-cb0e920e63dd",
   "metadata": {},
   "outputs": [],
   "source": [
    "my_df.drop(3, inplace=True)"
   ]
  },
  {
   "cell_type": "code",
   "execution_count": 121,
   "id": "2f2bf123-66a8-4cc2-85f2-49c82bf754a6",
   "metadata": {},
   "outputs": [
    {
     "data": {
      "text/html": [
       "<div>\n",
       "<style scoped>\n",
       "    .dataframe tbody tr th:only-of-type {\n",
       "        vertical-align: middle;\n",
       "    }\n",
       "\n",
       "    .dataframe tbody tr th {\n",
       "        vertical-align: top;\n",
       "    }\n",
       "\n",
       "    .dataframe thead th {\n",
       "        text-align: right;\n",
       "    }\n",
       "</style>\n",
       "<table border=\"1\" class=\"dataframe\">\n",
       "  <thead>\n",
       "    <tr style=\"text-align: right;\">\n",
       "      <th></th>\n",
       "      <th>yellow</th>\n",
       "      <th>orange</th>\n",
       "      <th>red</th>\n",
       "      <th>green</th>\n",
       "      <th>blue</th>\n",
       "      <th>indigo</th>\n",
       "      <th>violet</th>\n",
       "    </tr>\n",
       "  </thead>\n",
       "  <tbody>\n",
       "    <tr>\n",
       "      <th>1</th>\n",
       "      <td>0.175977</td>\n",
       "      <td>0.949438</td>\n",
       "      <td>-0.721202</td>\n",
       "      <td>1.374826</td>\n",
       "      <td>-0.937747</td>\n",
       "      <td>-0.937747</td>\n",
       "      <td>-1.875495</td>\n",
       "    </tr>\n",
       "    <tr>\n",
       "      <th>2</th>\n",
       "      <td>-0.609580</td>\n",
       "      <td>-2.098475</td>\n",
       "      <td>1.087194</td>\n",
       "      <td>0.313404</td>\n",
       "      <td>0.678583</td>\n",
       "      <td>0.678583</td>\n",
       "      <td>1.357166</td>\n",
       "    </tr>\n",
       "    <tr>\n",
       "      <th>4</th>\n",
       "      <td>-0.415756</td>\n",
       "      <td>-0.635777</td>\n",
       "      <td>-0.592052</td>\n",
       "      <td>-0.260310</td>\n",
       "      <td>-2.120363</td>\n",
       "      <td>-2.120363</td>\n",
       "      <td>-4.240727</td>\n",
       "    </tr>\n",
       "  </tbody>\n",
       "</table>\n",
       "</div>"
      ],
      "text/plain": [
       "     yellow    orange       red     green      blue    indigo    violet\n",
       "1  0.175977  0.949438 -0.721202  1.374826 -0.937747 -0.937747 -1.875495\n",
       "2 -0.609580 -2.098475  1.087194  0.313404  0.678583  0.678583  1.357166\n",
       "4 -0.415756 -0.635777 -0.592052 -0.260310 -2.120363 -2.120363 -4.240727"
      ]
     },
     "execution_count": 121,
     "metadata": {},
     "output_type": "execute_result"
    }
   ],
   "source": [
    "my_df"
   ]
  },
  {
   "cell_type": "code",
   "execution_count": 122,
   "id": "5d1558ea-136d-4ae7-9899-e5c1b2b49076",
   "metadata": {},
   "outputs": [
    {
     "data": {
      "text/html": [
       "<div>\n",
       "<style scoped>\n",
       "    .dataframe tbody tr th:only-of-type {\n",
       "        vertical-align: middle;\n",
       "    }\n",
       "\n",
       "    .dataframe tbody tr th {\n",
       "        vertical-align: top;\n",
       "    }\n",
       "\n",
       "    .dataframe thead th {\n",
       "        text-align: right;\n",
       "    }\n",
       "</style>\n",
       "<table border=\"1\" class=\"dataframe\">\n",
       "  <thead>\n",
       "    <tr style=\"text-align: right;\">\n",
       "      <th></th>\n",
       "      <th>yellow</th>\n",
       "      <th>orange</th>\n",
       "      <th>red</th>\n",
       "      <th>green</th>\n",
       "      <th>blue</th>\n",
       "      <th>violet</th>\n",
       "    </tr>\n",
       "  </thead>\n",
       "  <tbody>\n",
       "    <tr>\n",
       "      <th>1</th>\n",
       "      <td>0.175977</td>\n",
       "      <td>0.949438</td>\n",
       "      <td>-0.721202</td>\n",
       "      <td>1.374826</td>\n",
       "      <td>-0.937747</td>\n",
       "      <td>-1.875495</td>\n",
       "    </tr>\n",
       "    <tr>\n",
       "      <th>2</th>\n",
       "      <td>-0.609580</td>\n",
       "      <td>-2.098475</td>\n",
       "      <td>1.087194</td>\n",
       "      <td>0.313404</td>\n",
       "      <td>0.678583</td>\n",
       "      <td>1.357166</td>\n",
       "    </tr>\n",
       "    <tr>\n",
       "      <th>4</th>\n",
       "      <td>-0.415756</td>\n",
       "      <td>-0.635777</td>\n",
       "      <td>-0.592052</td>\n",
       "      <td>-0.260310</td>\n",
       "      <td>-2.120363</td>\n",
       "      <td>-4.240727</td>\n",
       "    </tr>\n",
       "  </tbody>\n",
       "</table>\n",
       "</div>"
      ],
      "text/plain": [
       "     yellow    orange       red     green      blue    violet\n",
       "1  0.175977  0.949438 -0.721202  1.374826 -0.937747 -1.875495\n",
       "2 -0.609580 -2.098475  1.087194  0.313404  0.678583  1.357166\n",
       "4 -0.415756 -0.635777 -0.592052 -0.260310 -2.120363 -4.240727"
      ]
     },
     "execution_count": 122,
     "metadata": {},
     "output_type": "execute_result"
    }
   ],
   "source": [
    "my_df.drop('indigo', axis=1)"
   ]
  },
  {
   "cell_type": "code",
   "execution_count": 123,
   "id": "e5144879-7f44-4053-a5c2-d82552546439",
   "metadata": {},
   "outputs": [
    {
     "data": {
      "text/html": [
       "<div>\n",
       "<style scoped>\n",
       "    .dataframe tbody tr th:only-of-type {\n",
       "        vertical-align: middle;\n",
       "    }\n",
       "\n",
       "    .dataframe tbody tr th {\n",
       "        vertical-align: top;\n",
       "    }\n",
       "\n",
       "    .dataframe thead th {\n",
       "        text-align: right;\n",
       "    }\n",
       "</style>\n",
       "<table border=\"1\" class=\"dataframe\">\n",
       "  <thead>\n",
       "    <tr style=\"text-align: right;\">\n",
       "      <th></th>\n",
       "      <th>yellow</th>\n",
       "      <th>orange</th>\n",
       "      <th>red</th>\n",
       "      <th>green</th>\n",
       "      <th>blue</th>\n",
       "      <th>indigo</th>\n",
       "      <th>violet</th>\n",
       "    </tr>\n",
       "  </thead>\n",
       "  <tbody>\n",
       "    <tr>\n",
       "      <th>1</th>\n",
       "      <td>0.175977</td>\n",
       "      <td>0.949438</td>\n",
       "      <td>-0.721202</td>\n",
       "      <td>1.374826</td>\n",
       "      <td>-0.937747</td>\n",
       "      <td>-0.937747</td>\n",
       "      <td>-1.875495</td>\n",
       "    </tr>\n",
       "    <tr>\n",
       "      <th>2</th>\n",
       "      <td>-0.609580</td>\n",
       "      <td>-2.098475</td>\n",
       "      <td>1.087194</td>\n",
       "      <td>0.313404</td>\n",
       "      <td>0.678583</td>\n",
       "      <td>0.678583</td>\n",
       "      <td>1.357166</td>\n",
       "    </tr>\n",
       "    <tr>\n",
       "      <th>4</th>\n",
       "      <td>-0.415756</td>\n",
       "      <td>-0.635777</td>\n",
       "      <td>-0.592052</td>\n",
       "      <td>-0.260310</td>\n",
       "      <td>-2.120363</td>\n",
       "      <td>-2.120363</td>\n",
       "      <td>-4.240727</td>\n",
       "    </tr>\n",
       "  </tbody>\n",
       "</table>\n",
       "</div>"
      ],
      "text/plain": [
       "     yellow    orange       red     green      blue    indigo    violet\n",
       "1  0.175977  0.949438 -0.721202  1.374826 -0.937747 -0.937747 -1.875495\n",
       "2 -0.609580 -2.098475  1.087194  0.313404  0.678583  0.678583  1.357166\n",
       "4 -0.415756 -0.635777 -0.592052 -0.260310 -2.120363 -2.120363 -4.240727"
      ]
     },
     "execution_count": 123,
     "metadata": {},
     "output_type": "execute_result"
    }
   ],
   "source": [
    "my_df"
   ]
  },
  {
   "cell_type": "code",
   "execution_count": 124,
   "id": "380a5f21-ed04-48c2-a420-f3ef7b91ceec",
   "metadata": {},
   "outputs": [],
   "source": [
    "my_df.drop('indigo', axis=1, inplace=True)"
   ]
  },
  {
   "cell_type": "code",
   "execution_count": 125,
   "id": "6c45c541-0efa-4d73-affa-7940108b36b1",
   "metadata": {},
   "outputs": [
    {
     "data": {
      "text/html": [
       "<div>\n",
       "<style scoped>\n",
       "    .dataframe tbody tr th:only-of-type {\n",
       "        vertical-align: middle;\n",
       "    }\n",
       "\n",
       "    .dataframe tbody tr th {\n",
       "        vertical-align: top;\n",
       "    }\n",
       "\n",
       "    .dataframe thead th {\n",
       "        text-align: right;\n",
       "    }\n",
       "</style>\n",
       "<table border=\"1\" class=\"dataframe\">\n",
       "  <thead>\n",
       "    <tr style=\"text-align: right;\">\n",
       "      <th></th>\n",
       "      <th>yellow</th>\n",
       "      <th>orange</th>\n",
       "      <th>red</th>\n",
       "      <th>green</th>\n",
       "      <th>blue</th>\n",
       "      <th>violet</th>\n",
       "    </tr>\n",
       "  </thead>\n",
       "  <tbody>\n",
       "    <tr>\n",
       "      <th>1</th>\n",
       "      <td>0.175977</td>\n",
       "      <td>0.949438</td>\n",
       "      <td>-0.721202</td>\n",
       "      <td>1.374826</td>\n",
       "      <td>-0.937747</td>\n",
       "      <td>-1.875495</td>\n",
       "    </tr>\n",
       "    <tr>\n",
       "      <th>2</th>\n",
       "      <td>-0.609580</td>\n",
       "      <td>-2.098475</td>\n",
       "      <td>1.087194</td>\n",
       "      <td>0.313404</td>\n",
       "      <td>0.678583</td>\n",
       "      <td>1.357166</td>\n",
       "    </tr>\n",
       "    <tr>\n",
       "      <th>4</th>\n",
       "      <td>-0.415756</td>\n",
       "      <td>-0.635777</td>\n",
       "      <td>-0.592052</td>\n",
       "      <td>-0.260310</td>\n",
       "      <td>-2.120363</td>\n",
       "      <td>-4.240727</td>\n",
       "    </tr>\n",
       "  </tbody>\n",
       "</table>\n",
       "</div>"
      ],
      "text/plain": [
       "     yellow    orange       red     green      blue    violet\n",
       "1  0.175977  0.949438 -0.721202  1.374826 -0.937747 -1.875495\n",
       "2 -0.609580 -2.098475  1.087194  0.313404  0.678583  1.357166\n",
       "4 -0.415756 -0.635777 -0.592052 -0.260310 -2.120363 -4.240727"
      ]
     },
     "execution_count": 125,
     "metadata": {},
     "output_type": "execute_result"
    }
   ],
   "source": [
    "my_df"
   ]
  },
  {
   "cell_type": "markdown",
   "id": "8e26ec57-40bd-4508-8624-0bef2b76ddc2",
   "metadata": {},
   "source": [
    "it's tupple"
   ]
  },
  {
   "cell_type": "code",
   "execution_count": 126,
   "id": "60ea7a25-ec5a-4f1d-9fac-7ea02198bc8f",
   "metadata": {},
   "outputs": [
    {
     "data": {
      "text/plain": [
       "(3, 6)"
      ]
     },
     "execution_count": 126,
     "metadata": {},
     "output_type": "execute_result"
    }
   ],
   "source": [
    "my_df.shape"
   ]
  },
  {
   "cell_type": "code",
   "execution_count": null,
   "id": "1544c5b0-017a-4334-b24d-827d6e4babca",
   "metadata": {},
   "outputs": [],
   "source": []
  }
 ],
 "metadata": {
  "kernelspec": {
   "display_name": "venv",
   "language": "python",
   "name": "python3"
  },
  "language_info": {
   "codemirror_mode": {
    "name": "ipython",
    "version": 3
   },
   "file_extension": ".py",
   "mimetype": "text/x-python",
   "name": "python",
   "nbconvert_exporter": "python",
   "pygments_lexer": "ipython3",
   "version": "3.12.3"
  }
 },
 "nbformat": 4,
 "nbformat_minor": 5
}
