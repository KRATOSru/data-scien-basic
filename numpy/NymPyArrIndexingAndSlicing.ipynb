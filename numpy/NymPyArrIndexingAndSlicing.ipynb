{
 "cells": [
  {
   "cell_type": "code",
   "execution_count": 2,
   "id": "99071c7d-c544-4b9d-8e02-e5080d1166b8",
   "metadata": {},
   "outputs": [],
   "source": [
    "import numpy as np"
   ]
  },
  {
   "cell_type": "code",
   "execution_count": 3,
   "id": "d803d0de-7cde-4a29-8f37-f59eb50712db",
   "metadata": {},
   "outputs": [],
   "source": [
    "int_arr = np.random.randint(0,10,10)"
   ]
  },
  {
   "cell_type": "code",
   "execution_count": 4,
   "id": "f916de58-0342-4d53-a2b1-da9cb53a3495",
   "metadata": {},
   "outputs": [
    {
     "data": {
      "text/plain": [
       "array([7, 0, 5, 1, 3, 7, 9, 0, 1, 5])"
      ]
     },
     "execution_count": 4,
     "metadata": {},
     "output_type": "execute_result"
    }
   ],
   "source": [
    "int_arr"
   ]
  },
  {
   "cell_type": "code",
   "execution_count": 5,
   "id": "199af55f-1762-4397-95c8-963ca85455bb",
   "metadata": {},
   "outputs": [
    {
     "data": {
      "text/plain": [
       "np.int64(7)"
      ]
     },
     "execution_count": 5,
     "metadata": {},
     "output_type": "execute_result"
    }
   ],
   "source": [
    "int_arr[0]"
   ]
  },
  {
   "cell_type": "code",
   "execution_count": 6,
   "id": "e59257d1-c3a0-4b7a-897b-894a6dd45c64",
   "metadata": {},
   "outputs": [
    {
     "data": {
      "text/plain": [
       "np.int64(5)"
      ]
     },
     "execution_count": 6,
     "metadata": {},
     "output_type": "execute_result"
    }
   ],
   "source": [
    "int_arr[9]"
   ]
  },
  {
   "cell_type": "code",
   "execution_count": 7,
   "id": "39f8b0b0-07fe-440f-913a-c727326c741f",
   "metadata": {},
   "outputs": [
    {
     "data": {
      "text/plain": [
       "array([0, 5])"
      ]
     },
     "execution_count": 7,
     "metadata": {},
     "output_type": "execute_result"
    }
   ],
   "source": [
    "int_arr[1:3]"
   ]
  },
  {
   "cell_type": "code",
   "execution_count": 8,
   "id": "d03a5510-e234-4189-810a-b61a9d672e64",
   "metadata": {},
   "outputs": [
    {
     "data": {
      "text/plain": [
       "array([7, 0, 5])"
      ]
     },
     "execution_count": 8,
     "metadata": {},
     "output_type": "execute_result"
    }
   ],
   "source": [
    "int_arr[:3]"
   ]
  },
  {
   "cell_type": "code",
   "execution_count": 9,
   "id": "12fb6021-e574-4983-b919-38ef58633deb",
   "metadata": {},
   "outputs": [
    {
     "data": {
      "text/plain": [
       "array([1, 3, 7, 9, 0, 1, 5])"
      ]
     },
     "execution_count": 9,
     "metadata": {},
     "output_type": "execute_result"
    }
   ],
   "source": [
    "int_arr[3:]"
   ]
  },
  {
   "cell_type": "code",
   "execution_count": 10,
   "id": "c8b3807f-b723-48ce-be50-4aa3cb814687",
   "metadata": {},
   "outputs": [],
   "source": [
    "int_arr[3:10] = 10"
   ]
  },
  {
   "cell_type": "code",
   "execution_count": 11,
   "id": "7969230c-047d-4107-9bd4-a54f6cd1561d",
   "metadata": {},
   "outputs": [
    {
     "data": {
      "text/plain": [
       "array([ 7,  0,  5, 10, 10, 10, 10, 10, 10, 10])"
      ]
     },
     "execution_count": 11,
     "metadata": {},
     "output_type": "execute_result"
    }
   ],
   "source": [
    "int_arr"
   ]
  },
  {
   "cell_type": "code",
   "execution_count": 12,
   "id": "d4744e46-979c-4e54-8b1d-4697b6a123a4",
   "metadata": {},
   "outputs": [],
   "source": [
    "arr = np.arange(0,10)"
   ]
  },
  {
   "cell_type": "code",
   "execution_count": 13,
   "id": "4deab713-d5b8-485c-8835-7cde950923c4",
   "metadata": {},
   "outputs": [
    {
     "data": {
      "text/plain": [
       "array([0, 1, 2, 3, 4, 5, 6, 7, 8, 9])"
      ]
     },
     "execution_count": 13,
     "metadata": {},
     "output_type": "execute_result"
    }
   ],
   "source": [
    "arr"
   ]
  },
  {
   "cell_type": "code",
   "execution_count": 14,
   "id": "06218cfd-4cc1-4513-be81-9229710ef9e3",
   "metadata": {},
   "outputs": [],
   "source": [
    "new_arr = arr[:4]"
   ]
  },
  {
   "cell_type": "code",
   "execution_count": 15,
   "id": "e3513d2b-02b6-4f11-965e-1531c16d4e3d",
   "metadata": {},
   "outputs": [
    {
     "data": {
      "text/plain": [
       "array([0, 1, 2, 3])"
      ]
     },
     "execution_count": 15,
     "metadata": {},
     "output_type": "execute_result"
    }
   ],
   "source": [
    "new_arr"
   ]
  },
  {
   "cell_type": "code",
   "execution_count": 16,
   "id": "7343f65c-d74a-4a48-9053-9b876b9e8ced",
   "metadata": {},
   "outputs": [],
   "source": [
    "new_arr[2:] = 7"
   ]
  },
  {
   "cell_type": "code",
   "execution_count": 17,
   "id": "08f68987-6eaa-48e3-961a-fb812d22c64e",
   "metadata": {},
   "outputs": [
    {
     "data": {
      "text/plain": [
       "array([0, 1, 7, 7])"
      ]
     },
     "execution_count": 17,
     "metadata": {},
     "output_type": "execute_result"
    }
   ],
   "source": [
    "new_arr"
   ]
  },
  {
   "cell_type": "code",
   "execution_count": 18,
   "id": "7051dd14-c64b-4b5e-907d-633f6c6a2ac2",
   "metadata": {},
   "outputs": [
    {
     "data": {
      "text/plain": [
       "array([0, 1, 7, 7, 4, 5, 6, 7, 8, 9])"
      ]
     },
     "execution_count": 18,
     "metadata": {},
     "output_type": "execute_result"
    }
   ],
   "source": [
    "arr"
   ]
  },
  {
   "cell_type": "code",
   "execution_count": 19,
   "id": "c1f70112-1f16-49b0-a97b-27f68a5fc92b",
   "metadata": {},
   "outputs": [],
   "source": [
    "arr = np.arange(0,10)"
   ]
  },
  {
   "cell_type": "code",
   "execution_count": 20,
   "id": "e356f8c7-b715-4d96-9d88-41e2bb0df423",
   "metadata": {},
   "outputs": [
    {
     "data": {
      "text/plain": [
       "array([0, 1, 2, 3, 4, 5, 6, 7, 8, 9])"
      ]
     },
     "execution_count": 20,
     "metadata": {},
     "output_type": "execute_result"
    }
   ],
   "source": [
    "arr"
   ]
  },
  {
   "cell_type": "code",
   "execution_count": 21,
   "id": "22a1a843-0bc4-4d86-adda-528b0529114d",
   "metadata": {},
   "outputs": [],
   "source": [
    "new_arr = arr.copy()"
   ]
  },
  {
   "cell_type": "code",
   "execution_count": 22,
   "id": "7f81f7ae-4949-4bbf-bb57-900fc0446d0e",
   "metadata": {},
   "outputs": [
    {
     "data": {
      "text/plain": [
       "array([0, 1, 2, 3, 4, 5, 6, 7, 8, 9])"
      ]
     },
     "execution_count": 22,
     "metadata": {},
     "output_type": "execute_result"
    }
   ],
   "source": [
    "new_arr"
   ]
  },
  {
   "cell_type": "code",
   "execution_count": 23,
   "id": "766ca7ba-d51f-418c-bf87-5b572c6d129f",
   "metadata": {},
   "outputs": [],
   "source": [
    "new_arr[:] = 0"
   ]
  },
  {
   "cell_type": "code",
   "execution_count": 24,
   "id": "e69ae2fb-d5a8-47e5-ae7d-1a5a6b0963c2",
   "metadata": {},
   "outputs": [
    {
     "data": {
      "text/plain": [
       "array([0, 0, 0, 0, 0, 0, 0, 0, 0, 0])"
      ]
     },
     "execution_count": 24,
     "metadata": {},
     "output_type": "execute_result"
    }
   ],
   "source": [
    "new_arr"
   ]
  },
  {
   "cell_type": "code",
   "execution_count": null,
   "id": "8139fd14-a9f6-49e8-9608-4921121b127d",
   "metadata": {},
   "outputs": [],
   "source": []
  },
  {
   "cell_type": "markdown",
   "id": "fe6e2ff0-3ccc-4f0e-bf9f-dff167aef486",
   "metadata": {},
   "source": [
    "# первоначальный массив не изменился(arr)"
   ]
  },
  {
   "cell_type": "code",
   "execution_count": 25,
   "id": "97c07abb-8fd2-46d8-bf63-3414959430b1",
   "metadata": {},
   "outputs": [
    {
     "data": {
      "text/plain": [
       "array([0, 1, 2, 3, 4, 5, 6, 7, 8, 9])"
      ]
     },
     "execution_count": 25,
     "metadata": {},
     "output_type": "execute_result"
    }
   ],
   "source": [
    "arr"
   ]
  },
  {
   "cell_type": "markdown",
   "id": "7d8ce6b6-5531-4345-bdb8-464c97513c10",
   "metadata": {},
   "source": [
    "# сравнение массивов"
   ]
  },
  {
   "cell_type": "code",
   "execution_count": 26,
   "id": "452848c3-1a8e-4d1e-ba1f-e43382b103d7",
   "metadata": {},
   "outputs": [
    {
     "data": {
      "text/plain": [
       "array([False, False, False, False,  True,  True,  True,  True,  True,\n",
       "        True])"
      ]
     },
     "execution_count": 26,
     "metadata": {},
     "output_type": "execute_result"
    }
   ],
   "source": [
    " arr > 3"
   ]
  },
  {
   "cell_type": "code",
   "execution_count": 27,
   "id": "758cfc37-9396-4806-98e7-af15689b0095",
   "metadata": {},
   "outputs": [],
   "source": [
    "bool_arr = arr > 6"
   ]
  },
  {
   "cell_type": "code",
   "execution_count": 28,
   "id": "c6eabe59-4cf2-467c-8f59-77dca13b7470",
   "metadata": {},
   "outputs": [
    {
     "data": {
      "text/plain": [
       "array([False, False, False, False, False, False, False,  True,  True,\n",
       "        True])"
      ]
     },
     "execution_count": 28,
     "metadata": {},
     "output_type": "execute_result"
    }
   ],
   "source": [
    "bool_arr"
   ]
  },
  {
   "cell_type": "markdown",
   "id": "4ca56e99-3833-43a9-82d1-8ee10c23c01e",
   "metadata": {},
   "source": [
    "# получаем выборку элементов"
   ]
  },
  {
   "cell_type": "code",
   "execution_count": 29,
   "id": "f022a705-e876-4062-a662-890b4c186572",
   "metadata": {},
   "outputs": [
    {
     "data": {
      "text/plain": [
       "array([7, 8, 9])"
      ]
     },
     "execution_count": 29,
     "metadata": {},
     "output_type": "execute_result"
    }
   ],
   "source": [
    "arr[bool_arr]"
   ]
  },
  {
   "cell_type": "code",
   "execution_count": 30,
   "id": "ebd57006-6345-4e1d-a3f3-4f8ad27bc259",
   "metadata": {},
   "outputs": [
    {
     "data": {
      "text/plain": [
       "array([7, 8, 9])"
      ]
     },
     "execution_count": 30,
     "metadata": {},
     "output_type": "execute_result"
    }
   ],
   "source": [
    "arr[arr > 6]"
   ]
  },
  {
   "cell_type": "markdown",
   "id": "dd693d00-92bf-4a4c-bdc9-79808c298815",
   "metadata": {},
   "source": [
    "# Двумерные массивы"
   ]
  },
  {
   "cell_type": "code",
   "execution_count": 31,
   "id": "01afe194-c9e6-4cb3-8367-6fee739f3dfc",
   "metadata": {},
   "outputs": [],
   "source": [
    "two_dim_arr = np.arange(12).reshape(3,4)"
   ]
  },
  {
   "cell_type": "code",
   "execution_count": 32,
   "id": "ddb095f0-9fb8-4b12-88ed-7bee1e72813e",
   "metadata": {},
   "outputs": [
    {
     "data": {
      "text/plain": [
       "array([[ 0,  1,  2,  3],\n",
       "       [ 4,  5,  6,  7],\n",
       "       [ 8,  9, 10, 11]])"
      ]
     },
     "execution_count": 32,
     "metadata": {},
     "output_type": "execute_result"
    }
   ],
   "source": [
    "two_dim_arr"
   ]
  },
  {
   "cell_type": "code",
   "execution_count": 33,
   "id": "596c28c6-db66-41dc-9349-869b0676e32a",
   "metadata": {},
   "outputs": [
    {
     "data": {
      "text/plain": [
       "np.int64(5)"
      ]
     },
     "execution_count": 33,
     "metadata": {},
     "output_type": "execute_result"
    }
   ],
   "source": [
    "two_dim_arr[1][1]"
   ]
  },
  {
   "cell_type": "code",
   "execution_count": 34,
   "id": "903a1fb0-4abc-4fb6-98d9-50b447058b77",
   "metadata": {},
   "outputs": [
    {
     "data": {
      "text/plain": [
       "np.int64(5)"
      ]
     },
     "execution_count": 34,
     "metadata": {},
     "output_type": "execute_result"
    }
   ],
   "source": [
    "two_dim_arr[1,1]"
   ]
  },
  {
   "cell_type": "code",
   "execution_count": 48,
   "id": "02b8591d-c402-4246-8da1-2a46d7fe1226",
   "metadata": {},
   "outputs": [
    {
     "data": {
      "text/plain": [
       "array([[0, 1],\n",
       "       [4, 5]])"
      ]
     },
     "execution_count": 48,
     "metadata": {},
     "output_type": "execute_result"
    }
   ],
   "source": [
    "two_dim_arr[0:2, 0:2]"
   ]
  },
  {
   "cell_type": "code",
   "execution_count": 36,
   "id": "3e5a7656-c930-4b9a-8d95-6e93b75c1a5b",
   "metadata": {},
   "outputs": [
    {
     "data": {
      "text/plain": [
       "array([[0, 1],\n",
       "       [4, 5]])"
      ]
     },
     "execution_count": 36,
     "metadata": {},
     "output_type": "execute_result"
    }
   ],
   "source": [
    "two_dim_arr[:2,:2]"
   ]
  },
  {
   "cell_type": "code",
   "execution_count": 37,
   "id": "5dd4f942-364f-4e56-8dce-ae6e55e5cf6c",
   "metadata": {},
   "outputs": [
    {
     "data": {
      "text/plain": [
       "array([[2, 3],\n",
       "       [6, 7]])"
      ]
     },
     "execution_count": 37,
     "metadata": {},
     "output_type": "execute_result"
    }
   ],
   "source": [
    "two_dim_arr[0:2, 2:4]"
   ]
  },
  {
   "cell_type": "code",
   "execution_count": 38,
   "id": "dcb3fd19-f250-4d3d-b973-8bd46857aba9",
   "metadata": {},
   "outputs": [
    {
     "data": {
      "text/plain": [
       "array([[2, 3],\n",
       "       [6, 7]])"
      ]
     },
     "execution_count": 38,
     "metadata": {},
     "output_type": "execute_result"
    }
   ],
   "source": [
    "two_dim_arr[0:2, 2:]"
   ]
  },
  {
   "cell_type": "code",
   "execution_count": 39,
   "id": "fc65b09c-f046-4cf4-a6fd-56b9a5b487e6",
   "metadata": {},
   "outputs": [
    {
     "data": {
      "text/plain": [
       "array([ 5,  6,  7,  8,  9, 10, 11])"
      ]
     },
     "execution_count": 39,
     "metadata": {},
     "output_type": "execute_result"
    }
   ],
   "source": [
    "two_dim_arr[two_dim_arr > 4]"
   ]
  },
  {
   "cell_type": "markdown",
   "id": "45bd9f93-7132-4da3-b9fe-5bdd203e8aca",
   "metadata": {},
   "source": [
    "# Операции с массивами"
   ]
  },
  {
   "cell_type": "code",
   "execution_count": 40,
   "id": "a9547ad8-5229-4373-9fbe-2c15a28d8266",
   "metadata": {},
   "outputs": [],
   "source": [
    "arr = np.arange(1,11)"
   ]
  },
  {
   "cell_type": "code",
   "execution_count": 41,
   "id": "27979d66-465c-4981-b1b6-abcb22c16d2b",
   "metadata": {},
   "outputs": [
    {
     "data": {
      "text/plain": [
       "array([ 1,  2,  3,  4,  5,  6,  7,  8,  9, 10])"
      ]
     },
     "execution_count": 41,
     "metadata": {},
     "output_type": "execute_result"
    }
   ],
   "source": [
    "arr"
   ]
  },
  {
   "cell_type": "code",
   "execution_count": 42,
   "id": "6892ee90-6a20-42ad-a271-a41beaf21828",
   "metadata": {},
   "outputs": [
    {
     "data": {
      "text/plain": [
       "array([ 2,  4,  6,  8, 10, 12, 14, 16, 18, 20])"
      ]
     },
     "execution_count": 42,
     "metadata": {},
     "output_type": "execute_result"
    }
   ],
   "source": [
    "arr + arr"
   ]
  },
  {
   "cell_type": "code",
   "execution_count": 43,
   "id": "3dd862d7-2044-4e63-9375-ca345439e7a5",
   "metadata": {},
   "outputs": [
    {
     "data": {
      "text/plain": [
       "array([0, 0, 0, 0, 0, 0, 0, 0, 0, 0])"
      ]
     },
     "execution_count": 43,
     "metadata": {},
     "output_type": "execute_result"
    }
   ],
   "source": [
    "arr - arr"
   ]
  },
  {
   "cell_type": "code",
   "execution_count": 44,
   "id": "fff6568f-71ca-405c-bf9a-50ebcbc6b9ad",
   "metadata": {},
   "outputs": [
    {
     "data": {
      "text/plain": [
       "array([  1,   4,   9,  16,  25,  36,  49,  64,  81, 100])"
      ]
     },
     "execution_count": 44,
     "metadata": {},
     "output_type": "execute_result"
    }
   ],
   "source": [
    "arr * arr"
   ]
  },
  {
   "cell_type": "code",
   "execution_count": 45,
   "id": "112e86ac-bd0a-4eb9-abfc-5b196d5c56f3",
   "metadata": {},
   "outputs": [
    {
     "data": {
      "text/plain": [
       "array([ 2,  3,  4,  5,  6,  7,  8,  9, 10, 11])"
      ]
     },
     "execution_count": 45,
     "metadata": {},
     "output_type": "execute_result"
    }
   ],
   "source": [
    "arr + 1"
   ]
  },
  {
   "cell_type": "code",
   "execution_count": 46,
   "id": "b874db07-7c44-4403-8389-b8696d50f5c6",
   "metadata": {},
   "outputs": [
    {
     "data": {
      "text/plain": [
       "array([0.33333333, 0.66666667, 1.        , 1.33333333, 1.66666667,\n",
       "       2.        , 2.33333333, 2.66666667, 3.        , 3.33333333])"
      ]
     },
     "execution_count": 46,
     "metadata": {},
     "output_type": "execute_result"
    }
   ],
   "source": [
    "arr / 3"
   ]
  },
  {
   "cell_type": "code",
   "execution_count": 47,
   "id": "f1f45b5b-b2d7-4a8d-9253-c1ca05cd2c5f",
   "metadata": {},
   "outputs": [
    {
     "data": {
      "text/plain": [
       "array([  1,   4,   9,  16,  25,  36,  49,  64,  81, 100])"
      ]
     },
     "execution_count": 47,
     "metadata": {},
     "output_type": "execute_result"
    }
   ],
   "source": [
    "arr ** 2"
   ]
  },
  {
   "cell_type": "code",
   "execution_count": null,
   "id": "191adb8b-c2e5-4e0a-83e9-eb04c1b3efed",
   "metadata": {},
   "outputs": [],
   "source": []
  }
 ],
 "metadata": {
  "kernelspec": {
   "display_name": "venv",
   "language": "python",
   "name": "python3"
  },
  "language_info": {
   "codemirror_mode": {
    "name": "ipython",
    "version": 3
   },
   "file_extension": ".py",
   "mimetype": "text/x-python",
   "name": "python",
   "nbconvert_exporter": "python",
   "pygments_lexer": "ipython3",
   "version": "3.12.3"
  }
 },
 "nbformat": 4,
 "nbformat_minor": 5
}
