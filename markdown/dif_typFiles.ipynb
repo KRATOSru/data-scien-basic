{
 "cells": [
  {
   "cell_type": "markdown",
   "metadata": {},
   "source": [
    "<p style = \"background-color : blue; border-radius: 5px 5px; padding : 3px\"><strong></strong><p>\n",
    "\n",
    "# Графики\n",
    "<p style = \"background-color : green; border-radius: 5px 5px; padding : 3px\"><strong></strong>/<p>\n",
    "\n",
    "### 1.Начальный график\n",
    "\n",
    "<h1>Heading level 1</h1>\n",
    "<h2>Heading level 2</h2>\n",
    "\n",
    "I really like using Markdown.\n",
    "\n",
    "I just love <strong>bold text</strong>.\n",
    "\n",
    "<ol>\n",
    "  <li>First item</li>\n",
    "  <li>Second item</li>\n",
    "  <li>Third item</li>\n",
    "  <li>Fourth item</li>\n",
    "</ol> \n",
    "\n",
    "1. First item\n",
    "2. Second item\n",
    "3. Third item\n",
    "4. Fourth item \n",
    "\n",
    "\n",
    "\n"
   ]
  }
 ],
 "metadata": {
  "language_info": {
   "name": "python"
  }
 },
 "nbformat": 4,
 "nbformat_minor": 2
}
