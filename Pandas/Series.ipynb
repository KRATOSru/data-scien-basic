{
 "cells": [
  {
   "cell_type": "code",
   "execution_count": 3,
   "id": "8a4d5c9d-8111-4ff1-a691-d53639c6d074",
   "metadata": {},
   "outputs": [],
   "source": [
    "import numpy as np\n",
    "import pandas as pd"
   ]
  },
  {
   "cell_type": "code",
   "execution_count": 4,
   "id": "dfdac272-dfab-4298-a8cd-3880af16cce8",
   "metadata": {},
   "outputs": [],
   "source": [
    "letters = ['a','b','c']\n",
    "numbers = [1,2,3]\n",
    "np_arr = np.array(numbers)\n",
    "dict = {'a':1, 'b':2, 'c':3}"
   ]
  },
  {
   "cell_type": "code",
   "execution_count": 5,
   "id": "eea0579e-9ed2-4c33-b2f0-0cc0e5d1709c",
   "metadata": {},
   "outputs": [
    {
     "data": {
      "text/plain": [
       "0    1\n",
       "1    2\n",
       "2    3\n",
       "dtype: int64"
      ]
     },
     "execution_count": 5,
     "metadata": {},
     "output_type": "execute_result"
    }
   ],
   "source": [
    "pd.Series(data = numbers)"
   ]
  },
  {
   "cell_type": "code",
   "execution_count": 6,
   "id": "78631def-4e81-4b5b-9e2b-e7e370170f2c",
   "metadata": {},
   "outputs": [
    {
     "data": {
      "text/plain": [
       "a    1\n",
       "b    2\n",
       "c    3\n",
       "dtype: int64"
      ]
     },
     "execution_count": 6,
     "metadata": {},
     "output_type": "execute_result"
    }
   ],
   "source": [
    "pd.Series(data = numbers, index=letters)"
   ]
  },
  {
   "cell_type": "markdown",
   "id": "2d8c9da1-944a-4a5d-a8fc-5793d9814c2d",
   "metadata": {},
   "source": [
    "# более короткая запись"
   ]
  },
  {
   "cell_type": "code",
   "execution_count": 7,
   "id": "fc4a9593-0c25-46ab-82af-6421375b0225",
   "metadata": {},
   "outputs": [
    {
     "data": {
      "text/plain": [
       "a    1\n",
       "b    2\n",
       "c    3\n",
       "dtype: int64"
      ]
     },
     "execution_count": 7,
     "metadata": {},
     "output_type": "execute_result"
    }
   ],
   "source": [
    "pd.Series(numbers,letters)"
   ]
  },
  {
   "cell_type": "code",
   "execution_count": 8,
   "id": "fd550d01-db4d-4207-8d98-14778942b0f5",
   "metadata": {},
   "outputs": [
    {
     "data": {
      "text/plain": [
       "0    1\n",
       "1    2\n",
       "2    3\n",
       "dtype: int64"
      ]
     },
     "execution_count": 8,
     "metadata": {},
     "output_type": "execute_result"
    }
   ],
   "source": [
    "pd.Series(np_arr)"
   ]
  },
  {
   "cell_type": "code",
   "execution_count": 9,
   "id": "a5a89137-59eb-4933-9b28-3cd09d1e6b53",
   "metadata": {},
   "outputs": [
    {
     "data": {
      "text/plain": [
       "{'a': 1, 'b': 2, 'c': 3}"
      ]
     },
     "execution_count": 9,
     "metadata": {},
     "output_type": "execute_result"
    }
   ],
   "source": [
    "dict"
   ]
  },
  {
   "cell_type": "code",
   "execution_count": 10,
   "id": "6c0c6bcf-cdb9-42e3-a58e-f944db561e45",
   "metadata": {},
   "outputs": [
    {
     "data": {
      "text/plain": [
       "a    1\n",
       "b    2\n",
       "c    3\n",
       "dtype: int64"
      ]
     },
     "execution_count": 10,
     "metadata": {},
     "output_type": "execute_result"
    }
   ],
   "source": [
    "pd.Series(dict)"
   ]
  },
  {
   "cell_type": "code",
   "execution_count": null,
   "id": "ed96d30b-db62-4039-ac2a-3ebcd6ee8415",
   "metadata": {},
   "outputs": [],
   "source": []
  },
  {
   "cell_type": "code",
   "execution_count": 11,
   "id": "12905130-2e1c-4773-98a4-ddbacb2ad875",
   "metadata": {},
   "outputs": [
    {
     "data": {
      "text/plain": [
       "['a', 'b', 'c']"
      ]
     },
     "execution_count": 11,
     "metadata": {},
     "output_type": "execute_result"
    }
   ],
   "source": [
    "letters"
   ]
  },
  {
   "cell_type": "code",
   "execution_count": 12,
   "id": "a0491874-2359-46c6-806d-ac802147dec8",
   "metadata": {},
   "outputs": [
    {
     "data": {
      "text/plain": [
       "[1, 2, 3]"
      ]
     },
     "execution_count": 12,
     "metadata": {},
     "output_type": "execute_result"
    }
   ],
   "source": [
    "numbers "
   ]
  },
  {
   "cell_type": "code",
   "execution_count": 13,
   "id": "fdf6f076-fade-4204-b936-b015f6d0daa7",
   "metadata": {},
   "outputs": [
    {
     "data": {
      "text/plain": [
       "array([1, 2, 3])"
      ]
     },
     "execution_count": 13,
     "metadata": {},
     "output_type": "execute_result"
    }
   ],
   "source": [
    "np_arr"
   ]
  },
  {
   "cell_type": "code",
   "execution_count": 14,
   "id": "ee36b041-0f97-486a-851f-b59a2278ace5",
   "metadata": {},
   "outputs": [
    {
     "data": {
      "text/plain": [
       "{'a': 1, 'b': 2, 'c': 3}"
      ]
     },
     "execution_count": 14,
     "metadata": {},
     "output_type": "execute_result"
    }
   ],
   "source": [
    "dict"
   ]
  },
  {
   "cell_type": "code",
   "execution_count": 15,
   "id": "a7a0b0d5-3984-4aa6-9c1b-fe6e23fac9d6",
   "metadata": {},
   "outputs": [
    {
     "data": {
      "text/plain": [
       "a    1\n",
       "b    2\n",
       "c    3\n",
       "dtype: int64"
      ]
     },
     "execution_count": 15,
     "metadata": {},
     "output_type": "execute_result"
    }
   ],
   "source": [
    "pd.Series(dict)"
   ]
  },
  {
   "cell_type": "code",
   "execution_count": 16,
   "id": "bce53611-9831-4beb-aa83-000138341eb3",
   "metadata": {},
   "outputs": [],
   "source": [
    "life_long_average = pd.Series([84.7, 84.5, 83.7], ['Hong Kong', 'Japan', 'Singapure'])"
   ]
  },
  {
   "cell_type": "code",
   "execution_count": 17,
   "id": "8b1e3279-c6df-412d-9295-c1a31fa72619",
   "metadata": {},
   "outputs": [
    {
     "data": {
      "text/plain": [
       "Hong Kong    84.7\n",
       "Japan        84.5\n",
       "Singapure    83.7\n",
       "dtype: float64"
      ]
     },
     "execution_count": 17,
     "metadata": {},
     "output_type": "execute_result"
    }
   ],
   "source": [
    "life_long_average"
   ]
  },
  {
   "cell_type": "code",
   "execution_count": 18,
   "id": "b2140920-b8df-4066-b58a-0ecb97e788bf",
   "metadata": {},
   "outputs": [
    {
     "data": {
      "text/plain": [
       "np.float64(84.7)"
      ]
     },
     "execution_count": 18,
     "metadata": {},
     "output_type": "execute_result"
    }
   ],
   "source": [
    "life_long_average['Hong Kong']"
   ]
  },
  {
   "cell_type": "code",
   "execution_count": 19,
   "id": "ff65b806-96c6-4449-b72d-37de51f38194",
   "metadata": {},
   "outputs": [],
   "source": [
    "life_long_average1 = pd.Series([84.7, 84.5, 83.7], ['Hong Kong', 'Japan', 'Singapure'])"
   ]
  },
  {
   "cell_type": "code",
   "execution_count": 20,
   "id": "74587cd8-dbaa-4009-bb9b-8b5727ea98ef",
   "metadata": {},
   "outputs": [
    {
     "data": {
      "text/plain": [
       "Hong Kong    169.4\n",
       "Japan        169.0\n",
       "Singapure    167.4\n",
       "dtype: float64"
      ]
     },
     "execution_count": 20,
     "metadata": {},
     "output_type": "execute_result"
    }
   ],
   "source": [
    "life_long_average + life_long_average1"
   ]
  },
  {
   "cell_type": "code",
   "execution_count": null,
   "id": "eac5149a-4fd7-4a50-ac68-a9bdbd8f4d21",
   "metadata": {},
   "outputs": [],
   "source": []
  }
 ],
 "metadata": {
  "kernelspec": {
   "display_name": "venv",
   "language": "python",
   "name": "python3"
  },
  "language_info": {
   "codemirror_mode": {
    "name": "ipython",
    "version": 3
   },
   "file_extension": ".py",
   "mimetype": "text/x-python",
   "name": "python",
   "nbconvert_exporter": "python",
   "pygments_lexer": "ipython3",
   "version": "3.12.3"
  }
 },
 "nbformat": 4,
 "nbformat_minor": 5
}
