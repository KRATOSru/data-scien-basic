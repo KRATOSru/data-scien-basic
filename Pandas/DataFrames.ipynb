{
 "cells": [
  {
   "cell_type": "markdown",
   "id": "4544fbe3-982e-46b6-947c-ec23c76131d7",
   "metadata": {},
   "source": [
    "# Основы DataFrames, которые состоят из Series"
   ]
  },
  {
   "cell_type": "code",
   "execution_count": 7,
   "id": "88226c67-9f29-4d94-908c-fb718752db24",
   "metadata": {},
   "outputs": [],
   "source": [
    "import numpy as np\n",
    "import pandas as pd"
   ]
  },
  {
   "cell_type": "markdown",
   "id": "04713ae0-6595-43d0-b41c-c5640005a073",
   "metadata": {},
   "source": [
    "#shift + tab"
   ]
  },
  {
   "cell_type": "code",
   "execution_count": 16,
   "id": "af4c07cb-146f-44f8-818e-0d7a171c28f8",
   "metadata": {},
   "outputs": [],
   "source": [
    "my_df = pd.DataFrame(np.random.randn(4,5), [1,2,3,4], ['yellow', 'orange', 'red', 'green', 'blue'])"
   ]
  },
  {
   "cell_type": "code",
   "execution_count": 18,
   "id": "3b4e5679-3ebb-46db-8651-3a756ea4897f",
   "metadata": {},
   "outputs": [
    {
     "data": {
      "text/html": [
       "<div>\n",
       "<style scoped>\n",
       "    .dataframe tbody tr th:only-of-type {\n",
       "        vertical-align: middle;\n",
       "    }\n",
       "\n",
       "    .dataframe tbody tr th {\n",
       "        vertical-align: top;\n",
       "    }\n",
       "\n",
       "    .dataframe thead th {\n",
       "        text-align: right;\n",
       "    }\n",
       "</style>\n",
       "<table border=\"1\" class=\"dataframe\">\n",
       "  <thead>\n",
       "    <tr style=\"text-align: right;\">\n",
       "      <th></th>\n",
       "      <th>yellow</th>\n",
       "      <th>orange</th>\n",
       "      <th>red</th>\n",
       "      <th>green</th>\n",
       "      <th>blue</th>\n",
       "    </tr>\n",
       "  </thead>\n",
       "  <tbody>\n",
       "    <tr>\n",
       "      <th>1</th>\n",
       "      <td>0.707580</td>\n",
       "      <td>-0.251833</td>\n",
       "      <td>0.037338</td>\n",
       "      <td>-0.731220</td>\n",
       "      <td>-1.516413</td>\n",
       "    </tr>\n",
       "    <tr>\n",
       "      <th>2</th>\n",
       "      <td>0.185302</td>\n",
       "      <td>0.353897</td>\n",
       "      <td>-0.147961</td>\n",
       "      <td>2.317719</td>\n",
       "      <td>-0.441630</td>\n",
       "    </tr>\n",
       "    <tr>\n",
       "      <th>3</th>\n",
       "      <td>0.751221</td>\n",
       "      <td>1.099403</td>\n",
       "      <td>0.853759</td>\n",
       "      <td>-0.819810</td>\n",
       "      <td>1.064894</td>\n",
       "    </tr>\n",
       "    <tr>\n",
       "      <th>4</th>\n",
       "      <td>0.354095</td>\n",
       "      <td>0.181643</td>\n",
       "      <td>0.756464</td>\n",
       "      <td>-1.859161</td>\n",
       "      <td>-0.685865</td>\n",
       "    </tr>\n",
       "  </tbody>\n",
       "</table>\n",
       "</div>"
      ],
      "text/plain": [
       "     yellow    orange       red     green      blue\n",
       "1  0.707580 -0.251833  0.037338 -0.731220 -1.516413\n",
       "2  0.185302  0.353897 -0.147961  2.317719 -0.441630\n",
       "3  0.751221  1.099403  0.853759 -0.819810  1.064894\n",
       "4  0.354095  0.181643  0.756464 -1.859161 -0.685865"
      ]
     },
     "execution_count": 18,
     "metadata": {},
     "output_type": "execute_result"
    }
   ],
   "source": [
    "my_df"
   ]
  },
  {
   "cell_type": "code",
   "execution_count": 31,
   "id": "b2462c64-e17d-42a4-809b-b59b64528404",
   "metadata": {},
   "outputs": [
    {
     "data": {
      "text/plain": [
       "1   -0.251833\n",
       "2    0.353897\n",
       "3    1.099403\n",
       "4    0.181643\n",
       "Name: orange, dtype: float64"
      ]
     },
     "execution_count": 31,
     "metadata": {},
     "output_type": "execute_result"
    }
   ],
   "source": [
    "my_df['orange']"
   ]
  },
  {
   "cell_type": "code",
   "execution_count": 33,
   "id": "455385f8-afa0-4226-85fa-62fe149462b4",
   "metadata": {},
   "outputs": [
    {
     "data": {
      "text/plain": [
       "1    0.037338\n",
       "2   -0.147961\n",
       "3    0.853759\n",
       "4    0.756464\n",
       "Name: red, dtype: float64"
      ]
     },
     "execution_count": 33,
     "metadata": {},
     "output_type": "execute_result"
    }
   ],
   "source": [
    "my_df['red']"
   ]
  },
  {
   "cell_type": "code",
   "execution_count": 50,
   "id": "efe7a8ba-09cb-4ed6-9949-a7c19d170373",
   "metadata": {},
   "outputs": [
    {
     "data": {
      "text/plain": [
       "pandas.core.series.Series"
      ]
     },
     "execution_count": 50,
     "metadata": {},
     "output_type": "execute_result"
    }
   ],
   "source": [
    "type(my_df['orange'])"
   ]
  },
  {
   "cell_type": "code",
   "execution_count": 52,
   "id": "a0657634-8dcb-4619-af00-20ab09dfd3a6",
   "metadata": {},
   "outputs": [
    {
     "data": {
      "text/plain": [
       "pandas.core.frame.DataFrame"
      ]
     },
     "execution_count": 52,
     "metadata": {},
     "output_type": "execute_result"
    }
   ],
   "source": [
    "type(my_df)"
   ]
  },
  {
   "cell_type": "code",
   "execution_count": 58,
   "id": "17b8266c-9f16-4f79-9173-7e867d69ce8f",
   "metadata": {},
   "outputs": [
    {
     "data": {
      "text/html": [
       "<div>\n",
       "<style scoped>\n",
       "    .dataframe tbody tr th:only-of-type {\n",
       "        vertical-align: middle;\n",
       "    }\n",
       "\n",
       "    .dataframe tbody tr th {\n",
       "        vertical-align: top;\n",
       "    }\n",
       "\n",
       "    .dataframe thead th {\n",
       "        text-align: right;\n",
       "    }\n",
       "</style>\n",
       "<table border=\"1\" class=\"dataframe\">\n",
       "  <thead>\n",
       "    <tr style=\"text-align: right;\">\n",
       "      <th></th>\n",
       "      <th>yellow</th>\n",
       "      <th>blue</th>\n",
       "    </tr>\n",
       "  </thead>\n",
       "  <tbody>\n",
       "    <tr>\n",
       "      <th>1</th>\n",
       "      <td>0.707580</td>\n",
       "      <td>-1.516413</td>\n",
       "    </tr>\n",
       "    <tr>\n",
       "      <th>2</th>\n",
       "      <td>0.185302</td>\n",
       "      <td>-0.441630</td>\n",
       "    </tr>\n",
       "    <tr>\n",
       "      <th>3</th>\n",
       "      <td>0.751221</td>\n",
       "      <td>1.064894</td>\n",
       "    </tr>\n",
       "    <tr>\n",
       "      <th>4</th>\n",
       "      <td>0.354095</td>\n",
       "      <td>-0.685865</td>\n",
       "    </tr>\n",
       "  </tbody>\n",
       "</table>\n",
       "</div>"
      ],
      "text/plain": [
       "     yellow      blue\n",
       "1  0.707580 -1.516413\n",
       "2  0.185302 -0.441630\n",
       "3  0.751221  1.064894\n",
       "4  0.354095 -0.685865"
      ]
     },
     "execution_count": 58,
     "metadata": {},
     "output_type": "execute_result"
    }
   ],
   "source": [
    "my_df[['yellow', 'blue']]"
   ]
  },
  {
   "cell_type": "markdown",
   "id": "8ef0016f-974f-4ab4-8e21-2a76e80f5795",
   "metadata": {},
   "source": [
    "DataFrame уже"
   ]
  },
  {
   "cell_type": "code",
   "execution_count": 56,
   "id": "96130c61-55f4-4e8f-8a1c-8f904e291010",
   "metadata": {},
   "outputs": [
    {
     "data": {
      "text/plain": [
       "pandas.core.frame.DataFrame"
      ]
     },
     "execution_count": 56,
     "metadata": {},
     "output_type": "execute_result"
    }
   ],
   "source": [
    "type(my_df[['yellow', 'blue']])"
   ]
  },
  {
   "cell_type": "code",
   "execution_count": 64,
   "id": "863e6694-0119-45dd-8b67-190be6bc9a8b",
   "metadata": {},
   "outputs": [],
   "source": [
    "my_df['indigo'] = my_df['blue']"
   ]
  },
  {
   "cell_type": "code",
   "execution_count": 66,
   "id": "ef8a887b-c535-49d9-9fb4-4c30a1fb5cd1",
   "metadata": {},
   "outputs": [
    {
     "data": {
      "text/html": [
       "<div>\n",
       "<style scoped>\n",
       "    .dataframe tbody tr th:only-of-type {\n",
       "        vertical-align: middle;\n",
       "    }\n",
       "\n",
       "    .dataframe tbody tr th {\n",
       "        vertical-align: top;\n",
       "    }\n",
       "\n",
       "    .dataframe thead th {\n",
       "        text-align: right;\n",
       "    }\n",
       "</style>\n",
       "<table border=\"1\" class=\"dataframe\">\n",
       "  <thead>\n",
       "    <tr style=\"text-align: right;\">\n",
       "      <th></th>\n",
       "      <th>yellow</th>\n",
       "      <th>orange</th>\n",
       "      <th>red</th>\n",
       "      <th>green</th>\n",
       "      <th>blue</th>\n",
       "      <th>indigo</th>\n",
       "    </tr>\n",
       "  </thead>\n",
       "  <tbody>\n",
       "    <tr>\n",
       "      <th>1</th>\n",
       "      <td>0.707580</td>\n",
       "      <td>-0.251833</td>\n",
       "      <td>0.037338</td>\n",
       "      <td>-0.731220</td>\n",
       "      <td>-1.516413</td>\n",
       "      <td>-1.516413</td>\n",
       "    </tr>\n",
       "    <tr>\n",
       "      <th>2</th>\n",
       "      <td>0.185302</td>\n",
       "      <td>0.353897</td>\n",
       "      <td>-0.147961</td>\n",
       "      <td>2.317719</td>\n",
       "      <td>-0.441630</td>\n",
       "      <td>-0.441630</td>\n",
       "    </tr>\n",
       "    <tr>\n",
       "      <th>3</th>\n",
       "      <td>0.751221</td>\n",
       "      <td>1.099403</td>\n",
       "      <td>0.853759</td>\n",
       "      <td>-0.819810</td>\n",
       "      <td>1.064894</td>\n",
       "      <td>1.064894</td>\n",
       "    </tr>\n",
       "    <tr>\n",
       "      <th>4</th>\n",
       "      <td>0.354095</td>\n",
       "      <td>0.181643</td>\n",
       "      <td>0.756464</td>\n",
       "      <td>-1.859161</td>\n",
       "      <td>-0.685865</td>\n",
       "      <td>-0.685865</td>\n",
       "    </tr>\n",
       "  </tbody>\n",
       "</table>\n",
       "</div>"
      ],
      "text/plain": [
       "     yellow    orange       red     green      blue    indigo\n",
       "1  0.707580 -0.251833  0.037338 -0.731220 -1.516413 -1.516413\n",
       "2  0.185302  0.353897 -0.147961  2.317719 -0.441630 -0.441630\n",
       "3  0.751221  1.099403  0.853759 -0.819810  1.064894  1.064894\n",
       "4  0.354095  0.181643  0.756464 -1.859161 -0.685865 -0.685865"
      ]
     },
     "execution_count": 66,
     "metadata": {},
     "output_type": "execute_result"
    }
   ],
   "source": [
    "my_df"
   ]
  },
  {
   "cell_type": "code",
   "execution_count": 68,
   "id": "e826be9a-19ea-4e3d-8566-8e608c9d4941",
   "metadata": {},
   "outputs": [],
   "source": [
    "my_df['violet'] = my_df['blue'] + my_df['indigo']"
   ]
  },
  {
   "cell_type": "code",
   "execution_count": 72,
   "id": "5cba0367-ddc3-43e9-9cc5-136df94e5717",
   "metadata": {},
   "outputs": [
    {
     "data": {
      "text/html": [
       "<div>\n",
       "<style scoped>\n",
       "    .dataframe tbody tr th:only-of-type {\n",
       "        vertical-align: middle;\n",
       "    }\n",
       "\n",
       "    .dataframe tbody tr th {\n",
       "        vertical-align: top;\n",
       "    }\n",
       "\n",
       "    .dataframe thead th {\n",
       "        text-align: right;\n",
       "    }\n",
       "</style>\n",
       "<table border=\"1\" class=\"dataframe\">\n",
       "  <thead>\n",
       "    <tr style=\"text-align: right;\">\n",
       "      <th></th>\n",
       "      <th>yellow</th>\n",
       "      <th>orange</th>\n",
       "      <th>red</th>\n",
       "      <th>green</th>\n",
       "      <th>blue</th>\n",
       "      <th>indigo</th>\n",
       "      <th>violet</th>\n",
       "    </tr>\n",
       "  </thead>\n",
       "  <tbody>\n",
       "    <tr>\n",
       "      <th>1</th>\n",
       "      <td>0.707580</td>\n",
       "      <td>-0.251833</td>\n",
       "      <td>0.037338</td>\n",
       "      <td>-0.731220</td>\n",
       "      <td>-1.516413</td>\n",
       "      <td>-1.516413</td>\n",
       "      <td>-3.032826</td>\n",
       "    </tr>\n",
       "    <tr>\n",
       "      <th>2</th>\n",
       "      <td>0.185302</td>\n",
       "      <td>0.353897</td>\n",
       "      <td>-0.147961</td>\n",
       "      <td>2.317719</td>\n",
       "      <td>-0.441630</td>\n",
       "      <td>-0.441630</td>\n",
       "      <td>-0.883261</td>\n",
       "    </tr>\n",
       "    <tr>\n",
       "      <th>3</th>\n",
       "      <td>0.751221</td>\n",
       "      <td>1.099403</td>\n",
       "      <td>0.853759</td>\n",
       "      <td>-0.819810</td>\n",
       "      <td>1.064894</td>\n",
       "      <td>1.064894</td>\n",
       "      <td>2.129787</td>\n",
       "    </tr>\n",
       "    <tr>\n",
       "      <th>4</th>\n",
       "      <td>0.354095</td>\n",
       "      <td>0.181643</td>\n",
       "      <td>0.756464</td>\n",
       "      <td>-1.859161</td>\n",
       "      <td>-0.685865</td>\n",
       "      <td>-0.685865</td>\n",
       "      <td>-1.371730</td>\n",
       "    </tr>\n",
       "  </tbody>\n",
       "</table>\n",
       "</div>"
      ],
      "text/plain": [
       "     yellow    orange       red     green      blue    indigo    violet\n",
       "1  0.707580 -0.251833  0.037338 -0.731220 -1.516413 -1.516413 -3.032826\n",
       "2  0.185302  0.353897 -0.147961  2.317719 -0.441630 -0.441630 -0.883261\n",
       "3  0.751221  1.099403  0.853759 -0.819810  1.064894  1.064894  2.129787\n",
       "4  0.354095  0.181643  0.756464 -1.859161 -0.685865 -0.685865 -1.371730"
      ]
     },
     "execution_count": 72,
     "metadata": {},
     "output_type": "execute_result"
    }
   ],
   "source": [
    "my_df"
   ]
  },
  {
   "cell_type": "code",
   "execution_count": 70,
   "id": "7a028004-a01a-48d0-b863-8378267669d1",
   "metadata": {},
   "outputs": [
    {
     "data": {
      "text/plain": [
       "1   -3.032826\n",
       "2   -0.883261\n",
       "3    2.129787\n",
       "4   -1.371730\n",
       "Name: violet, dtype: float64"
      ]
     },
     "execution_count": 70,
     "metadata": {},
     "output_type": "execute_result"
    }
   ],
   "source": [
    "my_df['violet']"
   ]
  },
  {
   "cell_type": "code",
   "execution_count": 74,
   "id": "6010d243-68ad-41b6-8b80-b5b3e6dcdd05",
   "metadata": {},
   "outputs": [
    {
     "data": {
      "text/plain": [
       "yellow    0.185302\n",
       "orange    0.353897\n",
       "red      -0.147961\n",
       "green     2.317719\n",
       "blue     -0.441630\n",
       "indigo   -0.441630\n",
       "violet   -0.883261\n",
       "Name: 2, dtype: float64"
      ]
     },
     "execution_count": 74,
     "metadata": {},
     "output_type": "execute_result"
    }
   ],
   "source": [
    "my_df.loc[2]"
   ]
  },
  {
   "cell_type": "code",
   "execution_count": 76,
   "id": "385daa85-13a4-4fed-8cfa-a558119b4f03",
   "metadata": {},
   "outputs": [
    {
     "data": {
      "text/plain": [
       "yellow    0.185302\n",
       "orange    0.353897\n",
       "red      -0.147961\n",
       "green     2.317719\n",
       "blue     -0.441630\n",
       "indigo   -0.441630\n",
       "violet   -0.883261\n",
       "Name: 2, dtype: float64"
      ]
     },
     "execution_count": 76,
     "metadata": {},
     "output_type": "execute_result"
    }
   ],
   "source": [
    "my_df.iloc[1]"
   ]
  },
  {
   "cell_type": "code",
   "execution_count": 81,
   "id": "882c4607-623b-4398-b95f-dbdff5a9d8f9",
   "metadata": {},
   "outputs": [
    {
     "data": {
      "text/plain": [
       "yellow    0.751221\n",
       "orange    1.099403\n",
       "red       0.853759\n",
       "green    -0.819810\n",
       "blue      1.064894\n",
       "indigo    1.064894\n",
       "violet    2.129787\n",
       "Name: 3, dtype: float64"
      ]
     },
     "execution_count": 81,
     "metadata": {},
     "output_type": "execute_result"
    }
   ],
   "source": [
    "my_df.iloc[2]"
   ]
  },
  {
   "cell_type": "markdown",
   "id": "3e834af3-bb08-4fa8-9177-fa57b8e3c4ff",
   "metadata": {},
   "source": [
    "указываем новые значения в строках"
   ]
  },
  {
   "cell_type": "code",
   "execution_count": 83,
   "id": "1bc341eb-99d7-4412-8476-6fe362f649df",
   "metadata": {},
   "outputs": [],
   "source": [
    "my_df.iloc[2] = my_df.iloc[1]"
   ]
  },
  {
   "cell_type": "code",
   "execution_count": 85,
   "id": "4ebe3f2e-313c-4c0d-ba00-607d3c8c1a04",
   "metadata": {},
   "outputs": [
    {
     "data": {
      "text/plain": [
       "yellow    0.185302\n",
       "orange    0.353897\n",
       "red      -0.147961\n",
       "green     2.317719\n",
       "blue     -0.441630\n",
       "indigo   -0.441630\n",
       "violet   -0.883261\n",
       "Name: 3, dtype: float64"
      ]
     },
     "execution_count": 85,
     "metadata": {},
     "output_type": "execute_result"
    }
   ],
   "source": [
    "my_df.iloc[2] "
   ]
  },
  {
   "cell_type": "code",
   "execution_count": 89,
   "id": "02baa6c4-6552-4238-a326-83469fd09724",
   "metadata": {},
   "outputs": [
    {
     "data": {
      "text/html": [
       "<div>\n",
       "<style scoped>\n",
       "    .dataframe tbody tr th:only-of-type {\n",
       "        vertical-align: middle;\n",
       "    }\n",
       "\n",
       "    .dataframe tbody tr th {\n",
       "        vertical-align: top;\n",
       "    }\n",
       "\n",
       "    .dataframe thead th {\n",
       "        text-align: right;\n",
       "    }\n",
       "</style>\n",
       "<table border=\"1\" class=\"dataframe\">\n",
       "  <thead>\n",
       "    <tr style=\"text-align: right;\">\n",
       "      <th></th>\n",
       "      <th>yellow</th>\n",
       "      <th>orange</th>\n",
       "      <th>red</th>\n",
       "      <th>green</th>\n",
       "      <th>blue</th>\n",
       "      <th>indigo</th>\n",
       "      <th>violet</th>\n",
       "    </tr>\n",
       "  </thead>\n",
       "  <tbody>\n",
       "    <tr>\n",
       "      <th>1</th>\n",
       "      <td>0.707580</td>\n",
       "      <td>-0.251833</td>\n",
       "      <td>0.037338</td>\n",
       "      <td>-0.731220</td>\n",
       "      <td>-1.516413</td>\n",
       "      <td>-1.516413</td>\n",
       "      <td>-3.032826</td>\n",
       "    </tr>\n",
       "    <tr>\n",
       "      <th>2</th>\n",
       "      <td>0.185302</td>\n",
       "      <td>0.353897</td>\n",
       "      <td>-0.147961</td>\n",
       "      <td>2.317719</td>\n",
       "      <td>-0.441630</td>\n",
       "      <td>-0.441630</td>\n",
       "      <td>-0.883261</td>\n",
       "    </tr>\n",
       "    <tr>\n",
       "      <th>3</th>\n",
       "      <td>0.185302</td>\n",
       "      <td>0.353897</td>\n",
       "      <td>-0.147961</td>\n",
       "      <td>2.317719</td>\n",
       "      <td>-0.441630</td>\n",
       "      <td>-0.441630</td>\n",
       "      <td>-0.883261</td>\n",
       "    </tr>\n",
       "    <tr>\n",
       "      <th>4</th>\n",
       "      <td>0.354095</td>\n",
       "      <td>0.181643</td>\n",
       "      <td>0.756464</td>\n",
       "      <td>-1.859161</td>\n",
       "      <td>-0.685865</td>\n",
       "      <td>-0.685865</td>\n",
       "      <td>-1.371730</td>\n",
       "    </tr>\n",
       "  </tbody>\n",
       "</table>\n",
       "</div>"
      ],
      "text/plain": [
       "     yellow    orange       red     green      blue    indigo    violet\n",
       "1  0.707580 -0.251833  0.037338 -0.731220 -1.516413 -1.516413 -3.032826\n",
       "2  0.185302  0.353897 -0.147961  2.317719 -0.441630 -0.441630 -0.883261\n",
       "3  0.185302  0.353897 -0.147961  2.317719 -0.441630 -0.441630 -0.883261\n",
       "4  0.354095  0.181643  0.756464 -1.859161 -0.685865 -0.685865 -1.371730"
      ]
     },
     "execution_count": 89,
     "metadata": {},
     "output_type": "execute_result"
    }
   ],
   "source": [
    "my_df"
   ]
  },
  {
   "cell_type": "code",
   "execution_count": 87,
   "id": "bf615cb7-2c8f-4868-9d07-8416e409709d",
   "metadata": {},
   "outputs": [
    {
     "data": {
      "text/plain": [
       "0.35389680577358845"
      ]
     },
     "execution_count": 87,
     "metadata": {},
     "output_type": "execute_result"
    }
   ],
   "source": [
    "my_df.loc[3,'orange']"
   ]
  },
  {
   "cell_type": "code",
   "execution_count": 93,
   "id": "d2d81183-7b00-4dc6-bbc1-8136b24fa6e1",
   "metadata": {},
   "outputs": [
    {
     "data": {
      "text/html": [
       "<div>\n",
       "<style scoped>\n",
       "    .dataframe tbody tr th:only-of-type {\n",
       "        vertical-align: middle;\n",
       "    }\n",
       "\n",
       "    .dataframe tbody tr th {\n",
       "        vertical-align: top;\n",
       "    }\n",
       "\n",
       "    .dataframe thead th {\n",
       "        text-align: right;\n",
       "    }\n",
       "</style>\n",
       "<table border=\"1\" class=\"dataframe\">\n",
       "  <thead>\n",
       "    <tr style=\"text-align: right;\">\n",
       "      <th></th>\n",
       "      <th>blue</th>\n",
       "      <th>violet</th>\n",
       "    </tr>\n",
       "  </thead>\n",
       "  <tbody>\n",
       "    <tr>\n",
       "      <th>1</th>\n",
       "      <td>-1.516413</td>\n",
       "      <td>-3.032826</td>\n",
       "    </tr>\n",
       "    <tr>\n",
       "      <th>3</th>\n",
       "      <td>-0.441630</td>\n",
       "      <td>-0.883261</td>\n",
       "    </tr>\n",
       "  </tbody>\n",
       "</table>\n",
       "</div>"
      ],
      "text/plain": [
       "       blue    violet\n",
       "1 -1.516413 -3.032826\n",
       "3 -0.441630 -0.883261"
      ]
     },
     "execution_count": 93,
     "metadata": {},
     "output_type": "execute_result"
    }
   ],
   "source": [
    "my_df.loc[[1,3], ['blue', 'violet']]"
   ]
  },
  {
   "cell_type": "code",
   "execution_count": 95,
   "id": "351608c1-18ec-44d5-aac2-59ed7641b2d2",
   "metadata": {},
   "outputs": [
    {
     "data": {
      "text/html": [
       "<div>\n",
       "<style scoped>\n",
       "    .dataframe tbody tr th:only-of-type {\n",
       "        vertical-align: middle;\n",
       "    }\n",
       "\n",
       "    .dataframe tbody tr th {\n",
       "        vertical-align: top;\n",
       "    }\n",
       "\n",
       "    .dataframe thead th {\n",
       "        text-align: right;\n",
       "    }\n",
       "</style>\n",
       "<table border=\"1\" class=\"dataframe\">\n",
       "  <thead>\n",
       "    <tr style=\"text-align: right;\">\n",
       "      <th></th>\n",
       "      <th>yellow</th>\n",
       "      <th>orange</th>\n",
       "      <th>red</th>\n",
       "      <th>green</th>\n",
       "      <th>blue</th>\n",
       "      <th>indigo</th>\n",
       "      <th>violet</th>\n",
       "    </tr>\n",
       "  </thead>\n",
       "  <tbody>\n",
       "    <tr>\n",
       "      <th>1</th>\n",
       "      <td>0.707580</td>\n",
       "      <td>-0.251833</td>\n",
       "      <td>0.037338</td>\n",
       "      <td>-0.731220</td>\n",
       "      <td>-1.516413</td>\n",
       "      <td>-1.516413</td>\n",
       "      <td>-3.032826</td>\n",
       "    </tr>\n",
       "    <tr>\n",
       "      <th>2</th>\n",
       "      <td>0.185302</td>\n",
       "      <td>0.353897</td>\n",
       "      <td>-0.147961</td>\n",
       "      <td>2.317719</td>\n",
       "      <td>-0.441630</td>\n",
       "      <td>-0.441630</td>\n",
       "      <td>-0.883261</td>\n",
       "    </tr>\n",
       "    <tr>\n",
       "      <th>4</th>\n",
       "      <td>0.354095</td>\n",
       "      <td>0.181643</td>\n",
       "      <td>0.756464</td>\n",
       "      <td>-1.859161</td>\n",
       "      <td>-0.685865</td>\n",
       "      <td>-0.685865</td>\n",
       "      <td>-1.371730</td>\n",
       "    </tr>\n",
       "  </tbody>\n",
       "</table>\n",
       "</div>"
      ],
      "text/plain": [
       "     yellow    orange       red     green      blue    indigo    violet\n",
       "1  0.707580 -0.251833  0.037338 -0.731220 -1.516413 -1.516413 -3.032826\n",
       "2  0.185302  0.353897 -0.147961  2.317719 -0.441630 -0.441630 -0.883261\n",
       "4  0.354095  0.181643  0.756464 -1.859161 -0.685865 -0.685865 -1.371730"
      ]
     },
     "execution_count": 95,
     "metadata": {},
     "output_type": "execute_result"
    }
   ],
   "source": [
    "my_df.drop(3)"
   ]
  },
  {
   "cell_type": "code",
   "execution_count": 97,
   "id": "4f98f940-84ab-4dee-a9e2-c0714fe29f8e",
   "metadata": {},
   "outputs": [
    {
     "data": {
      "text/html": [
       "<div>\n",
       "<style scoped>\n",
       "    .dataframe tbody tr th:only-of-type {\n",
       "        vertical-align: middle;\n",
       "    }\n",
       "\n",
       "    .dataframe tbody tr th {\n",
       "        vertical-align: top;\n",
       "    }\n",
       "\n",
       "    .dataframe thead th {\n",
       "        text-align: right;\n",
       "    }\n",
       "</style>\n",
       "<table border=\"1\" class=\"dataframe\">\n",
       "  <thead>\n",
       "    <tr style=\"text-align: right;\">\n",
       "      <th></th>\n",
       "      <th>yellow</th>\n",
       "      <th>orange</th>\n",
       "      <th>red</th>\n",
       "      <th>green</th>\n",
       "      <th>blue</th>\n",
       "      <th>indigo</th>\n",
       "      <th>violet</th>\n",
       "    </tr>\n",
       "  </thead>\n",
       "  <tbody>\n",
       "    <tr>\n",
       "      <th>1</th>\n",
       "      <td>0.707580</td>\n",
       "      <td>-0.251833</td>\n",
       "      <td>0.037338</td>\n",
       "      <td>-0.731220</td>\n",
       "      <td>-1.516413</td>\n",
       "      <td>-1.516413</td>\n",
       "      <td>-3.032826</td>\n",
       "    </tr>\n",
       "    <tr>\n",
       "      <th>2</th>\n",
       "      <td>0.185302</td>\n",
       "      <td>0.353897</td>\n",
       "      <td>-0.147961</td>\n",
       "      <td>2.317719</td>\n",
       "      <td>-0.441630</td>\n",
       "      <td>-0.441630</td>\n",
       "      <td>-0.883261</td>\n",
       "    </tr>\n",
       "    <tr>\n",
       "      <th>3</th>\n",
       "      <td>0.185302</td>\n",
       "      <td>0.353897</td>\n",
       "      <td>-0.147961</td>\n",
       "      <td>2.317719</td>\n",
       "      <td>-0.441630</td>\n",
       "      <td>-0.441630</td>\n",
       "      <td>-0.883261</td>\n",
       "    </tr>\n",
       "    <tr>\n",
       "      <th>4</th>\n",
       "      <td>0.354095</td>\n",
       "      <td>0.181643</td>\n",
       "      <td>0.756464</td>\n",
       "      <td>-1.859161</td>\n",
       "      <td>-0.685865</td>\n",
       "      <td>-0.685865</td>\n",
       "      <td>-1.371730</td>\n",
       "    </tr>\n",
       "  </tbody>\n",
       "</table>\n",
       "</div>"
      ],
      "text/plain": [
       "     yellow    orange       red     green      blue    indigo    violet\n",
       "1  0.707580 -0.251833  0.037338 -0.731220 -1.516413 -1.516413 -3.032826\n",
       "2  0.185302  0.353897 -0.147961  2.317719 -0.441630 -0.441630 -0.883261\n",
       "3  0.185302  0.353897 -0.147961  2.317719 -0.441630 -0.441630 -0.883261\n",
       "4  0.354095  0.181643  0.756464 -1.859161 -0.685865 -0.685865 -1.371730"
      ]
     },
     "execution_count": 97,
     "metadata": {},
     "output_type": "execute_result"
    }
   ],
   "source": [
    "my_df"
   ]
  },
  {
   "cell_type": "code",
   "execution_count": 99,
   "id": "b3ee6f4a-2a91-4174-8684-cb0e920e63dd",
   "metadata": {},
   "outputs": [],
   "source": [
    "my_df.drop(3, inplace=True)"
   ]
  },
  {
   "cell_type": "code",
   "execution_count": 101,
   "id": "2f2bf123-66a8-4cc2-85f2-49c82bf754a6",
   "metadata": {},
   "outputs": [
    {
     "data": {
      "text/html": [
       "<div>\n",
       "<style scoped>\n",
       "    .dataframe tbody tr th:only-of-type {\n",
       "        vertical-align: middle;\n",
       "    }\n",
       "\n",
       "    .dataframe tbody tr th {\n",
       "        vertical-align: top;\n",
       "    }\n",
       "\n",
       "    .dataframe thead th {\n",
       "        text-align: right;\n",
       "    }\n",
       "</style>\n",
       "<table border=\"1\" class=\"dataframe\">\n",
       "  <thead>\n",
       "    <tr style=\"text-align: right;\">\n",
       "      <th></th>\n",
       "      <th>yellow</th>\n",
       "      <th>orange</th>\n",
       "      <th>red</th>\n",
       "      <th>green</th>\n",
       "      <th>blue</th>\n",
       "      <th>indigo</th>\n",
       "      <th>violet</th>\n",
       "    </tr>\n",
       "  </thead>\n",
       "  <tbody>\n",
       "    <tr>\n",
       "      <th>1</th>\n",
       "      <td>0.707580</td>\n",
       "      <td>-0.251833</td>\n",
       "      <td>0.037338</td>\n",
       "      <td>-0.731220</td>\n",
       "      <td>-1.516413</td>\n",
       "      <td>-1.516413</td>\n",
       "      <td>-3.032826</td>\n",
       "    </tr>\n",
       "    <tr>\n",
       "      <th>2</th>\n",
       "      <td>0.185302</td>\n",
       "      <td>0.353897</td>\n",
       "      <td>-0.147961</td>\n",
       "      <td>2.317719</td>\n",
       "      <td>-0.441630</td>\n",
       "      <td>-0.441630</td>\n",
       "      <td>-0.883261</td>\n",
       "    </tr>\n",
       "    <tr>\n",
       "      <th>4</th>\n",
       "      <td>0.354095</td>\n",
       "      <td>0.181643</td>\n",
       "      <td>0.756464</td>\n",
       "      <td>-1.859161</td>\n",
       "      <td>-0.685865</td>\n",
       "      <td>-0.685865</td>\n",
       "      <td>-1.371730</td>\n",
       "    </tr>\n",
       "  </tbody>\n",
       "</table>\n",
       "</div>"
      ],
      "text/plain": [
       "     yellow    orange       red     green      blue    indigo    violet\n",
       "1  0.707580 -0.251833  0.037338 -0.731220 -1.516413 -1.516413 -3.032826\n",
       "2  0.185302  0.353897 -0.147961  2.317719 -0.441630 -0.441630 -0.883261\n",
       "4  0.354095  0.181643  0.756464 -1.859161 -0.685865 -0.685865 -1.371730"
      ]
     },
     "execution_count": 101,
     "metadata": {},
     "output_type": "execute_result"
    }
   ],
   "source": [
    "my_df"
   ]
  },
  {
   "cell_type": "code",
   "execution_count": 103,
   "id": "5d1558ea-136d-4ae7-9899-e5c1b2b49076",
   "metadata": {},
   "outputs": [
    {
     "data": {
      "text/html": [
       "<div>\n",
       "<style scoped>\n",
       "    .dataframe tbody tr th:only-of-type {\n",
       "        vertical-align: middle;\n",
       "    }\n",
       "\n",
       "    .dataframe tbody tr th {\n",
       "        vertical-align: top;\n",
       "    }\n",
       "\n",
       "    .dataframe thead th {\n",
       "        text-align: right;\n",
       "    }\n",
       "</style>\n",
       "<table border=\"1\" class=\"dataframe\">\n",
       "  <thead>\n",
       "    <tr style=\"text-align: right;\">\n",
       "      <th></th>\n",
       "      <th>yellow</th>\n",
       "      <th>orange</th>\n",
       "      <th>red</th>\n",
       "      <th>green</th>\n",
       "      <th>blue</th>\n",
       "      <th>violet</th>\n",
       "    </tr>\n",
       "  </thead>\n",
       "  <tbody>\n",
       "    <tr>\n",
       "      <th>1</th>\n",
       "      <td>0.707580</td>\n",
       "      <td>-0.251833</td>\n",
       "      <td>0.037338</td>\n",
       "      <td>-0.731220</td>\n",
       "      <td>-1.516413</td>\n",
       "      <td>-3.032826</td>\n",
       "    </tr>\n",
       "    <tr>\n",
       "      <th>2</th>\n",
       "      <td>0.185302</td>\n",
       "      <td>0.353897</td>\n",
       "      <td>-0.147961</td>\n",
       "      <td>2.317719</td>\n",
       "      <td>-0.441630</td>\n",
       "      <td>-0.883261</td>\n",
       "    </tr>\n",
       "    <tr>\n",
       "      <th>4</th>\n",
       "      <td>0.354095</td>\n",
       "      <td>0.181643</td>\n",
       "      <td>0.756464</td>\n",
       "      <td>-1.859161</td>\n",
       "      <td>-0.685865</td>\n",
       "      <td>-1.371730</td>\n",
       "    </tr>\n",
       "  </tbody>\n",
       "</table>\n",
       "</div>"
      ],
      "text/plain": [
       "     yellow    orange       red     green      blue    violet\n",
       "1  0.707580 -0.251833  0.037338 -0.731220 -1.516413 -3.032826\n",
       "2  0.185302  0.353897 -0.147961  2.317719 -0.441630 -0.883261\n",
       "4  0.354095  0.181643  0.756464 -1.859161 -0.685865 -1.371730"
      ]
     },
     "execution_count": 103,
     "metadata": {},
     "output_type": "execute_result"
    }
   ],
   "source": [
    "my_df.drop('indigo', axis=1)"
   ]
  },
  {
   "cell_type": "code",
   "execution_count": 105,
   "id": "e5144879-7f44-4053-a5c2-d82552546439",
   "metadata": {},
   "outputs": [
    {
     "data": {
      "text/html": [
       "<div>\n",
       "<style scoped>\n",
       "    .dataframe tbody tr th:only-of-type {\n",
       "        vertical-align: middle;\n",
       "    }\n",
       "\n",
       "    .dataframe tbody tr th {\n",
       "        vertical-align: top;\n",
       "    }\n",
       "\n",
       "    .dataframe thead th {\n",
       "        text-align: right;\n",
       "    }\n",
       "</style>\n",
       "<table border=\"1\" class=\"dataframe\">\n",
       "  <thead>\n",
       "    <tr style=\"text-align: right;\">\n",
       "      <th></th>\n",
       "      <th>yellow</th>\n",
       "      <th>orange</th>\n",
       "      <th>red</th>\n",
       "      <th>green</th>\n",
       "      <th>blue</th>\n",
       "      <th>indigo</th>\n",
       "      <th>violet</th>\n",
       "    </tr>\n",
       "  </thead>\n",
       "  <tbody>\n",
       "    <tr>\n",
       "      <th>1</th>\n",
       "      <td>0.707580</td>\n",
       "      <td>-0.251833</td>\n",
       "      <td>0.037338</td>\n",
       "      <td>-0.731220</td>\n",
       "      <td>-1.516413</td>\n",
       "      <td>-1.516413</td>\n",
       "      <td>-3.032826</td>\n",
       "    </tr>\n",
       "    <tr>\n",
       "      <th>2</th>\n",
       "      <td>0.185302</td>\n",
       "      <td>0.353897</td>\n",
       "      <td>-0.147961</td>\n",
       "      <td>2.317719</td>\n",
       "      <td>-0.441630</td>\n",
       "      <td>-0.441630</td>\n",
       "      <td>-0.883261</td>\n",
       "    </tr>\n",
       "    <tr>\n",
       "      <th>4</th>\n",
       "      <td>0.354095</td>\n",
       "      <td>0.181643</td>\n",
       "      <td>0.756464</td>\n",
       "      <td>-1.859161</td>\n",
       "      <td>-0.685865</td>\n",
       "      <td>-0.685865</td>\n",
       "      <td>-1.371730</td>\n",
       "    </tr>\n",
       "  </tbody>\n",
       "</table>\n",
       "</div>"
      ],
      "text/plain": [
       "     yellow    orange       red     green      blue    indigo    violet\n",
       "1  0.707580 -0.251833  0.037338 -0.731220 -1.516413 -1.516413 -3.032826\n",
       "2  0.185302  0.353897 -0.147961  2.317719 -0.441630 -0.441630 -0.883261\n",
       "4  0.354095  0.181643  0.756464 -1.859161 -0.685865 -0.685865 -1.371730"
      ]
     },
     "execution_count": 105,
     "metadata": {},
     "output_type": "execute_result"
    }
   ],
   "source": [
    "my_df"
   ]
  },
  {
   "cell_type": "code",
   "execution_count": 111,
   "id": "380a5f21-ed04-48c2-a420-f3ef7b91ceec",
   "metadata": {},
   "outputs": [],
   "source": [
    "my_df.drop('indigo', axis=1, inplace=True)"
   ]
  },
  {
   "cell_type": "code",
   "execution_count": 113,
   "id": "6c45c541-0efa-4d73-affa-7940108b36b1",
   "metadata": {},
   "outputs": [
    {
     "data": {
      "text/html": [
       "<div>\n",
       "<style scoped>\n",
       "    .dataframe tbody tr th:only-of-type {\n",
       "        vertical-align: middle;\n",
       "    }\n",
       "\n",
       "    .dataframe tbody tr th {\n",
       "        vertical-align: top;\n",
       "    }\n",
       "\n",
       "    .dataframe thead th {\n",
       "        text-align: right;\n",
       "    }\n",
       "</style>\n",
       "<table border=\"1\" class=\"dataframe\">\n",
       "  <thead>\n",
       "    <tr style=\"text-align: right;\">\n",
       "      <th></th>\n",
       "      <th>yellow</th>\n",
       "      <th>orange</th>\n",
       "      <th>red</th>\n",
       "      <th>green</th>\n",
       "      <th>blue</th>\n",
       "      <th>violet</th>\n",
       "    </tr>\n",
       "  </thead>\n",
       "  <tbody>\n",
       "    <tr>\n",
       "      <th>1</th>\n",
       "      <td>0.707580</td>\n",
       "      <td>-0.251833</td>\n",
       "      <td>0.037338</td>\n",
       "      <td>-0.731220</td>\n",
       "      <td>-1.516413</td>\n",
       "      <td>-3.032826</td>\n",
       "    </tr>\n",
       "    <tr>\n",
       "      <th>2</th>\n",
       "      <td>0.185302</td>\n",
       "      <td>0.353897</td>\n",
       "      <td>-0.147961</td>\n",
       "      <td>2.317719</td>\n",
       "      <td>-0.441630</td>\n",
       "      <td>-0.883261</td>\n",
       "    </tr>\n",
       "    <tr>\n",
       "      <th>4</th>\n",
       "      <td>0.354095</td>\n",
       "      <td>0.181643</td>\n",
       "      <td>0.756464</td>\n",
       "      <td>-1.859161</td>\n",
       "      <td>-0.685865</td>\n",
       "      <td>-1.371730</td>\n",
       "    </tr>\n",
       "  </tbody>\n",
       "</table>\n",
       "</div>"
      ],
      "text/plain": [
       "     yellow    orange       red     green      blue    violet\n",
       "1  0.707580 -0.251833  0.037338 -0.731220 -1.516413 -3.032826\n",
       "2  0.185302  0.353897 -0.147961  2.317719 -0.441630 -0.883261\n",
       "4  0.354095  0.181643  0.756464 -1.859161 -0.685865 -1.371730"
      ]
     },
     "execution_count": 113,
     "metadata": {},
     "output_type": "execute_result"
    }
   ],
   "source": [
    "my_df"
   ]
  },
  {
   "cell_type": "markdown",
   "id": "8e26ec57-40bd-4508-8624-0bef2b76ddc2",
   "metadata": {},
   "source": [
    "it's tupple"
   ]
  },
  {
   "cell_type": "code",
   "execution_count": 116,
   "id": "60ea7a25-ec5a-4f1d-9fac-7ea02198bc8f",
   "metadata": {},
   "outputs": [
    {
     "data": {
      "text/plain": [
       "(3, 6)"
      ]
     },
     "execution_count": 116,
     "metadata": {},
     "output_type": "execute_result"
    }
   ],
   "source": [
    "my_df.shape"
   ]
  },
  {
   "cell_type": "code",
   "execution_count": null,
   "id": "1544c5b0-017a-4334-b24d-827d6e4babca",
   "metadata": {},
   "outputs": [],
   "source": []
  }
 ],
 "metadata": {
  "kernelspec": {
   "display_name": "anaconda-2024.02-py310",
   "language": "python",
   "name": "conda-env-anaconda-2024.02-py310-py"
  },
  "language_info": {
   "codemirror_mode": {
    "name": "ipython",
    "version": 3
   },
   "file_extension": ".py",
   "mimetype": "text/x-python",
   "name": "python",
   "nbconvert_exporter": "python",
   "pygments_lexer": "ipython3",
   "version": "3.10.14"
  }
 },
 "nbformat": 4,
 "nbformat_minor": 5
}
