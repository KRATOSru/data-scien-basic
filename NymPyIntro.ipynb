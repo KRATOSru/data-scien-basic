{
 "cells": [
  {
   "cell_type": "code",
   "execution_count": 1,
   "id": "0dc9b698-c3af-44bf-b5ff-a4bc8738c031",
   "metadata": {},
   "outputs": [
    {
     "data": {
      "text/plain": [
       "array([1, 2, 3])"
      ]
     },
     "execution_count": 1,
     "metadata": {},
     "output_type": "execute_result"
    }
   ],
   "source": [
    "import numpy as np\n",
    "np.array([1, 2, 3])"
   ]
  },
  {
   "cell_type": "code",
   "execution_count": 3,
   "id": "94c15442-8965-492c-a585-d16173c7acec",
   "metadata": {},
   "outputs": [
    {
     "data": {
      "text/plain": [
       "array([3, 5, 8, 2])"
      ]
     },
     "execution_count": 3,
     "metadata": {},
     "output_type": "execute_result"
    }
   ],
   "source": [
    "odd_number_list = [3, 5, 8, 2]\n",
    "np.array(odd_number_list)"
   ]
  },
  {
   "cell_type": "code",
   "execution_count": null,
   "id": "c273133a-1764-4517-b3b5-7dbbb014d041",
   "metadata": {},
   "outputs": [],
   "source": [
    "two_dim_list = [[1,1,1], [2,2,2], [3,3,3]]\n",
    "np.array(two_dim_list)"
   ]
  },
  {
   "cell_type": "markdown",
   "id": "81fb5512-c3ec-4834-8b0a-deaf63f2d7ec",
   "metadata": {},
   "source": [
    "# arange function . \n",
    "shift + tab ()\n",
    "alt + enter"
   ]
  },
  {
   "cell_type": "code",
   "execution_count": 18,
   "id": "546357eb-1976-447c-8157-5039e15807e8",
   "metadata": {},
   "outputs": [
    {
     "data": {
      "text/plain": [
       "array([0, 1, 2, 3, 4, 5, 6, 7, 8])"
      ]
     },
     "execution_count": 18,
     "metadata": {},
     "output_type": "execute_result"
    }
   ],
   "source": [
    "np.arange(0 , 9)"
   ]
  },
  {
   "cell_type": "code",
   "execution_count": 20,
   "id": "548f74a9-0457-4715-a8fc-0b9f13d6874d",
   "metadata": {},
   "outputs": [
    {
     "data": {
      "text/plain": [
       "array([0, 2, 4, 6, 8])"
      ]
     },
     "execution_count": 20,
     "metadata": {},
     "output_type": "execute_result"
    }
   ],
   "source": [
    "np.arange(0, 9, 2)"
   ]
  },
  {
   "cell_type": "code",
   "execution_count": null,
   "id": "94f9dfc0-ba59-4058-8947-fdf85ce0fba2",
   "metadata": {},
   "outputs": [],
   "source": []
  }
 ],
 "metadata": {
  "kernelspec": {
   "display_name": "venv",
   "language": "python",
   "name": "python3"
  },
  "language_info": {
   "codemirror_mode": {
    "name": "ipython",
    "version": 3
   },
   "file_extension": ".py",
   "mimetype": "text/x-python",
   "name": "python",
   "nbconvert_exporter": "python",
   "pygments_lexer": "ipython3",
   "version": "3.12.3"
  }
 },
 "nbformat": 4,
 "nbformat_minor": 5
}
